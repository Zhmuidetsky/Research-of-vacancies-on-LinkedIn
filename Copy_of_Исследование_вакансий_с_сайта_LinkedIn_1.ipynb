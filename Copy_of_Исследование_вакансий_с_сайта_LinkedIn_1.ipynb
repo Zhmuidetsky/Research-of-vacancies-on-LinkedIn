{
  "cells": [
    {
      "cell_type": "markdown",
      "id": "4afc8590",
      "metadata": {
        "id": "4afc8590"
      },
      "source": [
        "# **Проект исследования вакансий Junior аналитиков с сайта LinkedIn**"
      ]
    },
    {
      "cell_type": "markdown",
      "source": [
        " **$\\color{blue}{\\text{КОММЕНТАРИЙ}}$**\n",
        "\n",
        "Привет, Евгений Меня зовут Катя и я проведу ревью твоей работы"
      ],
      "metadata": {
        "id": "V3ScYS0CUexV"
      },
      "id": "V3ScYS0CUexV"
    },
    {
      "cell_type": "markdown",
      "id": "57777595",
      "metadata": {
        "id": "57777595"
      },
      "source": [
        "## **Цель исследования**\n",
        "\n",
        "Визуализировать информацию о рынке вакансий для аналитиков в Европе, в разрезе:\n",
        "- по стране и по типу занятости\n",
        "- общее количество вакансий\n",
        "- нанимающих компаний с указанием количества вакансий,\n",
        "- ТОП 10 сфер деятельности компаний, которые нанимают аналитиков\n",
        "- размер компаний и количество вакансий\n",
        "- требуемые хард скилы\n",
        "- Дополнительно (необязательно) - зависимость количества кандидатов на вакансию от даты публикации\n"
      ]
    },
    {
      "cell_type": "markdown",
      "id": "ffee1f99",
      "metadata": {
        "id": "ffee1f99"
      },
      "source": [
        "### **Описание  данных:**\n",
        "\n",
        "Предоставлен датасет с сырыми данными после парсинга сайта LinkedIn, который необходимо обработать и создать датасет, содержащий:\n",
        "- наименование вакансии\n",
        "- город\n",
        "- страна\n",
        "- тип занятости (online, hybride, on-site)\n",
        "- компания\n",
        "- размер компании (количество работников)\n",
        "- сфера деятельности компании\n",
        "- требуемые хард скилы\n",
        "- дата публикации вакансии\n",
        "- количество кандидатов на вакансию"
      ]
    },
    {
      "cell_type": "markdown",
      "id": "a07697a4",
      "metadata": {
        "id": "a07697a4"
      },
      "source": [
        "### **План исследования**\n",
        "\n",
        "Работать будем в следующем порядке:\n",
        "- импорт данных\n",
        "- детальный анализ одной страницы сайта из файла, а также непосредственно на сайте\n",
        "- поиск тегов и классов для выделения требуемой информации\n",
        "- выделение требуемой информации в отдельные столбцы\n",
        "- выделение информации из столбцов\n",
        "- удаление дубликатов и ненужных столбцов\n",
        "\n",
        "- создание дашборда"
      ]
    },
    {
      "cell_type": "markdown",
      "source": [
        " **$\\color{blue}{\\text{КОММЕНТАРИЙ}}$**\n",
        "\n",
        "Очень классно что ты оформляешь проект как надо - с названием, описениаем данных, целью, шагами исследования"
      ],
      "metadata": {
        "id": "irGoFd0zUiYJ"
      },
      "id": "irGoFd0zUiYJ"
    },
    {
      "cell_type": "code",
      "execution_count": null,
      "id": "c43ef9fa",
      "metadata": {
        "id": "c43ef9fa"
      },
      "outputs": [],
      "source": [
        "# перед началом работы импортируем библиотеки, которые могут понадобиться в работе над проектом\n",
        "\n",
        "import pandas as pd\n",
        "import math\n",
        "import numpy as np\n",
        "from matplotlib import pyplot as plt\n",
        "import seaborn as sns\n",
        "import scipy.stats as stats\n",
        "from urllib.parse import urlencode \n",
        "import re\n",
        "import requests\n",
        "from calendar import day_name\n",
        "import plotly\n",
        "import plotly.graph_objects as go\n",
        "import plotly.express as px\n",
        "\n",
        "%matplotlib inline"
      ]
    },
    {
      "cell_type": "code",
      "execution_count": null,
      "id": "4dfb8c3f",
      "metadata": {
        "id": "4dfb8c3f"
      },
      "outputs": [],
      "source": [
        "from bs4 import BeautifulSoup\n",
        "import html5lib"
      ]
    },
    {
      "cell_type": "code",
      "execution_count": null,
      "id": "4390173d",
      "metadata": {
        "id": "4390173d"
      },
      "outputs": [],
      "source": [
        "# установим неограниченную ширину колонок датафреймов\n",
        "pd.set_option('display.max_colwidth', None)"
      ]
    },
    {
      "cell_type": "markdown",
      "id": "1fcbd92d",
      "metadata": {
        "id": "1fcbd92d"
      },
      "source": [
        "## **Импорт данных**"
      ]
    },
    {
      "cell_type": "code",
      "execution_count": null,
      "id": "dfd27a16",
      "metadata": {
        "scrolled": true,
        "id": "dfd27a16"
      },
      "outputs": [],
      "source": [
        "# используя конструкцию try-ecxept для возможности открыть локально и с внешнего источника\n",
        "# для загрузки сразу в датафрейм\n",
        "try:\n",
        "    raw_df = pd.read_csv(r'C:\\Users\\ezhmui04\\Documents\\Поиск работы\\Тестовые задания\\masterskaya_parsing_LinkedIn_2023_05_23.csv')\n",
        "    \n",
        "except:\n",
        "\n",
        "    # используем api\n",
        "    base_url = 'https://cloud-api.yandex.net/v1/disk/public/resources/download?'\n",
        "    public_key = 'https://disk.yandex.ru/d/gsL7aCpUvlysoQ'\n",
        "    # получаем url\n",
        "    final_url = base_url + urlencode(dict(public_key=public_key))\n",
        "    response = requests.get(final_url)\n",
        "    download_url = response.json()['href']\n",
        "    # загружаем файл в df\n",
        "    download_response = requests.get(download_url)\n",
        "    raw_df = pd.read_csv(download_url)"
      ]
    },
    {
      "cell_type": "markdown",
      "source": [
        " **$\\color{blue}{\\text{КОММЕНТАРИЙ}}$**\n",
        "\n",
        "Здорово Кстати с гугл диска гораздо проще читать файлы"
      ],
      "metadata": {
        "id": "9DO0wzmyVCCR"
      },
      "id": "9DO0wzmyVCCR"
    },
    {
      "cell_type": "code",
      "execution_count": null,
      "id": "55c35a93",
      "metadata": {
        "id": "55c35a93",
        "outputId": "89194770-c88e-43aa-d313-fec9a8c39183"
      },
      "outputs": [
        {
          "data": {
            "text/html": [
              "<div>\n",
              "<style scoped>\n",
              "    .dataframe tbody tr th:only-of-type {\n",
              "        vertical-align: middle;\n",
              "    }\n",
              "\n",
              "    .dataframe tbody tr th {\n",
              "        vertical-align: top;\n",
              "    }\n",
              "\n",
              "    .dataframe thead th {\n",
              "        text-align: right;\n",
              "    }\n",
              "</style>\n",
              "<table border=\"1\" class=\"dataframe\">\n",
              "  <thead>\n",
              "    <tr style=\"text-align: right;\">\n",
              "      <th></th>\n",
              "      <th>Unnamed: 0</th>\n",
              "      <th>html</th>\n",
              "    </tr>\n",
              "  </thead>\n",
              "  <tbody>\n",
              "    <tr>\n",
              "      <th>0</th>\n",
              "      <td>0</td>\n",
              "      <td>\\n  &lt;div&gt;\\n    &lt;div class=\"\\n        jobs-details__main-content jobs-details__main-content--single-pane full-width\\n        \"&gt;\\n        \\n&lt;!----&gt;\\n      \\n      &lt;div&gt;\\n        &lt;div class=\"jobs-unified-top-card t-14\"&gt;\\n&lt;!----&gt;  &lt;div class=\"relative\\n      jobs-unified-top-card__container--two-pane\"&gt;\\n\\n    &lt;div class=\"jobs-unified-top-card__content--two-pane\"&gt;\\n&lt;!----&gt;\\n        &lt;a href=\"/jobs/view/3609065367/?alternateChannel=search&amp;amp;refId=AxoCJAz0Vnn3xzCIlNO7ng%3D%3D&amp;amp;trackingId=mdZWGb64G6DZP8qCAPQ%2BmQ%3D%3D&amp;amp;trk=d_flagship3_search_srp_jobs\" id=\"ember425\" class=\"ember-view\"&gt;\\n          &lt;h2 class=\"t-24 t-bold jobs-unified-top-card__job-title\"&gt;Data Analyst&lt;/h2&gt;\\n        &lt;/a&gt;\\n\\n      &lt;div class=\"jobs-unified-top-card__primary-description\"&gt;\\n          &lt;span class=\"jobs-unified-top-card__subtitle-primary-grouping t-black\"&gt;\\n            &lt;span class=\"jobs-unified-top-card__company-name\"&gt;\\n                  &lt;a href=\"/company/pharmiweb-jobs/life/\" id=\"ember426\" class=\"ember-view t-black t-normal\"&gt;\\n                    PharmiWeb.Jobs: Global Life Science Jobs\\n                  &lt;/a&gt;\\n            &lt;/span&gt;\\n              &lt;span class=\"jobs-unified-top-card__bullet\"&gt;\\n                Basel, Basel, Switzerland\\n              &lt;/span&gt;\\n\\n              &lt;span class=\"jobs-unified-top-card__workplace-type\"&gt;On-site&lt;/span&gt;\\n          &lt;/span&gt;\\n          &lt;span class=\"jobs-unified-top-card__subtitle-secondary-grouping t-black--light\"&gt;\\n              &lt;span class=\"jobs-unified-top-card__posted-date\\n                  \"&gt;\\n                1 week ago\\n              &lt;/span&gt;\\n                &lt;span class=\"jobs-unified-top-card__bullet\"&gt;\\n                    &lt;span class=\"jobs-unified-top-card__applicant-count\\n                        \"&gt;\\n                      47 applicants\\n                    &lt;/span&gt;\\n                &lt;/span&gt;\\n          &lt;/span&gt;\\n      &lt;/div&gt;\\n\\n      &lt;div class=\"mt5 mb2\"&gt;\\n          &lt;ul&gt;\\n                &lt;li class=\"jobs-unified-top-card__job-insight\"&gt;\\n                  &lt;div class=\"flex-shrink-zero mr2 t-black--light\"&gt;\\n                    \\n    &lt;div class=\"ivm-image-view-model   \"&gt;\\n        \\n    &lt;div class=\"ivm-view-attr__img-wrapper ivm-view-attr__img-wrapper--use-img-tag display-flex\\n        \\n        \"&gt;\\n        &lt;li-icon aria-hidden=\"true\" type=\"job\" class=\" \" size=\"large\"&gt;&lt;svg xmlns=\"http://www.w3.org/2000/svg\" viewBox=\"0 0 24 24\" data-supported-dps=\"24x24\" fill=\"currentColor\" class=\"mercado-match\" width=\"24\" height=\"24\" focusable=\"false\"&gt;\\n  &lt;path d=\"M17 6V5a3 3 0 00-3-3h-4a3 3 0 00-3 3v1H2v4a3 3 0 003 3h14a3 3 0 003-3V6zM9 5a1 1 0 011-1h4a1 1 0 011 1v1H9zm10 9a4 4 0 003-1.38V17a3 3 0 01-3 3H5a3 3 0 01-3-3v-4.38A4 4 0 005 14z\"&gt;&lt;/path&gt;\\n&lt;/svg&gt;&lt;/li-icon&gt;\\n    &lt;/div&gt;\\n  \\n          &lt;/div&gt;\\n  \\n                  &lt;/div&gt;\\n                  &lt;span&gt;\\n                    &lt;!----&gt;Full-time · Entry level&lt;!----&gt;\\n                  &lt;/span&gt;\\n                &lt;/li&gt;\\n                &lt;li class=\"jobs-unified-top-card__job-insight\"&gt;\\n                  &lt;div class=\"flex-shrink-zero mr2 t-black--light\"&gt;\\n                    \\n    &lt;div class=\"ivm-image-view-model   \"&gt;\\n        \\n    &lt;div class=\"ivm-view-attr__img-wrapper ivm-view-attr__img-wrapper--use-img-tag display-flex\\n        \\n        \"&gt;\\n        &lt;li-icon aria-hidden=\"true\" type=\"company\" class=\" \" size=\"large\"&gt;&lt;svg xmlns=\"http://www.w3.org/2000/svg\" viewBox=\"0 0 24 24\" data-supported-dps=\"24x24\" fill=\"currentColor\" class=\"mercado-match\" width=\"24\" height=\"24\" focusable=\"false\"&gt;\\n  &lt;path d=\"M4 2v20h16V2zm14 18h-4v-2h-4v2H6V4h12zm-7-8H8v-2h3zm0 4H8v-2h3zm5-4h-3v-2h3zm-5-4H8V6h3zm5 0h-3V6h3zm0 8h-3v-2h3z\"&gt;&lt;/path&gt;\\n&lt;/svg&gt;&lt;/li-icon&gt;\\n    &lt;/div&gt;\\n  \\n          &lt;/div&gt;\\n  \\n                  &lt;/div&gt;\\n                  &lt;span&gt;\\n                    &lt;!----&gt;11-50 employees · Staffing and Recruiting&lt;!----&gt;\\n                  &lt;/span&gt;\\n                &lt;/li&gt;\\n                    &lt;li class=\"jobs-unified-top-card__job-insight jobs-unified-top-card__job-insight--highlight\"&gt;\\n                      &lt;div class=\"flex-shrink-zero mr2 t-black--light\"&gt;\\n                        \\n    &lt;div class=\"ivm-image-view-model   \"&gt;\\n        \\n    &lt;div class=\"ivm-view-attr__img-wrapper ivm-view-attr__img-wrapper--use-img-tag display-flex\\n        \\n        \"&gt;\\n        &lt;li-icon aria-hidden=\"true\" type=\"lightbulb\" class=\" \" size=\"medium\"&gt;&lt;svg xmlns=\"http://www.w3.org/2000/svg\" viewBox=\"0 0 24 24\" data-supported-dps=\"24x24\" fill=\"currentColor\" class=\"mercado-match\" width=\"24\" height=\"24\" focusable=\"false\"&gt;\\n  &lt;path d=\"M10 20h4v.1a1.9 1.9 0 01-1.9 1.9h-.2a1.9 1.9 0 01-1.9-1.9zm4.68-14.47A1 1 0 0016 5l.76-1.85a1 1 0 00-.54-1.3 1 1 0 00-1.31.54l-.76 1.85a1 1 0 00.53 1.29zm5.09 4.33l1.85-.76a1 1 0 00.54-1.31 1 1 0 00-1.3-.54L19 8a1 1 0 00-.54 1.31 1 1 0 001.3.55zM4.23 14.14l-1.85.76a1 1 0 00-.54 1.31 1 1 0 001.3.54L5 16a1 1 0 00.54-1.31 1 1 0 00-1.3-.55zm17.39.76l-1.85-.76A1 1 0 0019 16l1.85.76a1 1 0 00.78-1.86zM5 8l-1.86-.75a1 1 0 00-1.3.54 1 1 0 00.54 1.31l1.85.76A1 1 0 005 8zm3-3a1 1 0 001.31.54 1 1 0 00.54-1.3L9.1 2.38a1 1 0 00-1.31-.54 1 1 0 00-.54 1.3zm9 6.91V12a5.48 5.48 0 01-1.61 3.88l-.07.08a3.94 3.94 0 00-1.08 1.94L14 19h-4l-.24-1.08A4 4 0 008.68 16l-.07-.07A5.51 5.51 0 017 12v-.1A4.9 4.9 0 0111.9 7h.2a4.9 4.9 0 014.9 4.9zm-2 0A2.9 2.9 0 0012.11 9h-.21A2.9 2.9 0 009 11.9v.1a3.47 3.47 0 001 2.47l.08.08a5.92 5.92 0 011.5 2.45h.84a6 6 0 011.48-2.44l.08-.07A3.48 3.48 0 0015 12z\"&gt;&lt;/path&gt;\\n&lt;/svg&gt;&lt;/li-icon&gt;\\n    &lt;/div&gt;\\n  \\n          &lt;/div&gt;\\n  \\n                      &lt;/div&gt;\\n                      &lt;span&gt;\\n                        &lt;!----&gt;See how you compare to 47 applicants.&lt;span class=\"white-space-pre\"&gt; &lt;/span&gt;&lt;a class=\"app-aware-link \" target=\"_self\" href=\"https://www.linkedin.com/premium/products/?family=JSS&amp;amp;upsellOrderOrigin=premium_job_details_summary_card&amp;amp;utype=job&amp;amp;referenceId=3R6Cu%2BKoQoKRyTOVoqW5BA%3D%3D\" data-test-app-aware-link=\"\"&gt;&lt;!----&gt;Try Premium for free&lt;!----&gt;&lt;/a&gt;\\n                      &lt;/span&gt;\\n                    &lt;/li&gt;\\n          &lt;/ul&gt;\\n              &lt;/div&gt;\\n\\n      &lt;div class=\"mt5\"&gt;\\n          &lt;div class=\"display-flex\"&gt;\\n              &lt;div class=\"jobs-s-apply jobs-s-apply--fadein inline-flex mr2\"&gt;\\n    &lt;div class=\"jobs-apply-button--top-card\"&gt;\\n  &lt;button role=\"link\" aria-label=\"Apply to Data Analyst on company website\" id=\"ember852\" class=\"jobs-apply-button artdeco-button artdeco-button--icon-right artdeco-button--3 artdeco-button--primary ember-view\"&gt;  &lt;li-icon aria-hidden=\"true\" type=\"link-external\" class=\"artdeco-button__icon\" size=\"small\"&gt;&lt;svg xmlns=\"http://www.w3.org/2000/svg\" viewBox=\"0 0 16 16\" data-supported-dps=\"16x16\" fill=\"currentColor\" class=\"mercado-match\" width=\"16\" height=\"16\" focusable=\"false\"&gt;\\n  &lt;path d=\"M15 1v6h-2V4.41L7.41 10 6 8.59 11.59 3H9V1zm-4 10a1 1 0 01-1 1H5a1 1 0 01-1-1V6a1 1 0 011-1h2V3H5a3 3 0 00-3 3v5a3 3 0 003 3h5a3 3 0 003-3V9h-2z\"&gt;&lt;/path&gt;\\n&lt;/svg&gt;&lt;/li-icon&gt;\\n\\n&lt;span class=\"artdeco-button__text\"&gt;\\n    Apply\\n&lt;/span&gt;&lt;/button&gt;\\n&lt;/div&gt;\\n&lt;/div&gt;\\n\\n              &lt;span class=\"visibility-hidden\"&gt;&lt;/span&gt;\\n              &lt;button class=\"jobs-save-button artdeco-button artdeco-button--3 artdeco-button--secondary\" type=\"button\"&gt;\\n&lt;!----&gt;      &lt;span aria-hidden=\"true\"&gt;\\n        Save\\n      &lt;/span&gt;\\n    &lt;span class=\"a11y-text\"&gt;\\n      Save Data Analyst at PharmiWeb.Jobs: Global Life Science Jobs\\n    &lt;/span&gt;\\n&lt;/button&gt;\\n          &lt;/div&gt;\\n\\n&lt;!----&gt;\\n&lt;!----&gt;&lt;!----&gt;      &lt;/div&gt;\\n\\n&lt;!----&gt;\\n&lt;!----&gt;\\n&lt;!----&gt;&lt;!----&gt;\\n&lt;!----&gt;    &lt;/div&gt;\\n\\n&lt;!----&gt;\\n&lt;!----&gt;\\n    &lt;div class=\"jobs-unified-top-card__buttons-container absolute\"&gt;\\n      &lt;div class=\"display-flex flex-column\"&gt;\\n        &lt;div class=\"display-flex justify-flex-end\"&gt;\\n            &lt;div id=\"ember427\" class=\"artdeco-dropdown artdeco-dropdown--placement-bottom artdeco-dropdown--justification-right ember-view\"&gt;\\n    &lt;button aria-expanded=\"false\" aria-label=\"Share\" id=\"ember428\" class=\"social-share__dropdown-trigger artdeco-button artdeco-button--3 artdeco-button--tertiary artdeco-button--circle artdeco-button--muted artdeco-dropdown__trigger artdeco-dropdown__trigger--placement-bottom ember-view\" type=\"button\" tabindex=\"0\"&gt;\\n      &lt;li-icon aria-hidden=\"true\" type=\"share-linkedin\" class=\"artdeco-button__icon\" size=\"medium\"&gt;&lt;svg xmlns=\"http://www.w3.org/2000/svg\" viewBox=\"0 0 24 24\" data-supported-dps=\"24x24\" fill=\"currentColor\" class=\"mercado-match\" width=\"24\" height=\"24\" focusable=\"false\"&gt;\\n  &lt;path d=\"M23 12l-4.61 7H16l4-6H8a3.92 3.92 0 00-4 3.84V17a4 4 0 00.19 1.24L5.12 21H3l-.73-2.22A6.4 6.4 0 012 16.94 6 6 0 018 11h12l-4-6h2.39z\"&gt;&lt;/path&gt;\\n&lt;/svg&gt;&lt;/li-icon&gt;\\n      &lt;span class=\"artdeco-button__text\"&gt;Share&lt;/span&gt;\\n    \\n&lt;!----&gt;&lt;/button&gt;\\n\\n  &lt;div tabindex=\"-1\" aria-hidden=\"true\" id=\"ember429\" class=\"social-share__content text-align-left artdeco-dropdown__content artdeco-dropdown--is-dropdown-element artdeco-dropdown__content--has-arrow artdeco-dropdown__content--arrow-right artdeco-dropdown__content--justification-right artdeco-dropdown__content--placement-bottom ember-view\"&gt;&lt;!----&gt;&lt;/div&gt;\\n&lt;/div&gt;\\n\\n&lt;div&gt;\\n    \\n&lt;!----&gt;  \\n\\n&lt;/div&gt;\\n\\n&lt;!----&gt;\\n\\n&lt;!----&gt;\\n            &lt;div id=\"ember430\" class=\"artdeco-dropdown jobs-options artdeco-dropdown--placement-bottom artdeco-dropdown--justification-right ember-view\"&gt;\\n  \\n              &lt;button aria-expanded=\"false\" id=\"ember431\" class=\"artdeco-button artdeco-button--3 artdeco-button--tertiary artdeco-button--muted artdeco-button--circle artdeco-dropdown__trigger artdeco-dropdown__trigger--placement-bottom ember-view\" type=\"button\" tabindex=\"0\"&gt;\\n                &lt;li-icon aria-hidden=\"true\" type=\"overflow-web-ios\" class=\"artdeco-button__icon\"&gt;&lt;svg xmlns=\"http://www.w3.org/2000/svg\" viewBox=\"0 0 24 24\" data-supported-dps=\"24x24\" fill=\"currentColor\" class=\"mercado-match\" width=\"24\" height=\"24\" focusable=\"false\"&gt;\\n  &lt;path d=\"M14 12a2 2 0 11-2-2 2 2 0 012 2zM4 10a2 2 0 102 2 2 2 0 00-2-2zm16 0a2 2 0 102 2 2 2 0 00-2-2z\"&gt;&lt;/path&gt;\\n&lt;/svg&gt;&lt;/li-icon&gt;\\n                &lt;span class=\"artdeco-button__text\"&gt;\\n                  Show more options\\n                &lt;/span&gt;\\n              \\n&lt;!----&gt;&lt;/button&gt;\\n            \\n  &lt;div tabindex=\"-1\" aria-hidden=\"true\" id=\"ember432\" class=\"artdeco-dropdown__content artdeco-dropdown--is-dropdown-element artdeco-dropdown__content--has-arrow artdeco-dropdown__content--arrow-right artdeco-dropdown__content--justification-right artdeco-dropdown__content--placement-bottom ember-view\"&gt;&lt;!----&gt;&lt;/div&gt;\\n&lt;/div&gt;\\n        &lt;/div&gt;\\n&lt;!----&gt;      &lt;/div&gt;\\n    &lt;/div&gt;\\n  &lt;/div&gt;\\n    &lt;div class=\"jobs-unified-top-card__sticky-header\\n        jobs-unified-top-card__sticky-header--disabled\"&gt;\\n      &lt;div class=\"jobs-unified-top-card__title-container\"&gt;\\n          &lt;a data-control-id=\"mdZWGb64G6DZP8qCAPQ+mQ==\" href=\"/jobs/view/3609065367/?alternateChannel=search&amp;amp;refId=AxoCJAz0Vnn3xzCIlNO7ng%3D%3D&amp;amp;trackingId=mdZWGb64G6DZP8qCAPQ%2BmQ%3D%3D&amp;amp;trk=d_flagship3_search_srp_jobs\" id=\"ember433\" class=\"ember-view\"&gt;\\n            &lt;h2 class=\"t-16 t-black t-bold truncate\"&gt;\\n              Data Analyst\\n            &lt;/h2&gt;\\n          &lt;/a&gt;\\n        &lt;div class=\"t-14 truncate\"&gt;\\n          &lt;span&gt;PharmiWeb.Jobs: Global Life Science Jobs&lt;/span&gt;\\n            &lt;span class=\"jobs-unified-top-card__bullet\"&gt;Basel, Basel, Switzerland&lt;/span&gt;\\n            &lt;span class=\"jobs-unified-top-card__workplace-type\"&gt;On-site&lt;/span&gt;\\n        &lt;/div&gt;\\n      &lt;/div&gt;\\n      &lt;div class=\"jobs-unified-top-card__sticky-buttons-container\"&gt;\\n          &lt;div class=\"jobs-s-apply jobs-s-apply--fadein inline-flex mr2\"&gt;\\n    &lt;div class=\"jobs-apply-button--top-card\"&gt;\\n  &lt;button role=\"link\" aria-label=\"Apply to Data Analyst on company website\" id=\"ember853\" class=\"jobs-apply-button artdeco-button artdeco-button--icon-right artdeco-button--2 artdeco-button--primary ember-view\"&gt;  &lt;li-icon aria-hidden=\"true\" type=\"link-external\" class=\"artdeco-button__icon\" size=\"small\"&gt;&lt;svg xmlns=\"http://www.w3.org/2000/svg\" viewBox=\"0 0 16 16\" data-supported-dps=\"16x16\" fill=\"currentColor\" class=\"mercado-match\" width=\"16\" height=\"16\" focusable=\"false\"&gt;\\n  &lt;path d=\"M15 1v6h-2V4.41L7.41 10 6 8.59 11.59 3H9V1zm-4 10a1 1 0 01-1 1H5a1 1 0 01-1-1V6a1 1 0 011-1h2V3H5a3 3 0 00-3 3v5a3 3 0 003 3h5a3 3 0 003-3V9h-2z\"&gt;&lt;/path&gt;\\n&lt;/svg&gt;&lt;/li-icon&gt;\\n\\n&lt;span class=\"artdeco-button__text\"&gt;\\n    Apply\\n&lt;/span&gt;&lt;/button&gt;\\n&lt;/div&gt;\\n&lt;/div&gt;\\n\\n          &lt;button class=\"jobs-save-button mr2 artdeco-button artdeco-button--2 artdeco-button--secondary\" aria-expanded=\"false\" type=\"button\"&gt;\\n&lt;!----&gt;      &lt;span aria-hidden=\"true\"&gt;\\n        Save\\n      &lt;/span&gt;\\n    &lt;span class=\"a11y-text\"&gt;\\n      Save Data Analyst at PharmiWeb.Jobs: Global Life Science Jobs\\n    &lt;/span&gt;\\n&lt;/button&gt;\\n\\n        &lt;div id=\"ember434\" class=\"artdeco-dropdown jobs-options artdeco-dropdown--placement-bottom artdeco-dropdown--justification-right ember-view inline-flex\"&gt;\\n  \\n          &lt;button aria-expanded=\"false\" id=\"ember435\" class=\"artdeco-button artdeco-button--2 artdeco-button--tertiary artdeco-button--muted artdeco-button--circle artdeco-dropdown__trigger artdeco-dropdown__trigger--placement-bottom ember-view\" type=\"button\" tabindex=\"0\"&gt;\\n\\n            &lt;li-icon aria-hidden=\"true\" type=\"overflow-web-ios\" class=\"artdeco-button__icon\"&gt;&lt;svg xmlns=\"http://www.w3.org/2000/svg\" viewBox=\"0 0 24 24\" data-supported-dps=\"24x24\" fill=\"currentColor\" class=\"mercado-match\" width=\"24\" height=\"24\" focusable=\"false\"&gt;\\n  &lt;path d=\"M14 12a2 2 0 11-2-2 2 2 0 012 2zM4 10a2 2 0 102 2 2 2 0 00-2-2zm16 0a2 2 0 102 2 2 2 0 00-2-2z\"&gt;&lt;/path&gt;\\n&lt;/svg&gt;&lt;/li-icon&gt;\\n            &lt;span class=\"artdeco-button__text\"&gt;\\n              Show more options\\n            &lt;/span&gt;\\n          \\n&lt;!----&gt;&lt;/button&gt;\\n        \\n  &lt;div tabindex=\"-1\" aria-hidden=\"true\" id=\"ember436\" class=\"artdeco-dropdown__content artdeco-dropdown--is-dropdown-element artdeco-dropdown__content--has-arrow artdeco-dropdown__content--arrow-right artdeco-dropdown__content--justification-right artdeco-dropdown__content--placement-bottom ember-view\"&gt;&lt;!----&gt;&lt;/div&gt;\\n&lt;/div&gt;\\n      &lt;/div&gt;\\n    &lt;/div&gt;\\n&lt;/div&gt;\\n&lt;!----&gt;\\n&lt;!----&gt;\\n&lt;!----&gt;      &lt;/div&gt;\\n\\n&lt;!----&gt;\\n        &lt;div class=\"jobs-box--fadein jobs-box--full-width jobs-box--with-cta-large jobs-description\\n    \\n    \\n    \\n     jobs-description--reformatted\\n    \\n    \"&gt;\\n\\n&lt;!----&gt;\\n  &lt;article class=\"jobs-description__container\\n      m4\"&gt;\\n    &lt;div class=\"jobs-description__content jobs-description-content\\n        \"&gt;\\n      &lt;div class=\"jobs-box__html-content jobs-description-content__text t-14 t-normal\\n          jobs-description-content__text--stretch\" id=\"job-details\" tabindex=\"-1\"&gt;\\n        &lt;h2 class=\"text-heading-large mb4\"&gt;\\n          About the job\\n        &lt;/h2&gt;\\n\\n&lt;!----&gt;\\n&lt;!----&gt;        &lt;span&gt;\\n                What You Will Achieve&lt;p&gt;&lt;br&gt;\\n&lt;/p&gt;This position will apply advanced manufacturing, science, and technology to support business and process improvements for the manufacture of small and / or large volume parenteral products. You will be a member of the Transformation and Strategy team. As a Data Analyst you will be responsible for mining, retrieving, organizing, and analyzing data to support the operations of a large manufacturing facility. Using the data, you will help to develop key performance indicators to demonstrate the effectiveness of processes and systems against business strategies.&lt;p&gt;&lt;br&gt;\\n&lt;/p&gt;Your knowledge of manufacturing operations and computer systems/tools will make you a critical member of the team. Your strong business processes and workflow skills will help facilitate required gatherings for building and enhancing business process maps and strategies. Your innovative use of communication tools and techniques will facilitate in explaining difficult issues, establishing consensus between teams, and will create a collaborative teaming environment for your colleagues.&lt;p&gt;&lt;br&gt;\\n&lt;/p&gt;&lt;u&gt;Main Responsibilities&lt;/u&gt;&lt;p&gt;&lt;br&gt;\\n&lt;/p&gt;&lt;ul&gt;&lt;li&gt;Interpret data, analyze results using statistical techniques and provide ongoing reports&lt;/li&gt;&lt;li&gt;Develop and implement databases, data collection systems, data analytics and other strategies that optimize statistical efficiency and quality&lt;/li&gt;&lt;li&gt;Acquire data from primary or secondary data sources and maintain databases/data systems&lt;/li&gt;&lt;li&gt;Identify, analyze, and interpret trends or patterns in complex data sets &lt;/li&gt;&lt;li&gt;Filter and “clean” data by reviewing reports, printouts, and performance indicators&lt;/li&gt;&lt;li&gt;Work with management to prioritize business and information needs &lt;/li&gt;&lt;li&gt;Identify and define new process improvement opportunities&lt;/li&gt;&lt;/ul&gt;&lt;p&gt;&lt;br&gt;\\n&lt;/p&gt;&lt;u&gt;Must-Haves&lt;/u&gt;&lt;p&gt;&lt;br&gt;\\n&lt;/p&gt;&lt;ul&gt;&lt;li&gt;A Bachelor’s degree with at least three years of experience; OR a Master’s degree with more than one year of experience.&lt;/li&gt;&lt;li&gt;Prior pharmaceutical and/or manufacturing experience required&lt;/li&gt;&lt;li&gt;Technical expertise regarding data models, database design development, data mining and segmentation techniques &lt;/li&gt;&lt;li&gt;Knowledge of and experience with reporting packages (Business Objects etc) and databases (SQL etc)&lt;/li&gt;&lt;li&gt;Knowledge of statistics and experience using statistical packages for analyzing datasets (Excel, SPSS, SAS etc)&lt;/li&gt;&lt;li&gt;Knowledge of SAP (ERP materials planning systems).&lt;/li&gt;&lt;/ul&gt;&lt;p&gt;&lt;br&gt;\\n&lt;/p&gt;You will be joining an organisation with determined to bring about considerable change to the global industry, in an environment that promotes self-development and personal success while driving for company growth.&lt;p&gt;&lt;br&gt;\\n&lt;/p&gt;&lt;strong&gt;Job Title:&lt;/strong&gt; Data Analyst&lt;p&gt;&lt;br&gt;\\n&lt;/p&gt;&lt;strong&gt;Location:&lt;/strong&gt; Basel, Switzerland&lt;p&gt;&lt;br&gt;\\n&lt;/p&gt;&lt;strong&gt;Job Type:&lt;/strong&gt; Contract&lt;p&gt;&lt;br&gt;\\n&lt;/p&gt;Aerotek, an Allegis Group company. Allegis Group AG, Aeschengraben 20, CH-4051 Basel, Switzerland. Registration No. CHE-101.865.121. Aerotek and Actalent Services are companies within the Allegis Group network of companies (collectively referred to as \"Allegis Group\"). Aerotek, Actalent Services, Aston Carter, EASi, TEKsystems, Stamford Consultants and The Stamford Group are Allegis Group brands. If you apply, your personal data will be processed as described in the Allegis Group Online Privacy Notice available at https://www.allegisgroup.com/en-gb/privacy-notices.&lt;p&gt;&lt;br&gt;\\n&lt;/p&gt;To access our Online Privacy Notice, which explains what information we may collect, use, share, and store about you, and describes your rights and choices about this, please go to https://www.allegisgroup.com/en-gb/privacy-notices.&lt;p&gt;&lt;br&gt;\\n&lt;/p&gt;We are part of a global network of companies and as a result, the personal data you provide will be shared within Allegis Group and transferred and processed outside the UK, Switzerland and European Economic Area subject to the protections described in the Allegis Group Online Privacy Notice. We store personal data in the UK, EEA, Switzerland and the USA. If you would like to exercise your privacy rights, please visit the \"Contacting Us\" section of our Online Privacy Notice at https://www.allegisgroup.com/en-gb/privacy-notices for details on how to contact us. To protect your privacy and security, we may take steps to verify your identity, such as a password and user ID if there is an account associated with your request, or identifying information such as your address or date of birth, before proceeding with your request. If you are resident in the UK, EEA or Switzerland, we will process any access request you make in accordance with our commitments under the UK Data Protection Act, EU-U.S. Privacy Shield or the Swiss-U.S. Privacy Shield\\n&lt;!----&gt;        &lt;/span&gt;\\n      &lt;/div&gt;\\n&lt;!----&gt;      &lt;div class=\"jobs-description__details\"&gt;\\n&lt;!----&gt;\\n      &lt;/div&gt;\\n    &lt;/div&gt;\\n  &lt;/article&gt;\\n&lt;!----&gt;&lt;/div&gt;\\n&lt;!----&gt;\\n          &lt;div id=\"SALARY\" class=\"jobs-unified-description__salary-main-rail-card\"&gt;\\n&lt;!----&gt;&lt;!----&gt;          &lt;/div&gt;\\n\\n&lt;!----&gt;\\n&lt;!----&gt;&lt;!----&gt;\\n&lt;!----&gt;\\n              &lt;section id=\"ember854\" class=\"artdeco-card ember-view\"&gt;&lt;!----&gt;\\n\\n                &lt;section class=\"jobs-company jobs-box--fadein mb4 jobs-company--two-pane\"&gt;\\n  &lt;div class=\"jobs-company__box\"&gt;\\n    &lt;h2 class=\"text-heading-large\"&gt;\\n      About the company\\n    &lt;/h2&gt;\\n\\n    &lt;div class=\"display-flex align-items-center mt5\"&gt;\\n      &lt;div id=\"ember855\" class=\"artdeco-entity-lockup artdeco-entity-lockup--size-5 ember-view flex-grow-1\"&gt;\\n        &lt;div id=\"ember856\" class=\"artdeco-entity-lockup__image artdeco-entity-lockup__image--type-square ember-view\" type=\"square\"&gt;\\n          &lt;a href=\"/company/pharmiweb-jobs/life/\" id=\"ember857\" class=\"ember-view link-without-hover-state inline-block\"&gt;\\n            &lt;img title=\"PharmiWeb.Jobs: Global Life Science Jobs\" src=\"https://media.licdn.com/dms/image/C560BAQGUG7P6YvUwMQ/company-logo_100_100/0/1631608134203?e=1692835200&amp;amp;v=beta&amp;amp;t=VhQBAmxEZoos_HwkKIkrqU5NXqFautE1PESvZ4dP9GE\" alt=\"PharmiWeb.Jobs: Global Life Science Jobs company logo\" id=\"ember858\" class=\"evi-image ember-view\"&gt;\\n          &lt;/a&gt;\\n        \\n&lt;/div&gt;\\n        &lt;div id=\"ember859\" class=\"artdeco-entity-lockup__content ember-view flex-grow-1\"&gt;\\n          &lt;div id=\"ember860\" class=\"artdeco-entity-lockup__title ember-view t-20\"&gt;\\n            &lt;a href=\"/company/pharmiweb-jobs/life/\" id=\"ember861\" class=\"ember-view link-without-visited-state inline-block t-black\"&gt;\\n              PharmiWeb.Jobs: Global Life Science Jobs\\n            &lt;/a&gt;\\n          \\n&lt;/div&gt;\\n          &lt;div id=\"ember862\" class=\"artdeco-entity-lockup__subtitle ember-view t-16\"&gt;\\n            64,551 followers\\n          &lt;/div&gt;\\n        &lt;/div&gt;\\n      \\n&lt;/div&gt;\\n      &lt;button class=\"follow   artdeco-button artdeco-button--secondary\\n          \\n          ml5\" aria-label=\"Follow\" aria-pressed=\"false\" type=\"button\"&gt;\\n      &lt;svg role=\"none\" aria-hidden=\"true\" class=\"artdeco-button__icon\" xmlns=\"http://www.w3.org/2000/svg\" width=\"16\" height=\"16\" viewBox=\"0 0 16 16\" data-supported-dps=\"16x16\" data-test-icon=\"add-small\"&gt;\\n&lt;!----&gt;    \\n\\n    &lt;use href=\"#add-small\" width=\"16\" height=\"16\"&gt;&lt;/use&gt;\\n&lt;/svg&gt;\\n\\n    &lt;span aria-hidden=\"true\"&gt;Follow&lt;/span&gt;\\n&lt;/button&gt;\\n    &lt;/div&gt;\\n\\n    &lt;div class=\"t-14 mt5\"&gt;\\n      Staffing &amp;amp; Recruiting\\n        &lt;span class=\"jobs-company__inline-information\"&gt;\\n          11-50 employees\\n        &lt;/span&gt;\\n        &lt;span class=\"jobs-company__inline-information\"&gt;\\n          18 on LinkedIn\\n        &lt;/span&gt;\\n    &lt;/div&gt;\\n\\n    &lt;p class=\"jobs-company__company-description text-body-small-open\"&gt;\\n      &lt;div class=\"inline-show-more-text\\n    inline-show-more-text--is-collapsed\\n    inline-show-more-text--is-collapsed-with-line-clamp\\n    \\n    \\n    \" style=\"-webkit-line-clamp:3;\" tabindex=\"-1\"&gt;\\n\\n    PharmiWeb.Jobs is PharmiWeb's dedicated Life Science job board. PharmiWeb.jobs is the largest dedicated niche pharma job board in Europe. Follow us for the latest jobs in pharma, industry employment news, career tips, Contact us to advertise your life science vacancies\\n  \\n      &lt;span class=\"inline-show-more-text__link-container-collapsed\"&gt;\\n          &lt;span&gt;…&lt;/span&gt;\\n        &lt;button class=\"inline-show-more-text__button\\n            inline-show-more-text__button--light\\n            link\" aria-expanded=\"false\" type=\"button\"&gt;\\n          show more\\n        &lt;/button&gt;\\n      &lt;/span&gt;\\n\\n&lt;!----&gt;&lt;/div&gt;\\n    &lt;/p&gt;\\n\\n&lt;!----&gt;\\n&lt;!----&gt;  &lt;/div&gt;\\n\\n&lt;!----&gt;\\n    &lt;div class=\"jobs-company__footer text-align-center\"&gt;\\n      &lt;a href=\"/company/pharmiweb-jobs/life/\" id=\"ember863\" class=\"ember-view link-without-hover-state block pv3\" aria-label=\"Show more about the company\"&gt;\\n        Show more\\n      &lt;/a&gt;\\n    &lt;/div&gt;\\n&lt;/section&gt;\\n              &lt;/section&gt;\\n\\n&lt;!----&gt;    &lt;/div&gt;\\n\\n&lt;!----&gt;  &lt;/div&gt;\\n\\n  &lt;div id=\"ember438\" class=\"ember-view\"&gt;&lt;!----&gt;&lt;/div&gt;\\n\\n&lt;div id=\"ember439\" class=\"ember-view\"&gt;&lt;div id=\"ember440\" class=\"ember-view\"&gt;&lt;!----&gt;&lt;/div&gt;&lt;/div&gt;\\n\\n  &lt;div id=\"ember441\" class=\"ember-view\"&gt;&lt;!----&gt;&lt;/div&gt;\\n\\n&lt;!----&gt;\\n&lt;!----&gt;\\n&lt;!----&gt;\\n  &lt;div&gt;\\n    &lt;div id=\"ember442\" class=\"ember-view\"&gt;&lt;!----&gt;&lt;/div&gt;\\n&lt;/div&gt;\\n\\n&lt;!----&gt;</td>\n",
              "    </tr>\n",
              "  </tbody>\n",
              "</table>\n",
              "</div>"
            ],
            "text/plain": [
              "   Unnamed: 0  \\\n",
              "0           0   \n",
              "\n",
              "                                                                                                                                                                                                                                                                                                                                                                                                                                                                                                                                                                                                                                                                                                                                                                                                                                                                                                                                                                                                                                                                                                                                                                                                                                                                                                                                                                                                                                                                                                                                                                                                                                                                                                                                                                                                                                                                                                                                                                                                                                                                                                                                                                                                                                                                                                                                                                                                                                                                                                                                                                                                                                                                                                                                                                                                                                                                                                                                                                                                                                                                                                                                                                                                                                                                                                                                                                                                                                                                                                                                                                                                                                                                                                                                                                                                                                                                                                                                                                                                                                                                                                                                                                                                                                                                                                                                                                                                                                                                                                                                                                                                                                                                                                                                                                                                                                                                                                                                                                                                                                                                                                                                                                                                                                                                                                                                                                                                                                                                                                                                                                                                                                                                                                                                                                                                                                                                                                                                                                                                                                                                                                                                                                                                                                                                                                                                                                                                                                                                                                                                                                                                                                                                                                                                                                                                                                                                                                                                                                                                                                                                                                                                                                                                                                                                                                                                                                                                                                                                                                                                                                                                                                                                                                                                                                                                                                                                                                                                                                                                                                                                                                                                                                                                                                                                                                                                                                                                                                                                                                                                                                                                                                                                                                                                                                                                                                                                                                                                                                                                                                                                                                                                                                                                                                                                                                                                                                                                                                                                                                                                                                                                                                                                                                                                                                                                                                                                                                                                                                                                                                                                                                                                                                                                                                                                                                                                                                                                                                                                                                                                                                                                                                                                                                                                                                                                                                                                                                                                                                                                                                                                                                                                                                                                                                                                                                                                                                                                                                                                                                                                                                                                                                                                                                                                                                                                                                                                                                                                                                                                                                                                                                                                                                                                                                                                                                                                                                                                                                                                                                                                                                                                                                                                                                                                                                                                                                                                                                                                                                                                                                                                                                                                                                                                                                                                                                                                                                                                                                                                                                                                                                                                                                                                                                                                                                                                                                                                                                                                                                                                                                                                                                                                                                                                                                                                                                                                                                                                                                                                                                                                                                                                                                                                                                                                                                                                                                                                                                                                                                                                                                                                                                                                                                                                                                                                                                                                                                                                                                                                                                                                                                                                                                                                                                                                                                                                                                                                                                                                                                                                                                                                                                                                                                                                                                                                                                                                                                                                                                                                                                                                                                                                                                                                                                                                                                                                                                                                                                                                                                                                                                                                                                                                                                                                                                                                                                                                                                                                                                                                                                                                                                                                                                                                                                                                                                                                                                                                                                                                                                                                                                                                                                                                                                                                                                                                                                                                                                                                                                                                                                                                                                                                                                                                                                                                                                                                                                                                                                                                                                                                                                                                                                                                                                                                                                                                                                                                                                                                                                                                                                                                                                                                                                                                                                                                                                                                                                                                                                                                                                                                                                                                                                                                                                                                                                                                                                                                                                                                                                                                                                                                                                                                                                                                                                                                                                                                                                                                                                                                                                                                                                                                                                                                                                                                                                                                                                                                                                                                                                                                                                                                                                                                                                                                                                                                                                                                                                                                                                                                                                                                                                                                                                                                                                                                                                                                                                                                                                                                                                                                                                                                                                                                                                                                                                                                                                                                                                                                                                                                                                                                                                                                                                                                                                                                                                                                                                                                                                                                                                                                                                                                                                                                                                                                                                                                                                                                                                                                                                                                                                                                                                                                                                                                                                                                                                                                                                                                                                                                                                                                                                                                                                                                                                          html  \n",
              "0  \\n  <div>\\n    <div class=\"\\n        jobs-details__main-content jobs-details__main-content--single-pane full-width\\n        \">\\n        \\n<!---->\\n      \\n      <div>\\n        <div class=\"jobs-unified-top-card t-14\">\\n<!---->  <div class=\"relative\\n      jobs-unified-top-card__container--two-pane\">\\n\\n    <div class=\"jobs-unified-top-card__content--two-pane\">\\n<!---->\\n        <a href=\"/jobs/view/3609065367/?alternateChannel=search&amp;refId=AxoCJAz0Vnn3xzCIlNO7ng%3D%3D&amp;trackingId=mdZWGb64G6DZP8qCAPQ%2BmQ%3D%3D&amp;trk=d_flagship3_search_srp_jobs\" id=\"ember425\" class=\"ember-view\">\\n          <h2 class=\"t-24 t-bold jobs-unified-top-card__job-title\">Data Analyst</h2>\\n        </a>\\n\\n      <div class=\"jobs-unified-top-card__primary-description\">\\n          <span class=\"jobs-unified-top-card__subtitle-primary-grouping t-black\">\\n            <span class=\"jobs-unified-top-card__company-name\">\\n                  <a href=\"/company/pharmiweb-jobs/life/\" id=\"ember426\" class=\"ember-view t-black t-normal\">\\n                    PharmiWeb.Jobs: Global Life Science Jobs\\n                  </a>\\n            </span>\\n              <span class=\"jobs-unified-top-card__bullet\">\\n                Basel, Basel, Switzerland\\n              </span>\\n\\n              <span class=\"jobs-unified-top-card__workplace-type\">On-site</span>\\n          </span>\\n          <span class=\"jobs-unified-top-card__subtitle-secondary-grouping t-black--light\">\\n              <span class=\"jobs-unified-top-card__posted-date\\n                  \">\\n                1 week ago\\n              </span>\\n                <span class=\"jobs-unified-top-card__bullet\">\\n                    <span class=\"jobs-unified-top-card__applicant-count\\n                        \">\\n                      47 applicants\\n                    </span>\\n                </span>\\n          </span>\\n      </div>\\n\\n      <div class=\"mt5 mb2\">\\n          <ul>\\n                <li class=\"jobs-unified-top-card__job-insight\">\\n                  <div class=\"flex-shrink-zero mr2 t-black--light\">\\n                    \\n    <div class=\"ivm-image-view-model   \">\\n        \\n    <div class=\"ivm-view-attr__img-wrapper ivm-view-attr__img-wrapper--use-img-tag display-flex\\n        \\n        \">\\n        <li-icon aria-hidden=\"true\" type=\"job\" class=\" \" size=\"large\"><svg xmlns=\"http://www.w3.org/2000/svg\" viewBox=\"0 0 24 24\" data-supported-dps=\"24x24\" fill=\"currentColor\" class=\"mercado-match\" width=\"24\" height=\"24\" focusable=\"false\">\\n  <path d=\"M17 6V5a3 3 0 00-3-3h-4a3 3 0 00-3 3v1H2v4a3 3 0 003 3h14a3 3 0 003-3V6zM9 5a1 1 0 011-1h4a1 1 0 011 1v1H9zm10 9a4 4 0 003-1.38V17a3 3 0 01-3 3H5a3 3 0 01-3-3v-4.38A4 4 0 005 14z\"></path>\\n</svg></li-icon>\\n    </div>\\n  \\n          </div>\\n  \\n                  </div>\\n                  <span>\\n                    <!---->Full-time · Entry level<!---->\\n                  </span>\\n                </li>\\n                <li class=\"jobs-unified-top-card__job-insight\">\\n                  <div class=\"flex-shrink-zero mr2 t-black--light\">\\n                    \\n    <div class=\"ivm-image-view-model   \">\\n        \\n    <div class=\"ivm-view-attr__img-wrapper ivm-view-attr__img-wrapper--use-img-tag display-flex\\n        \\n        \">\\n        <li-icon aria-hidden=\"true\" type=\"company\" class=\" \" size=\"large\"><svg xmlns=\"http://www.w3.org/2000/svg\" viewBox=\"0 0 24 24\" data-supported-dps=\"24x24\" fill=\"currentColor\" class=\"mercado-match\" width=\"24\" height=\"24\" focusable=\"false\">\\n  <path d=\"M4 2v20h16V2zm14 18h-4v-2h-4v2H6V4h12zm-7-8H8v-2h3zm0 4H8v-2h3zm5-4h-3v-2h3zm-5-4H8V6h3zm5 0h-3V6h3zm0 8h-3v-2h3z\"></path>\\n</svg></li-icon>\\n    </div>\\n  \\n          </div>\\n  \\n                  </div>\\n                  <span>\\n                    <!---->11-50 employees · Staffing and Recruiting<!---->\\n                  </span>\\n                </li>\\n                    <li class=\"jobs-unified-top-card__job-insight jobs-unified-top-card__job-insight--highlight\">\\n                      <div class=\"flex-shrink-zero mr2 t-black--light\">\\n                        \\n    <div class=\"ivm-image-view-model   \">\\n        \\n    <div class=\"ivm-view-attr__img-wrapper ivm-view-attr__img-wrapper--use-img-tag display-flex\\n        \\n        \">\\n        <li-icon aria-hidden=\"true\" type=\"lightbulb\" class=\" \" size=\"medium\"><svg xmlns=\"http://www.w3.org/2000/svg\" viewBox=\"0 0 24 24\" data-supported-dps=\"24x24\" fill=\"currentColor\" class=\"mercado-match\" width=\"24\" height=\"24\" focusable=\"false\">\\n  <path d=\"M10 20h4v.1a1.9 1.9 0 01-1.9 1.9h-.2a1.9 1.9 0 01-1.9-1.9zm4.68-14.47A1 1 0 0016 5l.76-1.85a1 1 0 00-.54-1.3 1 1 0 00-1.31.54l-.76 1.85a1 1 0 00.53 1.29zm5.09 4.33l1.85-.76a1 1 0 00.54-1.31 1 1 0 00-1.3-.54L19 8a1 1 0 00-.54 1.31 1 1 0 001.3.55zM4.23 14.14l-1.85.76a1 1 0 00-.54 1.31 1 1 0 001.3.54L5 16a1 1 0 00.54-1.31 1 1 0 00-1.3-.55zm17.39.76l-1.85-.76A1 1 0 0019 16l1.85.76a1 1 0 00.78-1.86zM5 8l-1.86-.75a1 1 0 00-1.3.54 1 1 0 00.54 1.31l1.85.76A1 1 0 005 8zm3-3a1 1 0 001.31.54 1 1 0 00.54-1.3L9.1 2.38a1 1 0 00-1.31-.54 1 1 0 00-.54 1.3zm9 6.91V12a5.48 5.48 0 01-1.61 3.88l-.07.08a3.94 3.94 0 00-1.08 1.94L14 19h-4l-.24-1.08A4 4 0 008.68 16l-.07-.07A5.51 5.51 0 017 12v-.1A4.9 4.9 0 0111.9 7h.2a4.9 4.9 0 014.9 4.9zm-2 0A2.9 2.9 0 0012.11 9h-.21A2.9 2.9 0 009 11.9v.1a3.47 3.47 0 001 2.47l.08.08a5.92 5.92 0 011.5 2.45h.84a6 6 0 011.48-2.44l.08-.07A3.48 3.48 0 0015 12z\"></path>\\n</svg></li-icon>\\n    </div>\\n  \\n          </div>\\n  \\n                      </div>\\n                      <span>\\n                        <!---->See how you compare to 47 applicants.<span class=\"white-space-pre\"> </span><a class=\"app-aware-link \" target=\"_self\" href=\"https://www.linkedin.com/premium/products/?family=JSS&amp;upsellOrderOrigin=premium_job_details_summary_card&amp;utype=job&amp;referenceId=3R6Cu%2BKoQoKRyTOVoqW5BA%3D%3D\" data-test-app-aware-link=\"\"><!---->Try Premium for free<!----></a>\\n                      </span>\\n                    </li>\\n          </ul>\\n              </div>\\n\\n      <div class=\"mt5\">\\n          <div class=\"display-flex\">\\n              <div class=\"jobs-s-apply jobs-s-apply--fadein inline-flex mr2\">\\n    <div class=\"jobs-apply-button--top-card\">\\n  <button role=\"link\" aria-label=\"Apply to Data Analyst on company website\" id=\"ember852\" class=\"jobs-apply-button artdeco-button artdeco-button--icon-right artdeco-button--3 artdeco-button--primary ember-view\">  <li-icon aria-hidden=\"true\" type=\"link-external\" class=\"artdeco-button__icon\" size=\"small\"><svg xmlns=\"http://www.w3.org/2000/svg\" viewBox=\"0 0 16 16\" data-supported-dps=\"16x16\" fill=\"currentColor\" class=\"mercado-match\" width=\"16\" height=\"16\" focusable=\"false\">\\n  <path d=\"M15 1v6h-2V4.41L7.41 10 6 8.59 11.59 3H9V1zm-4 10a1 1 0 01-1 1H5a1 1 0 01-1-1V6a1 1 0 011-1h2V3H5a3 3 0 00-3 3v5a3 3 0 003 3h5a3 3 0 003-3V9h-2z\"></path>\\n</svg></li-icon>\\n\\n<span class=\"artdeco-button__text\">\\n    Apply\\n</span></button>\\n</div>\\n</div>\\n\\n              <span class=\"visibility-hidden\"></span>\\n              <button class=\"jobs-save-button artdeco-button artdeco-button--3 artdeco-button--secondary\" type=\"button\">\\n<!---->      <span aria-hidden=\"true\">\\n        Save\\n      </span>\\n    <span class=\"a11y-text\">\\n      Save Data Analyst at PharmiWeb.Jobs: Global Life Science Jobs\\n    </span>\\n</button>\\n          </div>\\n\\n<!---->\\n<!----><!---->      </div>\\n\\n<!---->\\n<!---->\\n<!----><!---->\\n<!---->    </div>\\n\\n<!---->\\n<!---->\\n    <div class=\"jobs-unified-top-card__buttons-container absolute\">\\n      <div class=\"display-flex flex-column\">\\n        <div class=\"display-flex justify-flex-end\">\\n            <div id=\"ember427\" class=\"artdeco-dropdown artdeco-dropdown--placement-bottom artdeco-dropdown--justification-right ember-view\">\\n    <button aria-expanded=\"false\" aria-label=\"Share\" id=\"ember428\" class=\"social-share__dropdown-trigger artdeco-button artdeco-button--3 artdeco-button--tertiary artdeco-button--circle artdeco-button--muted artdeco-dropdown__trigger artdeco-dropdown__trigger--placement-bottom ember-view\" type=\"button\" tabindex=\"0\">\\n      <li-icon aria-hidden=\"true\" type=\"share-linkedin\" class=\"artdeco-button__icon\" size=\"medium\"><svg xmlns=\"http://www.w3.org/2000/svg\" viewBox=\"0 0 24 24\" data-supported-dps=\"24x24\" fill=\"currentColor\" class=\"mercado-match\" width=\"24\" height=\"24\" focusable=\"false\">\\n  <path d=\"M23 12l-4.61 7H16l4-6H8a3.92 3.92 0 00-4 3.84V17a4 4 0 00.19 1.24L5.12 21H3l-.73-2.22A6.4 6.4 0 012 16.94 6 6 0 018 11h12l-4-6h2.39z\"></path>\\n</svg></li-icon>\\n      <span class=\"artdeco-button__text\">Share</span>\\n    \\n<!----></button>\\n\\n  <div tabindex=\"-1\" aria-hidden=\"true\" id=\"ember429\" class=\"social-share__content text-align-left artdeco-dropdown__content artdeco-dropdown--is-dropdown-element artdeco-dropdown__content--has-arrow artdeco-dropdown__content--arrow-right artdeco-dropdown__content--justification-right artdeco-dropdown__content--placement-bottom ember-view\"><!----></div>\\n</div>\\n\\n<div>\\n    \\n<!---->  \\n\\n</div>\\n\\n<!---->\\n\\n<!---->\\n            <div id=\"ember430\" class=\"artdeco-dropdown jobs-options artdeco-dropdown--placement-bottom artdeco-dropdown--justification-right ember-view\">\\n  \\n              <button aria-expanded=\"false\" id=\"ember431\" class=\"artdeco-button artdeco-button--3 artdeco-button--tertiary artdeco-button--muted artdeco-button--circle artdeco-dropdown__trigger artdeco-dropdown__trigger--placement-bottom ember-view\" type=\"button\" tabindex=\"0\">\\n                <li-icon aria-hidden=\"true\" type=\"overflow-web-ios\" class=\"artdeco-button__icon\"><svg xmlns=\"http://www.w3.org/2000/svg\" viewBox=\"0 0 24 24\" data-supported-dps=\"24x24\" fill=\"currentColor\" class=\"mercado-match\" width=\"24\" height=\"24\" focusable=\"false\">\\n  <path d=\"M14 12a2 2 0 11-2-2 2 2 0 012 2zM4 10a2 2 0 102 2 2 2 0 00-2-2zm16 0a2 2 0 102 2 2 2 0 00-2-2z\"></path>\\n</svg></li-icon>\\n                <span class=\"artdeco-button__text\">\\n                  Show more options\\n                </span>\\n              \\n<!----></button>\\n            \\n  <div tabindex=\"-1\" aria-hidden=\"true\" id=\"ember432\" class=\"artdeco-dropdown__content artdeco-dropdown--is-dropdown-element artdeco-dropdown__content--has-arrow artdeco-dropdown__content--arrow-right artdeco-dropdown__content--justification-right artdeco-dropdown__content--placement-bottom ember-view\"><!----></div>\\n</div>\\n        </div>\\n<!---->      </div>\\n    </div>\\n  </div>\\n    <div class=\"jobs-unified-top-card__sticky-header\\n        jobs-unified-top-card__sticky-header--disabled\">\\n      <div class=\"jobs-unified-top-card__title-container\">\\n          <a data-control-id=\"mdZWGb64G6DZP8qCAPQ+mQ==\" href=\"/jobs/view/3609065367/?alternateChannel=search&amp;refId=AxoCJAz0Vnn3xzCIlNO7ng%3D%3D&amp;trackingId=mdZWGb64G6DZP8qCAPQ%2BmQ%3D%3D&amp;trk=d_flagship3_search_srp_jobs\" id=\"ember433\" class=\"ember-view\">\\n            <h2 class=\"t-16 t-black t-bold truncate\">\\n              Data Analyst\\n            </h2>\\n          </a>\\n        <div class=\"t-14 truncate\">\\n          <span>PharmiWeb.Jobs: Global Life Science Jobs</span>\\n            <span class=\"jobs-unified-top-card__bullet\">Basel, Basel, Switzerland</span>\\n            <span class=\"jobs-unified-top-card__workplace-type\">On-site</span>\\n        </div>\\n      </div>\\n      <div class=\"jobs-unified-top-card__sticky-buttons-container\">\\n          <div class=\"jobs-s-apply jobs-s-apply--fadein inline-flex mr2\">\\n    <div class=\"jobs-apply-button--top-card\">\\n  <button role=\"link\" aria-label=\"Apply to Data Analyst on company website\" id=\"ember853\" class=\"jobs-apply-button artdeco-button artdeco-button--icon-right artdeco-button--2 artdeco-button--primary ember-view\">  <li-icon aria-hidden=\"true\" type=\"link-external\" class=\"artdeco-button__icon\" size=\"small\"><svg xmlns=\"http://www.w3.org/2000/svg\" viewBox=\"0 0 16 16\" data-supported-dps=\"16x16\" fill=\"currentColor\" class=\"mercado-match\" width=\"16\" height=\"16\" focusable=\"false\">\\n  <path d=\"M15 1v6h-2V4.41L7.41 10 6 8.59 11.59 3H9V1zm-4 10a1 1 0 01-1 1H5a1 1 0 01-1-1V6a1 1 0 011-1h2V3H5a3 3 0 00-3 3v5a3 3 0 003 3h5a3 3 0 003-3V9h-2z\"></path>\\n</svg></li-icon>\\n\\n<span class=\"artdeco-button__text\">\\n    Apply\\n</span></button>\\n</div>\\n</div>\\n\\n          <button class=\"jobs-save-button mr2 artdeco-button artdeco-button--2 artdeco-button--secondary\" aria-expanded=\"false\" type=\"button\">\\n<!---->      <span aria-hidden=\"true\">\\n        Save\\n      </span>\\n    <span class=\"a11y-text\">\\n      Save Data Analyst at PharmiWeb.Jobs: Global Life Science Jobs\\n    </span>\\n</button>\\n\\n        <div id=\"ember434\" class=\"artdeco-dropdown jobs-options artdeco-dropdown--placement-bottom artdeco-dropdown--justification-right ember-view inline-flex\">\\n  \\n          <button aria-expanded=\"false\" id=\"ember435\" class=\"artdeco-button artdeco-button--2 artdeco-button--tertiary artdeco-button--muted artdeco-button--circle artdeco-dropdown__trigger artdeco-dropdown__trigger--placement-bottom ember-view\" type=\"button\" tabindex=\"0\">\\n\\n            <li-icon aria-hidden=\"true\" type=\"overflow-web-ios\" class=\"artdeco-button__icon\"><svg xmlns=\"http://www.w3.org/2000/svg\" viewBox=\"0 0 24 24\" data-supported-dps=\"24x24\" fill=\"currentColor\" class=\"mercado-match\" width=\"24\" height=\"24\" focusable=\"false\">\\n  <path d=\"M14 12a2 2 0 11-2-2 2 2 0 012 2zM4 10a2 2 0 102 2 2 2 0 00-2-2zm16 0a2 2 0 102 2 2 2 0 00-2-2z\"></path>\\n</svg></li-icon>\\n            <span class=\"artdeco-button__text\">\\n              Show more options\\n            </span>\\n          \\n<!----></button>\\n        \\n  <div tabindex=\"-1\" aria-hidden=\"true\" id=\"ember436\" class=\"artdeco-dropdown__content artdeco-dropdown--is-dropdown-element artdeco-dropdown__content--has-arrow artdeco-dropdown__content--arrow-right artdeco-dropdown__content--justification-right artdeco-dropdown__content--placement-bottom ember-view\"><!----></div>\\n</div>\\n      </div>\\n    </div>\\n</div>\\n<!---->\\n<!---->\\n<!---->      </div>\\n\\n<!---->\\n        <div class=\"jobs-box--fadein jobs-box--full-width jobs-box--with-cta-large jobs-description\\n    \\n    \\n    \\n     jobs-description--reformatted\\n    \\n    \">\\n\\n<!---->\\n  <article class=\"jobs-description__container\\n      m4\">\\n    <div class=\"jobs-description__content jobs-description-content\\n        \">\\n      <div class=\"jobs-box__html-content jobs-description-content__text t-14 t-normal\\n          jobs-description-content__text--stretch\" id=\"job-details\" tabindex=\"-1\">\\n        <h2 class=\"text-heading-large mb4\">\\n          About the job\\n        </h2>\\n\\n<!---->\\n<!---->        <span>\\n                What You Will Achieve<p><br>\\n</p>This position will apply advanced manufacturing, science, and technology to support business and process improvements for the manufacture of small and / or large volume parenteral products. You will be a member of the Transformation and Strategy team. As a Data Analyst you will be responsible for mining, retrieving, organizing, and analyzing data to support the operations of a large manufacturing facility. Using the data, you will help to develop key performance indicators to demonstrate the effectiveness of processes and systems against business strategies.<p><br>\\n</p>Your knowledge of manufacturing operations and computer systems/tools will make you a critical member of the team. Your strong business processes and workflow skills will help facilitate required gatherings for building and enhancing business process maps and strategies. Your innovative use of communication tools and techniques will facilitate in explaining difficult issues, establishing consensus between teams, and will create a collaborative teaming environment for your colleagues.<p><br>\\n</p><u>Main Responsibilities</u><p><br>\\n</p><ul><li>Interpret data, analyze results using statistical techniques and provide ongoing reports</li><li>Develop and implement databases, data collection systems, data analytics and other strategies that optimize statistical efficiency and quality</li><li>Acquire data from primary or secondary data sources and maintain databases/data systems</li><li>Identify, analyze, and interpret trends or patterns in complex data sets </li><li>Filter and “clean” data by reviewing reports, printouts, and performance indicators</li><li>Work with management to prioritize business and information needs </li><li>Identify and define new process improvement opportunities</li></ul><p><br>\\n</p><u>Must-Haves</u><p><br>\\n</p><ul><li>A Bachelor’s degree with at least three years of experience; OR a Master’s degree with more than one year of experience.</li><li>Prior pharmaceutical and/or manufacturing experience required</li><li>Technical expertise regarding data models, database design development, data mining and segmentation techniques </li><li>Knowledge of and experience with reporting packages (Business Objects etc) and databases (SQL etc)</li><li>Knowledge of statistics and experience using statistical packages for analyzing datasets (Excel, SPSS, SAS etc)</li><li>Knowledge of SAP (ERP materials planning systems).</li></ul><p><br>\\n</p>You will be joining an organisation with determined to bring about considerable change to the global industry, in an environment that promotes self-development and personal success while driving for company growth.<p><br>\\n</p><strong>Job Title:</strong> Data Analyst<p><br>\\n</p><strong>Location:</strong> Basel, Switzerland<p><br>\\n</p><strong>Job Type:</strong> Contract<p><br>\\n</p>Aerotek, an Allegis Group company. Allegis Group AG, Aeschengraben 20, CH-4051 Basel, Switzerland. Registration No. CHE-101.865.121. Aerotek and Actalent Services are companies within the Allegis Group network of companies (collectively referred to as \"Allegis Group\"). Aerotek, Actalent Services, Aston Carter, EASi, TEKsystems, Stamford Consultants and The Stamford Group are Allegis Group brands. If you apply, your personal data will be processed as described in the Allegis Group Online Privacy Notice available at https://www.allegisgroup.com/en-gb/privacy-notices.<p><br>\\n</p>To access our Online Privacy Notice, which explains what information we may collect, use, share, and store about you, and describes your rights and choices about this, please go to https://www.allegisgroup.com/en-gb/privacy-notices.<p><br>\\n</p>We are part of a global network of companies and as a result, the personal data you provide will be shared within Allegis Group and transferred and processed outside the UK, Switzerland and European Economic Area subject to the protections described in the Allegis Group Online Privacy Notice. We store personal data in the UK, EEA, Switzerland and the USA. If you would like to exercise your privacy rights, please visit the \"Contacting Us\" section of our Online Privacy Notice at https://www.allegisgroup.com/en-gb/privacy-notices for details on how to contact us. To protect your privacy and security, we may take steps to verify your identity, such as a password and user ID if there is an account associated with your request, or identifying information such as your address or date of birth, before proceeding with your request. If you are resident in the UK, EEA or Switzerland, we will process any access request you make in accordance with our commitments under the UK Data Protection Act, EU-U.S. Privacy Shield or the Swiss-U.S. Privacy Shield\\n<!---->        </span>\\n      </div>\\n<!---->      <div class=\"jobs-description__details\">\\n<!---->\\n      </div>\\n    </div>\\n  </article>\\n<!----></div>\\n<!---->\\n          <div id=\"SALARY\" class=\"jobs-unified-description__salary-main-rail-card\">\\n<!----><!---->          </div>\\n\\n<!---->\\n<!----><!---->\\n<!---->\\n              <section id=\"ember854\" class=\"artdeco-card ember-view\"><!---->\\n\\n                <section class=\"jobs-company jobs-box--fadein mb4 jobs-company--two-pane\">\\n  <div class=\"jobs-company__box\">\\n    <h2 class=\"text-heading-large\">\\n      About the company\\n    </h2>\\n\\n    <div class=\"display-flex align-items-center mt5\">\\n      <div id=\"ember855\" class=\"artdeco-entity-lockup artdeco-entity-lockup--size-5 ember-view flex-grow-1\">\\n        <div id=\"ember856\" class=\"artdeco-entity-lockup__image artdeco-entity-lockup__image--type-square ember-view\" type=\"square\">\\n          <a href=\"/company/pharmiweb-jobs/life/\" id=\"ember857\" class=\"ember-view link-without-hover-state inline-block\">\\n            <img title=\"PharmiWeb.Jobs: Global Life Science Jobs\" src=\"https://media.licdn.com/dms/image/C560BAQGUG7P6YvUwMQ/company-logo_100_100/0/1631608134203?e=1692835200&amp;v=beta&amp;t=VhQBAmxEZoos_HwkKIkrqU5NXqFautE1PESvZ4dP9GE\" alt=\"PharmiWeb.Jobs: Global Life Science Jobs company logo\" id=\"ember858\" class=\"evi-image ember-view\">\\n          </a>\\n        \\n</div>\\n        <div id=\"ember859\" class=\"artdeco-entity-lockup__content ember-view flex-grow-1\">\\n          <div id=\"ember860\" class=\"artdeco-entity-lockup__title ember-view t-20\">\\n            <a href=\"/company/pharmiweb-jobs/life/\" id=\"ember861\" class=\"ember-view link-without-visited-state inline-block t-black\">\\n              PharmiWeb.Jobs: Global Life Science Jobs\\n            </a>\\n          \\n</div>\\n          <div id=\"ember862\" class=\"artdeco-entity-lockup__subtitle ember-view t-16\">\\n            64,551 followers\\n          </div>\\n        </div>\\n      \\n</div>\\n      <button class=\"follow   artdeco-button artdeco-button--secondary\\n          \\n          ml5\" aria-label=\"Follow\" aria-pressed=\"false\" type=\"button\">\\n      <svg role=\"none\" aria-hidden=\"true\" class=\"artdeco-button__icon\" xmlns=\"http://www.w3.org/2000/svg\" width=\"16\" height=\"16\" viewBox=\"0 0 16 16\" data-supported-dps=\"16x16\" data-test-icon=\"add-small\">\\n<!---->    \\n\\n    <use href=\"#add-small\" width=\"16\" height=\"16\"></use>\\n</svg>\\n\\n    <span aria-hidden=\"true\">Follow</span>\\n</button>\\n    </div>\\n\\n    <div class=\"t-14 mt5\">\\n      Staffing &amp; Recruiting\\n        <span class=\"jobs-company__inline-information\">\\n          11-50 employees\\n        </span>\\n        <span class=\"jobs-company__inline-information\">\\n          18 on LinkedIn\\n        </span>\\n    </div>\\n\\n    <p class=\"jobs-company__company-description text-body-small-open\">\\n      <div class=\"inline-show-more-text\\n    inline-show-more-text--is-collapsed\\n    inline-show-more-text--is-collapsed-with-line-clamp\\n    \\n    \\n    \" style=\"-webkit-line-clamp:3;\" tabindex=\"-1\">\\n\\n    PharmiWeb.Jobs is PharmiWeb's dedicated Life Science job board. PharmiWeb.jobs is the largest dedicated niche pharma job board in Europe. Follow us for the latest jobs in pharma, industry employment news, career tips, Contact us to advertise your life science vacancies\\n  \\n      <span class=\"inline-show-more-text__link-container-collapsed\">\\n          <span>…</span>\\n        <button class=\"inline-show-more-text__button\\n            inline-show-more-text__button--light\\n            link\" aria-expanded=\"false\" type=\"button\">\\n          show more\\n        </button>\\n      </span>\\n\\n<!----></div>\\n    </p>\\n\\n<!---->\\n<!---->  </div>\\n\\n<!---->\\n    <div class=\"jobs-company__footer text-align-center\">\\n      <a href=\"/company/pharmiweb-jobs/life/\" id=\"ember863\" class=\"ember-view link-without-hover-state block pv3\" aria-label=\"Show more about the company\">\\n        Show more\\n      </a>\\n    </div>\\n</section>\\n              </section>\\n\\n<!---->    </div>\\n\\n<!---->  </div>\\n\\n  <div id=\"ember438\" class=\"ember-view\"><!----></div>\\n\\n<div id=\"ember439\" class=\"ember-view\"><div id=\"ember440\" class=\"ember-view\"><!----></div></div>\\n\\n  <div id=\"ember441\" class=\"ember-view\"><!----></div>\\n\\n<!---->\\n<!---->\\n<!---->\\n  <div>\\n    <div id=\"ember442\" class=\"ember-view\"><!----></div>\\n</div>\\n\\n<!---->  "
            ]
          },
          "execution_count": 5,
          "metadata": {},
          "output_type": "execute_result"
        }
      ],
      "source": [
        "# посмотрим на одну строку датафрейма\n",
        "raw_df.head(1)"
      ]
    },
    {
      "cell_type": "code",
      "execution_count": null,
      "id": "99203688",
      "metadata": {
        "id": "99203688",
        "outputId": "40cfc0b4-5642-4c14-c1cd-9a6e6eb6a9e3"
      },
      "outputs": [
        {
          "name": "stdout",
          "output_type": "stream",
          "text": [
            "<class 'pandas.core.frame.DataFrame'>\n",
            "RangeIndex: 998 entries, 0 to 997\n",
            "Data columns (total 2 columns):\n",
            " #   Column      Non-Null Count  Dtype \n",
            "---  ------      --------------  ----- \n",
            " 0   Unnamed: 0  998 non-null    int64 \n",
            " 1   html        998 non-null    object\n",
            "dtypes: int64(1), object(1)\n",
            "memory usage: 15.7+ KB\n"
          ]
        }
      ],
      "source": [
        "raw_df.info()"
      ]
    },
    {
      "cell_type": "markdown",
      "id": "d3cb5deb",
      "metadata": {
        "id": "d3cb5deb"
      },
      "source": [
        "У нас есть спарсенные данные в датафрейме. В нем 998 строк, в каждой есть номер и  страница с описанием вакансии в виде текста (формат html). Необходимо из данных в таком виде получить их в удобном для дальнейшей визуализации виде."
      ]
    },
    {
      "cell_type": "markdown",
      "source": [
        " **$\\color{blue}{\\text{КОММЕНТАРИЙ}}$**\n",
        "\n",
        "Великолепно"
      ],
      "metadata": {
        "id": "Ba3ybvUAVLNQ"
      },
      "id": "Ba3ybvUAVLNQ"
    },
    {
      "cell_type": "markdown",
      "id": "251855a2",
      "metadata": {
        "id": "251855a2"
      },
      "source": [
        "## **Парсинг требуемых данных**"
      ]
    },
    {
      "cell_type": "markdown",
      "id": "c1c1df79",
      "metadata": {
        "id": "c1c1df79"
      },
      "source": [
        "### **Рассмотрение одного блока с вакансией на странице**"
      ]
    },
    {
      "cell_type": "code",
      "execution_count": null,
      "id": "ac506818",
      "metadata": {
        "id": "ac506818"
      },
      "outputs": [],
      "source": [
        "from IPython.display import display, HTML"
      ]
    },
    {
      "cell_type": "code",
      "execution_count": null,
      "id": "91138b27",
      "metadata": {
        "id": "91138b27"
      },
      "outputs": [],
      "source": [
        "# запишем в переменную soup_test распарсенное значение одной страницы, что бы полее подробно его изучить\n",
        "soup_test = BeautifulSoup(raw_df.iloc[0]['html'], 'lxml')"
      ]
    },
    {
      "cell_type": "code",
      "execution_count": null,
      "id": "fcc721b2",
      "metadata": {
        "id": "fcc721b2",
        "outputId": "269a6079-1ef9-4a7a-8054-3b11218b377b"
      },
      "outputs": [
        {
          "name": "stdout",
          "output_type": "stream",
          "text": [
            "<html>\n",
            " <body>\n",
            "  <div>\n",
            "   <div class=\"jobs-details__main-content jobs-details__main-content--single-pane full-width\">\n",
            "    <!-- -->\n",
            "    <div>\n",
            "     <div class=\"jobs-unified-top-card t-14\">\n",
            "      <!-- -->\n",
            "      <div class=\"relative jobs-unified-top-card__container--two-pane\">\n",
            "       <div class=\"jobs-unified-top-card__content--two-pane\">\n",
            "        <!-- -->\n",
            "        <a class=\"ember-view\" href=\"/jobs/view/3609065367/?alternateChannel=search&amp;refId=AxoCJAz0Vnn3xzCIlNO7ng%3D%3D&amp;trackingId=mdZWGb64G6DZP8qCAPQ%2BmQ%3D%3D&amp;trk=d_flagship3_search_srp_jobs\" id=\"ember425\">\n",
            "         <h2 class=\"t-24 t-bold jobs-unified-top-card__job-title\">\n",
            "          Data Analyst\n",
            "         </h2>\n",
            "        </a>\n",
            "        <div class=\"jobs-unified-top-card__primary-description\">\n",
            "         <span class=\"jobs-unified-top-card__subtitle-primary-grouping t-black\">\n",
            "          <span class=\"jobs-unified-top-card__company-name\">\n",
            "           <a class=\"ember-view t-black t-normal\" href=\"/company/pharmiweb-jobs/life/\" id=\"ember426\">\n",
            "            PharmiWeb.Jobs: Global Life Science Jobs\n",
            "           </a>\n",
            "          </span>\n",
            "          <span class=\"jobs-unified-top-card__bullet\">\n",
            "           Basel, Basel, Switzerland\n",
            "          </span>\n",
            "          <span class=\"jobs-unified-top-card__workplace-type\">\n",
            "           On-site\n",
            "          </span>\n",
            "         </span>\n",
            "         <span class=\"jobs-unified-top-card__subtitle-secondary-grouping t-black--light\">\n",
            "          <span class=\"jobs-unified-top-card__posted-date\">\n",
            "           1 week ago\n",
            "          </span>\n",
            "          <span class=\"jobs-unified-top-card__bullet\">\n",
            "           <span class=\"jobs-unified-top-card__applicant-count\">\n",
            "            47 applicants\n",
            "           </span>\n",
            "          </span>\n",
            "         </span>\n",
            "        </div>\n",
            "        <div class=\"mt5 mb2\">\n",
            "         <ul>\n",
            "          <li class=\"jobs-unified-top-card__job-insight\">\n",
            "           <div class=\"flex-shrink-zero mr2 t-black--light\">\n",
            "            <div class=\"ivm-image-view-model\">\n",
            "             <div class=\"ivm-view-attr__img-wrapper ivm-view-attr__img-wrapper--use-img-tag display-flex\">\n",
            "              <li-icon aria-hidden=\"true\" class=\"\" size=\"large\" type=\"job\">\n",
            "               <svg class=\"mercado-match\" data-supported-dps=\"24x24\" fill=\"currentColor\" focusable=\"false\" height=\"24\" viewbox=\"0 0 24 24\" width=\"24\" xmlns=\"http://www.w3.org/2000/svg\">\n",
            "                <path d=\"M17 6V5a3 3 0 00-3-3h-4a3 3 0 00-3 3v1H2v4a3 3 0 003 3h14a3 3 0 003-3V6zM9 5a1 1 0 011-1h4a1 1 0 011 1v1H9zm10 9a4 4 0 003-1.38V17a3 3 0 01-3 3H5a3 3 0 01-3-3v-4.38A4 4 0 005 14z\">\n",
            "                </path>\n",
            "               </svg>\n",
            "              </li-icon>\n",
            "             </div>\n",
            "            </div>\n",
            "           </div>\n",
            "           <span>\n",
            "            <!-- -->\n",
            "            Full-time · Entry level\n",
            "            <!-- -->\n",
            "           </span>\n",
            "          </li>\n",
            "          <li class=\"jobs-unified-top-card__job-insight\">\n",
            "           <div class=\"flex-shrink-zero mr2 t-black--light\">\n",
            "            <div class=\"ivm-image-view-model\">\n",
            "             <div class=\"ivm-view-attr__img-wrapper ivm-view-attr__img-wrapper--use-img-tag display-flex\">\n",
            "              <li-icon aria-hidden=\"true\" class=\"\" size=\"large\" type=\"company\">\n",
            "               <svg class=\"mercado-match\" data-supported-dps=\"24x24\" fill=\"currentColor\" focusable=\"false\" height=\"24\" viewbox=\"0 0 24 24\" width=\"24\" xmlns=\"http://www.w3.org/2000/svg\">\n",
            "                <path d=\"M4 2v20h16V2zm14 18h-4v-2h-4v2H6V4h12zm-7-8H8v-2h3zm0 4H8v-2h3zm5-4h-3v-2h3zm-5-4H8V6h3zm5 0h-3V6h3zm0 8h-3v-2h3z\">\n",
            "                </path>\n",
            "               </svg>\n",
            "              </li-icon>\n",
            "             </div>\n",
            "            </div>\n",
            "           </div>\n",
            "           <span>\n",
            "            <!-- -->\n",
            "            11-50 employees · Staffing and Recruiting\n",
            "            <!-- -->\n",
            "           </span>\n",
            "          </li>\n",
            "          <li class=\"jobs-unified-top-card__job-insight jobs-unified-top-card__job-insight--highlight\">\n",
            "           <div class=\"flex-shrink-zero mr2 t-black--light\">\n",
            "            <div class=\"ivm-image-view-model\">\n",
            "             <div class=\"ivm-view-attr__img-wrapper ivm-view-attr__img-wrapper--use-img-tag display-flex\">\n",
            "              <li-icon aria-hidden=\"true\" class=\"\" size=\"medium\" type=\"lightbulb\">\n",
            "               <svg class=\"mercado-match\" data-supported-dps=\"24x24\" fill=\"currentColor\" focusable=\"false\" height=\"24\" viewbox=\"0 0 24 24\" width=\"24\" xmlns=\"http://www.w3.org/2000/svg\">\n",
            "                <path d=\"M10 20h4v.1a1.9 1.9 0 01-1.9 1.9h-.2a1.9 1.9 0 01-1.9-1.9zm4.68-14.47A1 1 0 0016 5l.76-1.85a1 1 0 00-.54-1.3 1 1 0 00-1.31.54l-.76 1.85a1 1 0 00.53 1.29zm5.09 4.33l1.85-.76a1 1 0 00.54-1.31 1 1 0 00-1.3-.54L19 8a1 1 0 00-.54 1.31 1 1 0 001.3.55zM4.23 14.14l-1.85.76a1 1 0 00-.54 1.31 1 1 0 001.3.54L5 16a1 1 0 00.54-1.31 1 1 0 00-1.3-.55zm17.39.76l-1.85-.76A1 1 0 0019 16l1.85.76a1 1 0 00.78-1.86zM5 8l-1.86-.75a1 1 0 00-1.3.54 1 1 0 00.54 1.31l1.85.76A1 1 0 005 8zm3-3a1 1 0 001.31.54 1 1 0 00.54-1.3L9.1 2.38a1 1 0 00-1.31-.54 1 1 0 00-.54 1.3zm9 6.91V12a5.48 5.48 0 01-1.61 3.88l-.07.08a3.94 3.94 0 00-1.08 1.94L14 19h-4l-.24-1.08A4 4 0 008.68 16l-.07-.07A5.51 5.51 0 017 12v-.1A4.9 4.9 0 0111.9 7h.2a4.9 4.9 0 014.9 4.9zm-2 0A2.9 2.9 0 0012.11 9h-.21A2.9 2.9 0 009 11.9v.1a3.47 3.47 0 001 2.47l.08.08a5.92 5.92 0 011.5 2.45h.84a6 6 0 011.48-2.44l.08-.07A3.48 3.48 0 0015 12z\">\n",
            "                </path>\n",
            "               </svg>\n",
            "              </li-icon>\n",
            "             </div>\n",
            "            </div>\n",
            "           </div>\n",
            "           <span>\n",
            "            <!-- -->\n",
            "            See how you compare to 47 applicants.\n",
            "            <span class=\"white-space-pre\">\n",
            "            </span>\n",
            "            <a class=\"app-aware-link\" data-test-app-aware-link=\"\" href=\"https://www.linkedin.com/premium/products/?family=JSS&amp;upsellOrderOrigin=premium_job_details_summary_card&amp;utype=job&amp;referenceId=3R6Cu%2BKoQoKRyTOVoqW5BA%3D%3D\" target=\"_self\">\n",
            "             <!-- -->\n",
            "             Try Premium for free\n",
            "             <!-- -->\n",
            "            </a>\n",
            "           </span>\n",
            "          </li>\n",
            "         </ul>\n",
            "        </div>\n",
            "        <div class=\"mt5\">\n",
            "         <div class=\"display-flex\">\n",
            "          <div class=\"jobs-s-apply jobs-s-apply--fadein inline-flex mr2\">\n",
            "           <div class=\"jobs-apply-button--top-card\">\n",
            "            <button aria-label=\"Apply to Data Analyst on company website\" class=\"jobs-apply-button artdeco-button artdeco-button--icon-right artdeco-button--3 artdeco-button--primary ember-view\" id=\"ember852\" role=\"link\">\n",
            "             <li-icon aria-hidden=\"true\" class=\"artdeco-button__icon\" size=\"small\" type=\"link-external\">\n",
            "              <svg class=\"mercado-match\" data-supported-dps=\"16x16\" fill=\"currentColor\" focusable=\"false\" height=\"16\" viewbox=\"0 0 16 16\" width=\"16\" xmlns=\"http://www.w3.org/2000/svg\">\n",
            "               <path d=\"M15 1v6h-2V4.41L7.41 10 6 8.59 11.59 3H9V1zm-4 10a1 1 0 01-1 1H5a1 1 0 01-1-1V6a1 1 0 011-1h2V3H5a3 3 0 00-3 3v5a3 3 0 003 3h5a3 3 0 003-3V9h-2z\">\n",
            "               </path>\n",
            "              </svg>\n",
            "             </li-icon>\n",
            "             <span class=\"artdeco-button__text\">\n",
            "              Apply\n",
            "             </span>\n",
            "            </button>\n",
            "           </div>\n",
            "          </div>\n",
            "          <span class=\"visibility-hidden\">\n",
            "          </span>\n",
            "          <button class=\"jobs-save-button artdeco-button artdeco-button--3 artdeco-button--secondary\" type=\"button\">\n",
            "           <!-- -->\n",
            "           <span aria-hidden=\"true\">\n",
            "            Save\n",
            "           </span>\n",
            "           <span class=\"a11y-text\">\n",
            "            Save Data Analyst at PharmiWeb.Jobs: Global Life Science Jobs\n",
            "           </span>\n",
            "          </button>\n",
            "         </div>\n",
            "         <!-- -->\n",
            "         <!-- -->\n",
            "         <!-- -->\n",
            "        </div>\n",
            "        <!-- -->\n",
            "        <!-- -->\n",
            "        <!-- -->\n",
            "        <!-- -->\n",
            "        <!-- -->\n",
            "       </div>\n",
            "       <!-- -->\n",
            "       <!-- -->\n",
            "       <div class=\"jobs-unified-top-card__buttons-container absolute\">\n",
            "        <div class=\"display-flex flex-column\">\n",
            "         <div class=\"display-flex justify-flex-end\">\n",
            "          <div class=\"artdeco-dropdown artdeco-dropdown--placement-bottom artdeco-dropdown--justification-right ember-view\" id=\"ember427\">\n",
            "           <button aria-expanded=\"false\" aria-label=\"Share\" class=\"social-share__dropdown-trigger artdeco-button artdeco-button--3 artdeco-button--tertiary artdeco-button--circle artdeco-button--muted artdeco-dropdown__trigger artdeco-dropdown__trigger--placement-bottom ember-view\" id=\"ember428\" tabindex=\"0\" type=\"button\">\n",
            "            <li-icon aria-hidden=\"true\" class=\"artdeco-button__icon\" size=\"medium\" type=\"share-linkedin\">\n",
            "             <svg class=\"mercado-match\" data-supported-dps=\"24x24\" fill=\"currentColor\" focusable=\"false\" height=\"24\" viewbox=\"0 0 24 24\" width=\"24\" xmlns=\"http://www.w3.org/2000/svg\">\n",
            "              <path d=\"M23 12l-4.61 7H16l4-6H8a3.92 3.92 0 00-4 3.84V17a4 4 0 00.19 1.24L5.12 21H3l-.73-2.22A6.4 6.4 0 012 16.94 6 6 0 018 11h12l-4-6h2.39z\">\n",
            "              </path>\n",
            "             </svg>\n",
            "            </li-icon>\n",
            "            <span class=\"artdeco-button__text\">\n",
            "             Share\n",
            "            </span>\n",
            "            <!-- -->\n",
            "           </button>\n",
            "           <div aria-hidden=\"true\" class=\"social-share__content text-align-left artdeco-dropdown__content artdeco-dropdown--is-dropdown-element artdeco-dropdown__content--has-arrow artdeco-dropdown__content--arrow-right artdeco-dropdown__content--justification-right artdeco-dropdown__content--placement-bottom ember-view\" id=\"ember429\" tabindex=\"-1\">\n",
            "            <!-- -->\n",
            "           </div>\n",
            "          </div>\n",
            "          <div>\n",
            "           <!-- -->\n",
            "          </div>\n",
            "          <!-- -->\n",
            "          <!-- -->\n",
            "          <div class=\"artdeco-dropdown jobs-options artdeco-dropdown--placement-bottom artdeco-dropdown--justification-right ember-view\" id=\"ember430\">\n",
            "           <button aria-expanded=\"false\" class=\"artdeco-button artdeco-button--3 artdeco-button--tertiary artdeco-button--muted artdeco-button--circle artdeco-dropdown__trigger artdeco-dropdown__trigger--placement-bottom ember-view\" id=\"ember431\" tabindex=\"0\" type=\"button\">\n",
            "            <li-icon aria-hidden=\"true\" class=\"artdeco-button__icon\" type=\"overflow-web-ios\">\n",
            "             <svg class=\"mercado-match\" data-supported-dps=\"24x24\" fill=\"currentColor\" focusable=\"false\" height=\"24\" viewbox=\"0 0 24 24\" width=\"24\" xmlns=\"http://www.w3.org/2000/svg\">\n",
            "              <path d=\"M14 12a2 2 0 11-2-2 2 2 0 012 2zM4 10a2 2 0 102 2 2 2 0 00-2-2zm16 0a2 2 0 102 2 2 2 0 00-2-2z\">\n",
            "              </path>\n",
            "             </svg>\n",
            "            </li-icon>\n",
            "            <span class=\"artdeco-button__text\">\n",
            "             Show more options\n",
            "            </span>\n",
            "            <!-- -->\n",
            "           </button>\n",
            "           <div aria-hidden=\"true\" class=\"artdeco-dropdown__content artdeco-dropdown--is-dropdown-element artdeco-dropdown__content--has-arrow artdeco-dropdown__content--arrow-right artdeco-dropdown__content--justification-right artdeco-dropdown__content--placement-bottom ember-view\" id=\"ember432\" tabindex=\"-1\">\n",
            "            <!-- -->\n",
            "           </div>\n",
            "          </div>\n",
            "         </div>\n",
            "         <!-- -->\n",
            "        </div>\n",
            "       </div>\n",
            "      </div>\n",
            "      <div class=\"jobs-unified-top-card__sticky-header jobs-unified-top-card__sticky-header--disabled\">\n",
            "       <div class=\"jobs-unified-top-card__title-container\">\n",
            "        <a class=\"ember-view\" data-control-id=\"mdZWGb64G6DZP8qCAPQ+mQ==\" href=\"/jobs/view/3609065367/?alternateChannel=search&amp;refId=AxoCJAz0Vnn3xzCIlNO7ng%3D%3D&amp;trackingId=mdZWGb64G6DZP8qCAPQ%2BmQ%3D%3D&amp;trk=d_flagship3_search_srp_jobs\" id=\"ember433\">\n",
            "         <h2 class=\"t-16 t-black t-bold truncate\">\n",
            "          Data Analyst\n",
            "         </h2>\n",
            "        </a>\n",
            "        <div class=\"t-14 truncate\">\n",
            "         <span>\n",
            "          PharmiWeb.Jobs: Global Life Science Jobs\n",
            "         </span>\n",
            "         <span class=\"jobs-unified-top-card__bullet\">\n",
            "          Basel, Basel, Switzerland\n",
            "         </span>\n",
            "         <span class=\"jobs-unified-top-card__workplace-type\">\n",
            "          On-site\n",
            "         </span>\n",
            "        </div>\n",
            "       </div>\n",
            "       <div class=\"jobs-unified-top-card__sticky-buttons-container\">\n",
            "        <div class=\"jobs-s-apply jobs-s-apply--fadein inline-flex mr2\">\n",
            "         <div class=\"jobs-apply-button--top-card\">\n",
            "          <button aria-label=\"Apply to Data Analyst on company website\" class=\"jobs-apply-button artdeco-button artdeco-button--icon-right artdeco-button--2 artdeco-button--primary ember-view\" id=\"ember853\" role=\"link\">\n",
            "           <li-icon aria-hidden=\"true\" class=\"artdeco-button__icon\" size=\"small\" type=\"link-external\">\n",
            "            <svg class=\"mercado-match\" data-supported-dps=\"16x16\" fill=\"currentColor\" focusable=\"false\" height=\"16\" viewbox=\"0 0 16 16\" width=\"16\" xmlns=\"http://www.w3.org/2000/svg\">\n",
            "             <path d=\"M15 1v6h-2V4.41L7.41 10 6 8.59 11.59 3H9V1zm-4 10a1 1 0 01-1 1H5a1 1 0 01-1-1V6a1 1 0 011-1h2V3H5a3 3 0 00-3 3v5a3 3 0 003 3h5a3 3 0 003-3V9h-2z\">\n",
            "             </path>\n",
            "            </svg>\n",
            "           </li-icon>\n",
            "           <span class=\"artdeco-button__text\">\n",
            "            Apply\n",
            "           </span>\n",
            "          </button>\n",
            "         </div>\n",
            "        </div>\n",
            "        <button aria-expanded=\"false\" class=\"jobs-save-button mr2 artdeco-button artdeco-button--2 artdeco-button--secondary\" type=\"button\">\n",
            "         <!-- -->\n",
            "         <span aria-hidden=\"true\">\n",
            "          Save\n",
            "         </span>\n",
            "         <span class=\"a11y-text\">\n",
            "          Save Data Analyst at PharmiWeb.Jobs: Global Life Science Jobs\n",
            "         </span>\n",
            "        </button>\n",
            "        <div class=\"artdeco-dropdown jobs-options artdeco-dropdown--placement-bottom artdeco-dropdown--justification-right ember-view inline-flex\" id=\"ember434\">\n",
            "         <button aria-expanded=\"false\" class=\"artdeco-button artdeco-button--2 artdeco-button--tertiary artdeco-button--muted artdeco-button--circle artdeco-dropdown__trigger artdeco-dropdown__trigger--placement-bottom ember-view\" id=\"ember435\" tabindex=\"0\" type=\"button\">\n",
            "          <li-icon aria-hidden=\"true\" class=\"artdeco-button__icon\" type=\"overflow-web-ios\">\n",
            "           <svg class=\"mercado-match\" data-supported-dps=\"24x24\" fill=\"currentColor\" focusable=\"false\" height=\"24\" viewbox=\"0 0 24 24\" width=\"24\" xmlns=\"http://www.w3.org/2000/svg\">\n",
            "            <path d=\"M14 12a2 2 0 11-2-2 2 2 0 012 2zM4 10a2 2 0 102 2 2 2 0 00-2-2zm16 0a2 2 0 102 2 2 2 0 00-2-2z\">\n",
            "            </path>\n",
            "           </svg>\n",
            "          </li-icon>\n",
            "          <span class=\"artdeco-button__text\">\n",
            "           Show more options\n",
            "          </span>\n",
            "          <!-- -->\n",
            "         </button>\n",
            "         <div aria-hidden=\"true\" class=\"artdeco-dropdown__content artdeco-dropdown--is-dropdown-element artdeco-dropdown__content--has-arrow artdeco-dropdown__content--arrow-right artdeco-dropdown__content--justification-right artdeco-dropdown__content--placement-bottom ember-view\" id=\"ember436\" tabindex=\"-1\">\n",
            "          <!-- -->\n",
            "         </div>\n",
            "        </div>\n",
            "       </div>\n",
            "      </div>\n",
            "     </div>\n",
            "     <!-- -->\n",
            "     <!-- -->\n",
            "     <!-- -->\n",
            "    </div>\n",
            "    <!-- -->\n",
            "    <div class=\"jobs-box--fadein jobs-box--full-width jobs-box--with-cta-large jobs-description jobs-description--reformatted\">\n",
            "     <!-- -->\n",
            "     <article class=\"jobs-description__container m4\">\n",
            "      <div class=\"jobs-description__content jobs-description-content\">\n",
            "       <div class=\"jobs-box__html-content jobs-description-content__text t-14 t-normal jobs-description-content__text--stretch\" id=\"job-details\" tabindex=\"-1\">\n",
            "        <h2 class=\"text-heading-large mb4\">\n",
            "         About the job\n",
            "        </h2>\n",
            "        <!-- -->\n",
            "        <!-- -->\n",
            "        <span>\n",
            "         What You Will Achieve\n",
            "         <p>\n",
            "          <br/>\n",
            "         </p>\n",
            "         This position will apply advanced manufacturing, science, and technology to support business and process improvements for the manufacture of small and / or large volume parenteral products. You will be a member of the Transformation and Strategy team. As a Data Analyst you will be responsible for mining, retrieving, organizing, and analyzing data to support the operations of a large manufacturing facility. Using the data, you will help to develop key performance indicators to demonstrate the effectiveness of processes and systems against business strategies.\n",
            "         <p>\n",
            "          <br/>\n",
            "         </p>\n",
            "         Your knowledge of manufacturing operations and computer systems/tools will make you a critical member of the team. Your strong business processes and workflow skills will help facilitate required gatherings for building and enhancing business process maps and strategies. Your innovative use of communication tools and techniques will facilitate in explaining difficult issues, establishing consensus between teams, and will create a collaborative teaming environment for your colleagues.\n",
            "         <p>\n",
            "          <br/>\n",
            "         </p>\n",
            "         <u>\n",
            "          Main Responsibilities\n",
            "         </u>\n",
            "         <p>\n",
            "          <br/>\n",
            "         </p>\n",
            "         <ul>\n",
            "          <li>\n",
            "           Interpret data, analyze results using statistical techniques and provide ongoing reports\n",
            "          </li>\n",
            "          <li>\n",
            "           Develop and implement databases, data collection systems, data analytics and other strategies that optimize statistical efficiency and quality\n",
            "          </li>\n",
            "          <li>\n",
            "           Acquire data from primary or secondary data sources and maintain databases/data systems\n",
            "          </li>\n",
            "          <li>\n",
            "           Identify, analyze, and interpret trends or patterns in complex data sets\n",
            "          </li>\n",
            "          <li>\n",
            "           Filter and “clean” data by reviewing reports, printouts, and performance indicators\n",
            "          </li>\n",
            "          <li>\n",
            "           Work with management to prioritize business and information needs\n",
            "          </li>\n",
            "          <li>\n",
            "           Identify and define new process improvement opportunities\n",
            "          </li>\n",
            "         </ul>\n",
            "         <p>\n",
            "          <br/>\n",
            "         </p>\n",
            "         <u>\n",
            "          Must-Haves\n",
            "         </u>\n",
            "         <p>\n",
            "          <br/>\n",
            "         </p>\n",
            "         <ul>\n",
            "          <li>\n",
            "           A Bachelor’s degree with at least three years of experience; OR a Master’s degree with more than one year of experience.\n",
            "          </li>\n",
            "          <li>\n",
            "           Prior pharmaceutical and/or manufacturing experience required\n",
            "          </li>\n",
            "          <li>\n",
            "           Technical expertise regarding data models, database design development, data mining and segmentation techniques\n",
            "          </li>\n",
            "          <li>\n",
            "           Knowledge of and experience with reporting packages (Business Objects etc) and databases (SQL etc)\n",
            "          </li>\n",
            "          <li>\n",
            "           Knowledge of statistics and experience using statistical packages for analyzing datasets (Excel, SPSS, SAS etc)\n",
            "          </li>\n",
            "          <li>\n",
            "           Knowledge of SAP (ERP materials planning systems).\n",
            "          </li>\n",
            "         </ul>\n",
            "         <p>\n",
            "          <br/>\n",
            "         </p>\n",
            "         You will be joining an organisation with determined to bring about considerable change to the global industry, in an environment that promotes self-development and personal success while driving for company growth.\n",
            "         <p>\n",
            "          <br/>\n",
            "         </p>\n",
            "         <strong>\n",
            "          Job Title:\n",
            "         </strong>\n",
            "         Data Analyst\n",
            "         <p>\n",
            "          <br/>\n",
            "         </p>\n",
            "         <strong>\n",
            "          Location:\n",
            "         </strong>\n",
            "         Basel, Switzerland\n",
            "         <p>\n",
            "          <br/>\n",
            "         </p>\n",
            "         <strong>\n",
            "          Job Type:\n",
            "         </strong>\n",
            "         Contract\n",
            "         <p>\n",
            "          <br/>\n",
            "         </p>\n",
            "         Aerotek, an Allegis Group company. Allegis Group AG, Aeschengraben 20, CH-4051 Basel, Switzerland. Registration No. CHE-101.865.121. Aerotek and Actalent Services are companies within the Allegis Group network of companies (collectively referred to as \"Allegis Group\"). Aerotek, Actalent Services, Aston Carter, EASi, TEKsystems, Stamford Consultants and The Stamford Group are Allegis Group brands. If you apply, your personal data will be processed as described in the Allegis Group Online Privacy Notice available at https://www.allegisgroup.com/en-gb/privacy-notices.\n",
            "         <p>\n",
            "          <br/>\n",
            "         </p>\n",
            "         To access our Online Privacy Notice, which explains what information we may collect, use, share, and store about you, and describes your rights and choices about this, please go to https://www.allegisgroup.com/en-gb/privacy-notices.\n",
            "         <p>\n",
            "          <br/>\n",
            "         </p>\n",
            "         We are part of a global network of companies and as a result, the personal data you provide will be shared within Allegis Group and transferred and processed outside the UK, Switzerland and European Economic Area subject to the protections described in the Allegis Group Online Privacy Notice. We store personal data in the UK, EEA, Switzerland and the USA. If you would like to exercise your privacy rights, please visit the \"Contacting Us\" section of our Online Privacy Notice at https://www.allegisgroup.com/en-gb/privacy-notices for details on how to contact us. To protect your privacy and security, we may take steps to verify your identity, such as a password and user ID if there is an account associated with your request, or identifying information such as your address or date of birth, before proceeding with your request. If you are resident in the UK, EEA or Switzerland, we will process any access request you make in accordance with our commitments under the UK Data Protection Act, EU-U.S. Privacy Shield or the Swiss-U.S. Privacy Shield\n",
            "         <!-- -->\n",
            "        </span>\n",
            "       </div>\n",
            "       <!-- -->\n",
            "       <div class=\"jobs-description__details\">\n",
            "        <!-- -->\n",
            "       </div>\n",
            "      </div>\n",
            "     </article>\n",
            "     <!-- -->\n",
            "    </div>\n",
            "    <!-- -->\n",
            "    <div class=\"jobs-unified-description__salary-main-rail-card\" id=\"SALARY\">\n",
            "     <!-- -->\n",
            "     <!-- -->\n",
            "    </div>\n",
            "    <!-- -->\n",
            "    <!-- -->\n",
            "    <!-- -->\n",
            "    <!-- -->\n",
            "    <section class=\"artdeco-card ember-view\" id=\"ember854\">\n",
            "     <!-- -->\n",
            "     <section class=\"jobs-company jobs-box--fadein mb4 jobs-company--two-pane\">\n",
            "      <div class=\"jobs-company__box\">\n",
            "       <h2 class=\"text-heading-large\">\n",
            "        About the company\n",
            "       </h2>\n",
            "       <div class=\"display-flex align-items-center mt5\">\n",
            "        <div class=\"artdeco-entity-lockup artdeco-entity-lockup--size-5 ember-view flex-grow-1\" id=\"ember855\">\n",
            "         <div class=\"artdeco-entity-lockup__image artdeco-entity-lockup__image--type-square ember-view\" id=\"ember856\" type=\"square\">\n",
            "          <a class=\"ember-view link-without-hover-state inline-block\" href=\"/company/pharmiweb-jobs/life/\" id=\"ember857\">\n",
            "           <img alt=\"PharmiWeb.Jobs: Global Life Science Jobs company logo\" class=\"evi-image ember-view\" id=\"ember858\" src=\"https://media.licdn.com/dms/image/C560BAQGUG7P6YvUwMQ/company-logo_100_100/0/1631608134203?e=1692835200&amp;v=beta&amp;t=VhQBAmxEZoos_HwkKIkrqU5NXqFautE1PESvZ4dP9GE\" title=\"PharmiWeb.Jobs: Global Life Science Jobs\"/>\n",
            "          </a>\n",
            "         </div>\n",
            "         <div class=\"artdeco-entity-lockup__content ember-view flex-grow-1\" id=\"ember859\">\n",
            "          <div class=\"artdeco-entity-lockup__title ember-view t-20\" id=\"ember860\">\n",
            "           <a class=\"ember-view link-without-visited-state inline-block t-black\" href=\"/company/pharmiweb-jobs/life/\" id=\"ember861\">\n",
            "            PharmiWeb.Jobs: Global Life Science Jobs\n",
            "           </a>\n",
            "          </div>\n",
            "          <div class=\"artdeco-entity-lockup__subtitle ember-view t-16\" id=\"ember862\">\n",
            "           64,551 followers\n",
            "          </div>\n",
            "         </div>\n",
            "        </div>\n",
            "        <button aria-label=\"Follow\" aria-pressed=\"false\" class=\"follow artdeco-button artdeco-button--secondary ml5\" type=\"button\">\n",
            "         <svg aria-hidden=\"true\" class=\"artdeco-button__icon\" data-supported-dps=\"16x16\" data-test-icon=\"add-small\" height=\"16\" role=\"none\" viewbox=\"0 0 16 16\" width=\"16\" xmlns=\"http://www.w3.org/2000/svg\">\n",
            "          <!-- -->\n",
            "          <use height=\"16\" href=\"#add-small\" width=\"16\">\n",
            "          </use>\n",
            "         </svg>\n",
            "         <span aria-hidden=\"true\">\n",
            "          Follow\n",
            "         </span>\n",
            "        </button>\n",
            "       </div>\n",
            "       <div class=\"t-14 mt5\">\n",
            "        Staffing &amp; Recruiting\n",
            "        <span class=\"jobs-company__inline-information\">\n",
            "         11-50 employees\n",
            "        </span>\n",
            "        <span class=\"jobs-company__inline-information\">\n",
            "         18 on LinkedIn\n",
            "        </span>\n",
            "       </div>\n",
            "       <p class=\"jobs-company__company-description text-body-small-open\">\n",
            "       </p>\n",
            "       <div class=\"inline-show-more-text inline-show-more-text--is-collapsed inline-show-more-text--is-collapsed-with-line-clamp\" style=\"-webkit-line-clamp:3;\" tabindex=\"-1\">\n",
            "        PharmiWeb.Jobs is PharmiWeb's dedicated Life Science job board. PharmiWeb.jobs is the largest dedicated niche pharma job board in Europe. Follow us for the latest jobs in pharma, industry employment news, career tips, Contact us to advertise your life science vacancies\n",
            "        <span class=\"inline-show-more-text__link-container-collapsed\">\n",
            "         <span>\n",
            "          …\n",
            "         </span>\n",
            "         <button aria-expanded=\"false\" class=\"inline-show-more-text__button inline-show-more-text__button--light link\" type=\"button\">\n",
            "          show more\n",
            "         </button>\n",
            "        </span>\n",
            "        <!-- -->\n",
            "       </div>\n",
            "       <!-- -->\n",
            "       <!-- -->\n",
            "      </div>\n",
            "      <!-- -->\n",
            "      <div class=\"jobs-company__footer text-align-center\">\n",
            "       <a aria-label=\"Show more about the company\" class=\"ember-view link-without-hover-state block pv3\" href=\"/company/pharmiweb-jobs/life/\" id=\"ember863\">\n",
            "        Show more\n",
            "       </a>\n",
            "      </div>\n",
            "     </section>\n",
            "    </section>\n",
            "    <!-- -->\n",
            "   </div>\n",
            "   <!-- -->\n",
            "  </div>\n",
            "  <div class=\"ember-view\" id=\"ember438\">\n",
            "   <!-- -->\n",
            "  </div>\n",
            "  <div class=\"ember-view\" id=\"ember439\">\n",
            "   <div class=\"ember-view\" id=\"ember440\">\n",
            "    <!-- -->\n",
            "   </div>\n",
            "  </div>\n",
            "  <div class=\"ember-view\" id=\"ember441\">\n",
            "   <!-- -->\n",
            "  </div>\n",
            "  <!-- -->\n",
            "  <!-- -->\n",
            "  <!-- -->\n",
            "  <div>\n",
            "   <div class=\"ember-view\" id=\"ember442\">\n",
            "    <!-- -->\n",
            "   </div>\n",
            "  </div>\n",
            "  <!-- -->\n",
            " </body>\n",
            "</html>\n"
          ]
        }
      ],
      "source": [
        "# и посмотрим на него в структурированном виде\n",
        "print(soup_test.prettify())"
      ]
    },
    {
      "cell_type": "code",
      "execution_count": null,
      "id": "01185f1c",
      "metadata": {
        "scrolled": true,
        "id": "01185f1c",
        "outputId": "b7ed5bf2-0bb9-4b5b-bb70-af3c5e745acc"
      },
      "outputs": [
        {
          "data": {
            "text/html": [
              "\n",
              "  <div>\n",
              "    <div class=\"\n",
              "        jobs-details__main-content jobs-details__main-content--single-pane full-width\n",
              "        \">\n",
              "        \n",
              "<!---->\n",
              "      \n",
              "      <div>\n",
              "        <div class=\"jobs-unified-top-card t-14\">\n",
              "<!---->  <div class=\"relative\n",
              "      jobs-unified-top-card__container--two-pane\">\n",
              "\n",
              "    <div class=\"jobs-unified-top-card__content--two-pane\">\n",
              "<!---->\n",
              "        <a href=\"/jobs/view/3536410480/?alternateChannel=search&amp;refId=yFaTKaHX8J68y1%2BRI5uvyw%3D%3D&amp;trackingId=i8cYyIfAv3myyhTKvTYKog%3D%3D&amp;trk=d_flagship3_search_srp_jobs\" id=\"ember425\" class=\"ember-view\">\n",
              "          <h2 class=\"t-24 t-bold jobs-unified-top-card__job-title\">Data Analyst</h2>\n",
              "        </a>\n",
              "\n",
              "      <div class=\"jobs-unified-top-card__primary-description\">\n",
              "          <span class=\"jobs-unified-top-card__subtitle-primary-grouping t-black\">\n",
              "            <span class=\"jobs-unified-top-card__company-name\">\n",
              "                  <a href=\"/company/nexeo/life/\" id=\"ember426\" class=\"ember-view t-black t-normal\">\n",
              "                    Nexeo\n",
              "                  </a>\n",
              "            </span>\n",
              "              <span class=\"jobs-unified-top-card__bullet\">\n",
              "                Brussels Metropolitan Area\n",
              "              </span>\n",
              "\n",
              "              <span class=\"jobs-unified-top-card__workplace-type\">Hybrid</span>\n",
              "          </span>\n",
              "          <span class=\"jobs-unified-top-card__subtitle-secondary-grouping t-black--light\">\n",
              "              <span class=\"jobs-unified-top-card__posted-date\n",
              "                  \">\n",
              "                1 week ago\n",
              "              </span>\n",
              "                <span class=\"jobs-unified-top-card__bullet\">\n",
              "                    Over 200 applicants\n",
              "                </span>\n",
              "          </span>\n",
              "      </div>\n",
              "\n",
              "      <div class=\"mt5 mb2\">\n",
              "          <ul>\n",
              "                <li class=\"jobs-unified-top-card__job-insight\">\n",
              "                  <div class=\"flex-shrink-zero mr2 t-black--light\">\n",
              "                    \n",
              "    <div class=\"ivm-image-view-model   \">\n",
              "        \n",
              "    <div class=\"ivm-view-attr__img-wrapper ivm-view-attr__img-wrapper--use-img-tag display-flex\n",
              "        \n",
              "        \">\n",
              "        <li-icon aria-hidden=\"true\" type=\"job\" class=\" \" size=\"large\"><svg xmlns=\"http://www.w3.org/2000/svg\" viewBox=\"0 0 24 24\" data-supported-dps=\"24x24\" fill=\"currentColor\" class=\"mercado-match\" width=\"24\" height=\"24\" focusable=\"false\">\n",
              "  <path d=\"M17 6V5a3 3 0 00-3-3h-4a3 3 0 00-3 3v1H2v4a3 3 0 003 3h14a3 3 0 003-3V6zM9 5a1 1 0 011-1h4a1 1 0 011 1v1H9zm10 9a4 4 0 003-1.38V17a3 3 0 01-3 3H5a3 3 0 01-3-3v-4.38A4 4 0 005 14z\"></path>\n",
              "</svg></li-icon>\n",
              "    </div>\n",
              "  \n",
              "          </div>\n",
              "  \n",
              "                  </div>\n",
              "                  <span>\n",
              "                    <!---->Full-time · Associate<!---->\n",
              "                  </span>\n",
              "                </li>\n",
              "                <li class=\"jobs-unified-top-card__job-insight\">\n",
              "                  <div class=\"flex-shrink-zero mr2 t-black--light\">\n",
              "                    \n",
              "    <div class=\"ivm-image-view-model   \">\n",
              "        \n",
              "    <div class=\"ivm-view-attr__img-wrapper ivm-view-attr__img-wrapper--use-img-tag display-flex\n",
              "        \n",
              "        \">\n",
              "        <li-icon aria-hidden=\"true\" type=\"company\" class=\" \" size=\"large\"><svg xmlns=\"http://www.w3.org/2000/svg\" viewBox=\"0 0 24 24\" data-supported-dps=\"24x24\" fill=\"currentColor\" class=\"mercado-match\" width=\"24\" height=\"24\" focusable=\"false\">\n",
              "  <path d=\"M4 2v20h16V2zm14 18h-4v-2h-4v2H6V4h12zm-7-8H8v-2h3zm0 4H8v-2h3zm5-4h-3v-2h3zm-5-4H8V6h3zm5 0h-3V6h3zm0 8h-3v-2h3z\"></path>\n",
              "</svg></li-icon>\n",
              "    </div>\n",
              "  \n",
              "          </div>\n",
              "  \n",
              "                  </div>\n",
              "                  <span>\n",
              "                    <!---->201-500 employees · IT Services and IT Consulting<!---->\n",
              "                  </span>\n",
              "                </li>\n",
              "                    <li class=\"jobs-unified-top-card__job-insight jobs-unified-top-card__job-insight--highlight\">\n",
              "                      <div class=\"flex-shrink-zero mr2 t-black--light\">\n",
              "                        \n",
              "    <div class=\"ivm-image-view-model   \">\n",
              "        \n",
              "    <div class=\"ivm-view-attr__img-wrapper ivm-view-attr__img-wrapper--use-img-tag display-flex\n",
              "        \n",
              "        \">\n",
              "        <li-icon aria-hidden=\"true\" type=\"lightbulb\" class=\" \" size=\"medium\"><svg xmlns=\"http://www.w3.org/2000/svg\" viewBox=\"0 0 24 24\" data-supported-dps=\"24x24\" fill=\"currentColor\" class=\"mercado-match\" width=\"24\" height=\"24\" focusable=\"false\">\n",
              "  <path d=\"M10 20h4v.1a1.9 1.9 0 01-1.9 1.9h-.2a1.9 1.9 0 01-1.9-1.9zm4.68-14.47A1 1 0 0016 5l.76-1.85a1 1 0 00-.54-1.3 1 1 0 00-1.31.54l-.76 1.85a1 1 0 00.53 1.29zm5.09 4.33l1.85-.76a1 1 0 00.54-1.31 1 1 0 00-1.3-.54L19 8a1 1 0 00-.54 1.31 1 1 0 001.3.55zM4.23 14.14l-1.85.76a1 1 0 00-.54 1.31 1 1 0 001.3.54L5 16a1 1 0 00.54-1.31 1 1 0 00-1.3-.55zm17.39.76l-1.85-.76A1 1 0 0019 16l1.85.76a1 1 0 00.78-1.86zM5 8l-1.86-.75a1 1 0 00-1.3.54 1 1 0 00.54 1.31l1.85.76A1 1 0 005 8zm3-3a1 1 0 001.31.54 1 1 0 00.54-1.3L9.1 2.38a1 1 0 00-1.31-.54 1 1 0 00-.54 1.3zm9 6.91V12a5.48 5.48 0 01-1.61 3.88l-.07.08a3.94 3.94 0 00-1.08 1.94L14 19h-4l-.24-1.08A4 4 0 008.68 16l-.07-.07A5.51 5.51 0 017 12v-.1A4.9 4.9 0 0111.9 7h.2a4.9 4.9 0 014.9 4.9zm-2 0A2.9 2.9 0 0012.11 9h-.21A2.9 2.9 0 009 11.9v.1a3.47 3.47 0 001 2.47l.08.08a5.92 5.92 0 011.5 2.45h.84a6 6 0 011.48-2.44l.08-.07A3.48 3.48 0 0015 12z\"></path>\n",
              "</svg></li-icon>\n",
              "    </div>\n",
              "  \n",
              "          </div>\n",
              "  \n",
              "                      </div>\n",
              "                      <span>\n",
              "                        <!---->See how you compare to 244 applicants.<span class=\"white-space-pre\"> </span><a class=\"app-aware-link \" target=\"_self\" href=\"https://www.linkedin.com/premium/products/?family=JSS&amp;upsellOrderOrigin=premium_job_details_summary_card&amp;utype=job&amp;referenceId=NPtIbIRQRQ2Ox2PmeLzKEQ%3D%3D\" data-test-app-aware-link=\"\"><!---->Try Premium for free<!----></a>\n",
              "                      </span>\n",
              "                    </li>\n",
              "                    <li class=\"jobs-unified-top-card__job-insight\">\n",
              "                      <div class=\"flex-shrink-zero mr2 t-black--light\">\n",
              "                        \n",
              "    <div class=\"ivm-image-view-model   \">\n",
              "        \n",
              "    <div class=\"ivm-view-attr__img-wrapper ivm-view-attr__img-wrapper--use-img-tag display-flex\n",
              "        \n",
              "        \">\n",
              "        <li-icon aria-hidden=\"true\" type=\"checklist\" class=\" \" size=\"medium\"><svg xmlns=\"http://www.w3.org/2000/svg\" viewBox=\"0 0 24 24\" data-supported-dps=\"24x24\" fill=\"currentColor\" class=\"mercado-match\" width=\"24\" height=\"24\" focusable=\"false\">\n",
              "  <path d=\"M22 3v2H11V3zM11 13h11v-2H11zm0 8h11v-2H11zM4.85 4L3.34 2.51 2 3.85 5.15 7l4.6-7H7.48zm0 8l-1.51-1.49L2 11.85 5.15 15l4.6-7H7.48zm0 8l-1.51-1.49L2 19.85 5.15 23l4.6-7H7.48z\"></path>\n",
              "</svg></li-icon>\n",
              "    </div>\n",
              "  \n",
              "          </div>\n",
              "  \n",
              "                      </div>\n",
              "\n",
              "                      <span>\n",
              "                        <span aria-hidden=\"true\"><!---->Skills: Английский язык, Анализ данных, +8 more<!----></span><span class=\"visually-hidden\"><!---->Skills: Английский язык, Анализ данных, +8 more<!----></span>\n",
              "                      </span>\n",
              "\n",
              "                    </li>\n",
              "          </ul>\n",
              "              </div>\n",
              "\n",
              "      <div class=\"mt5\">\n",
              "          <div class=\"display-flex\">\n",
              "              <div class=\"jobs-s-apply jobs-s-apply--fadein inline-flex mr2\">\n",
              "    <div class=\"jobs-apply-button--top-card\">\n",
              "  <button aria-label=\"Easy Apply to Data Analyst at Nexeo\" id=\"ember2354\" class=\"jobs-apply-button artdeco-button artdeco-button--3 artdeco-button--primary ember-view\" data-job-id=\"3536410480\">  <li-icon aria-hidden=\"true\" type=\"linkedin-bug\" class=\"artdeco-button__icon artdeco-button__icon--in-bug\" size=\"14dp\" color=\"inverse\"><svg xmlns=\"http://www.w3.org/2000/svg\" viewBox=\"0 0 14 14\" data-supported-dps=\"14x14\" fill=\"currentColor\" class=\"mercado-match\" width=\"14\" height=\"14\" focusable=\"false\">\n",
              "  <g>\n",
              "    <path class=\"background-mercado\" d=\"M14 1v12a1 1 0 01-1 1H1a1 1 0 01-1-1V1a1 1 0 011-1h12a1 1 0 011 1zM4 5H2v7h2zm.25-2A1.27 1.27 0 003 1.8 1.27 1.27 0 001.75 3 1.27 1.27 0 003 4.2 1.27 1.27 0 004.25 3zM12 8.29c0-2.2-.73-3.49-2.86-3.49A2.71 2.71 0 006.89 6V5H5v7h2V8.73A1.74 1.74 0 018.66 6.8C9.82 6.8 10 7.94 10 8.73V12h2z\"></path>\n",
              "  </g>\n",
              "</svg></li-icon>\n",
              "\n",
              "<span class=\"artdeco-button__text\">\n",
              "    Easy Apply\n",
              "</span></button>\n",
              "</div>\n",
              "  </div>\n",
              "\n",
              "              <span class=\"visibility-hidden\"></span>\n",
              "              <button class=\"jobs-save-button artdeco-button artdeco-button--3 artdeco-button--secondary\" type=\"button\">\n",
              "<!---->      <span aria-hidden=\"true\">\n",
              "        Save\n",
              "      </span>\n",
              "    <span class=\"a11y-text\">\n",
              "      Save Data Analyst at Nexeo\n",
              "    </span>\n",
              "</button>\n",
              "          </div>\n",
              "\n",
              "<!---->\n",
              "<!----><!---->      </div>\n",
              "\n",
              "<!---->\n",
              "<!---->\n",
              "<!----><!---->\n",
              "<!---->    </div>\n",
              "\n",
              "<!---->\n",
              "<!---->\n",
              "    <div class=\"jobs-unified-top-card__buttons-container absolute\">\n",
              "      <div class=\"display-flex flex-column\">\n",
              "        <div class=\"display-flex justify-flex-end\">\n",
              "            <div id=\"ember427\" class=\"artdeco-dropdown artdeco-dropdown--placement-bottom artdeco-dropdown--justification-right ember-view\">\n",
              "    <button aria-expanded=\"false\" aria-label=\"Share\" id=\"ember428\" class=\"social-share__dropdown-trigger artdeco-button artdeco-button--3 artdeco-button--tertiary artdeco-button--circle artdeco-button--muted artdeco-dropdown__trigger artdeco-dropdown__trigger--placement-bottom ember-view\" type=\"button\" tabindex=\"0\">\n",
              "      <li-icon aria-hidden=\"true\" type=\"share-linkedin\" class=\"artdeco-button__icon\" size=\"medium\"><svg xmlns=\"http://www.w3.org/2000/svg\" viewBox=\"0 0 24 24\" data-supported-dps=\"24x24\" fill=\"currentColor\" class=\"mercado-match\" width=\"24\" height=\"24\" focusable=\"false\">\n",
              "  <path d=\"M23 12l-4.61 7H16l4-6H8a3.92 3.92 0 00-4 3.84V17a4 4 0 00.19 1.24L5.12 21H3l-.73-2.22A6.4 6.4 0 012 16.94 6 6 0 018 11h12l-4-6h2.39z\"></path>\n",
              "</svg></li-icon>\n",
              "      <span class=\"artdeco-button__text\">Share</span>\n",
              "    \n",
              "<!----></button>\n",
              "\n",
              "  <div tabindex=\"-1\" aria-hidden=\"true\" id=\"ember429\" class=\"social-share__content text-align-left artdeco-dropdown__content artdeco-dropdown--is-dropdown-element artdeco-dropdown__content--has-arrow artdeco-dropdown__content--arrow-right artdeco-dropdown__content--justification-right artdeco-dropdown__content--placement-bottom ember-view\"><!----></div>\n",
              "</div>\n",
              "\n",
              "<div>\n",
              "    \n",
              "<!---->  \n",
              "\n",
              "</div>\n",
              "\n",
              "<!---->\n",
              "\n",
              "<!---->\n",
              "            <div id=\"ember430\" class=\"artdeco-dropdown jobs-options artdeco-dropdown--placement-bottom artdeco-dropdown--justification-right ember-view\">\n",
              "  \n",
              "              <button aria-expanded=\"false\" id=\"ember431\" class=\"artdeco-button artdeco-button--3 artdeco-button--tertiary artdeco-button--muted artdeco-button--circle artdeco-dropdown__trigger artdeco-dropdown__trigger--placement-bottom ember-view\" type=\"button\" tabindex=\"0\">\n",
              "                <li-icon aria-hidden=\"true\" type=\"overflow-web-ios\" class=\"artdeco-button__icon\"><svg xmlns=\"http://www.w3.org/2000/svg\" viewBox=\"0 0 24 24\" data-supported-dps=\"24x24\" fill=\"currentColor\" class=\"mercado-match\" width=\"24\" height=\"24\" focusable=\"false\">\n",
              "  <path d=\"M14 12a2 2 0 11-2-2 2 2 0 012 2zM4 10a2 2 0 102 2 2 2 0 00-2-2zm16 0a2 2 0 102 2 2 2 0 00-2-2z\"></path>\n",
              "</svg></li-icon>\n",
              "                <span class=\"artdeco-button__text\">\n",
              "                  Show more options\n",
              "                </span>\n",
              "              \n",
              "<!----></button>\n",
              "            \n",
              "  <div tabindex=\"-1\" aria-hidden=\"true\" id=\"ember432\" class=\"artdeco-dropdown__content artdeco-dropdown--is-dropdown-element artdeco-dropdown__content--has-arrow artdeco-dropdown__content--arrow-right artdeco-dropdown__content--justification-right artdeco-dropdown__content--placement-bottom ember-view\"><!----></div>\n",
              "</div>\n",
              "        </div>\n",
              "<!---->      </div>\n",
              "    </div>\n",
              "  </div>\n",
              "    <div class=\"jobs-unified-top-card__sticky-header\n",
              "        jobs-unified-top-card__sticky-header--disabled\">\n",
              "      <div class=\"jobs-unified-top-card__title-container\">\n",
              "          <a data-control-id=\"i8cYyIfAv3myyhTKvTYKog==\" href=\"/jobs/view/3536410480/?alternateChannel=search&amp;refId=yFaTKaHX8J68y1%2BRI5uvyw%3D%3D&amp;trackingId=i8cYyIfAv3myyhTKvTYKog%3D%3D&amp;trk=d_flagship3_search_srp_jobs\" id=\"ember433\" class=\"ember-view\">\n",
              "            <h2 class=\"t-16 t-black t-bold truncate\">\n",
              "              Data Analyst\n",
              "            </h2>\n",
              "          </a>\n",
              "        <div class=\"t-14 truncate\">\n",
              "          <span>Nexeo</span>\n",
              "            <span class=\"jobs-unified-top-card__bullet\">Brussels Metropolitan Area</span>\n",
              "            <span class=\"jobs-unified-top-card__workplace-type\">Hybrid</span>\n",
              "        </div>\n",
              "      </div>\n",
              "      <div class=\"jobs-unified-top-card__sticky-buttons-container\">\n",
              "          <div class=\"jobs-s-apply jobs-s-apply--fadein inline-flex mr2\">\n",
              "    <div class=\"jobs-apply-button--top-card\">\n",
              "  <button aria-label=\"Easy Apply to Data Analyst at Nexeo\" id=\"ember2355\" class=\"jobs-apply-button artdeco-button artdeco-button--2 artdeco-button--primary ember-view\" data-job-id=\"3536410480\">  <li-icon aria-hidden=\"true\" type=\"linkedin-bug\" class=\"artdeco-button__icon artdeco-button__icon--in-bug\" size=\"14dp\" color=\"inverse\"><svg xmlns=\"http://www.w3.org/2000/svg\" viewBox=\"0 0 14 14\" data-supported-dps=\"14x14\" fill=\"currentColor\" class=\"mercado-match\" width=\"14\" height=\"14\" focusable=\"false\">\n",
              "  <g>\n",
              "    <path class=\"background-mercado\" d=\"M14 1v12a1 1 0 01-1 1H1a1 1 0 01-1-1V1a1 1 0 011-1h12a1 1 0 011 1zM4 5H2v7h2zm.25-2A1.27 1.27 0 003 1.8 1.27 1.27 0 001.75 3 1.27 1.27 0 003 4.2 1.27 1.27 0 004.25 3zM12 8.29c0-2.2-.73-3.49-2.86-3.49A2.71 2.71 0 006.89 6V5H5v7h2V8.73A1.74 1.74 0 018.66 6.8C9.82 6.8 10 7.94 10 8.73V12h2z\"></path>\n",
              "  </g>\n",
              "</svg></li-icon>\n",
              "\n",
              "<span class=\"artdeco-button__text\">\n",
              "    Easy Apply\n",
              "</span></button>\n",
              "</div>\n",
              "  </div>\n",
              "\n",
              "          <button class=\"jobs-save-button mr2 artdeco-button artdeco-button--2 artdeco-button--secondary\" aria-expanded=\"false\" type=\"button\">\n",
              "<!---->      <span aria-hidden=\"true\">\n",
              "        Save\n",
              "      </span>\n",
              "    <span class=\"a11y-text\">\n",
              "      Save Data Analyst at Nexeo\n",
              "    </span>\n",
              "</button>\n",
              "\n",
              "        <div id=\"ember434\" class=\"artdeco-dropdown jobs-options artdeco-dropdown--placement-bottom artdeco-dropdown--justification-right ember-view inline-flex\">\n",
              "  \n",
              "          <button aria-expanded=\"false\" id=\"ember435\" class=\"artdeco-button artdeco-button--2 artdeco-button--tertiary artdeco-button--muted artdeco-button--circle artdeco-dropdown__trigger artdeco-dropdown__trigger--placement-bottom ember-view\" type=\"button\" tabindex=\"0\">\n",
              "\n",
              "            <li-icon aria-hidden=\"true\" type=\"overflow-web-ios\" class=\"artdeco-button__icon\"><svg xmlns=\"http://www.w3.org/2000/svg\" viewBox=\"0 0 24 24\" data-supported-dps=\"24x24\" fill=\"currentColor\" class=\"mercado-match\" width=\"24\" height=\"24\" focusable=\"false\">\n",
              "  <path d=\"M14 12a2 2 0 11-2-2 2 2 0 012 2zM4 10a2 2 0 102 2 2 2 0 00-2-2zm16 0a2 2 0 102 2 2 2 0 00-2-2z\"></path>\n",
              "</svg></li-icon>\n",
              "            <span class=\"artdeco-button__text\">\n",
              "              Show more options\n",
              "            </span>\n",
              "          \n",
              "<!----></button>\n",
              "        \n",
              "  <div tabindex=\"-1\" aria-hidden=\"true\" id=\"ember436\" class=\"artdeco-dropdown__content artdeco-dropdown--is-dropdown-element artdeco-dropdown__content--has-arrow artdeco-dropdown__content--arrow-right artdeco-dropdown__content--justification-right artdeco-dropdown__content--placement-bottom ember-view\"><!----></div>\n",
              "</div>\n",
              "      </div>\n",
              "    </div>\n",
              "</div>\n",
              "<!---->\n",
              "<!---->\n",
              "<!---->      </div>\n",
              "\n",
              "          <div class=\"artdeco-card mb4\n",
              "    \">\n",
              "  <div class=\"mh4 pt4 pb3\">\n",
              "<!---->    <h2 class=\"text-heading-large\">\n",
              "      Meet the hiring team\n",
              "    </h2>\n",
              "    \n",
              "<div class=\"hirer-card__container\">\n",
              "  <div class=\"hirer-card__hirer-photo\">\n",
              "    <div class=\"display-flex align-items-center\">\n",
              "      <a class=\"app-aware-link \" aria-label=\"View Badreddine Azza’s profile graphic\" href=\"https://www.linkedin.com/in/badreddine-azza-71767615b\" data-test-app-aware-link=\"\">\n",
              "        \n",
              "    <div class=\"ivm-image-view-model   \">\n",
              "        \n",
              "    <div class=\"ivm-view-attr__img-wrapper ivm-view-attr__img-wrapper--use-img-tag display-flex\n",
              "        \n",
              "        \">\n",
              "        <div class=\"EntityPhoto-circle-4-ghost-person ivm-view-attr__ghost-entity  \">\n",
              "            <div class=\"visually-hidden\">Badreddine</div>\n",
              "        </div>\n",
              "    </div>\n",
              "  \n",
              "          </div>\n",
              "  \n",
              "      </a>\n",
              "    </div>\n",
              "  </div>\n",
              "\n",
              "  <div class=\"hirer-card__hirer-information pt3 pb3 t-12 t-black--light\">\n",
              "    <a class=\"app-aware-link \" aria-label=\"View Badreddine Azza’s profile\" href=\"https://www.linkedin.com/in/badreddine-azza-71767615b\" data-test-app-aware-link=\"\">\n",
              "      <span class=\"jobs-poster__name t-14 t-black mb0\">\n",
              "        <strong><!---->Badreddine Azza<!----></strong>\n",
              "      </span>\n",
              "    </a>\n",
              "      <div class=\"hirer-card__connection-degree-container t-14 t-normal t-black--light\">\n",
              "        <div class=\"display-flex flex-row-reverse align-items-baseline\">\n",
              "          <span class=\"hirer-card__connection-degree\">\n",
              "            <!---->3rd+<!---->\n",
              "          </span>\n",
              "        </div>\n",
              "      </div>\n",
              "\n",
              "    <div class=\"linked-area flex-1\">\n",
              "      <div class=\"hirer-card__hirer-job-title t-14 t-black\">\n",
              "        <!---->Director Nexeo Belgium 🇧🇪 &amp; Luxembourg 🇱🇺<span class=\"white-space-pre\"> </span>\n",
              "      </div>\n",
              "        <div class=\"t-12 hirer-card__job-poster\">\n",
              "          <!---->Job poster<!---->\n",
              "        </div>\n",
              "<!---->    </div>\n",
              "  </div>\n",
              "\n",
              "  <div class=\"hirer-card__message-container\">\n",
              "      \n",
              "<div class=\"entry-point\">\n",
              "  <div></div>\n",
              "\n",
              "      \n",
              "        <button id=\"ember2356\" class=\"artdeco-button artdeco-button--muted artdeco-button--2 artdeco-button--secondary ember-view\"><!---->\n",
              "<span class=\"artdeco-button__text\">\n",
              "    Message\n",
              "</span></button>\n",
              "      \n",
              "</div>\n",
              "  </div>\n",
              "</div>\n",
              "  </div>\n",
              "\n",
              "<!----></div>\n",
              "\n",
              "<div id=\"ember2357\" class=\"ember-view\"><!----></div>\n",
              "\n",
              "        <div class=\"jobs-box--fadein jobs-box--full-width jobs-box--with-cta-large jobs-description\n",
              "    \n",
              "    \n",
              "    \n",
              "     jobs-description--reformatted\n",
              "    \n",
              "    \">\n",
              "\n",
              "<!---->\n",
              "  <article class=\"jobs-description__container\n",
              "      m4\">\n",
              "    <div class=\"jobs-description__content jobs-description-content\n",
              "        \">\n",
              "      <div class=\"jobs-box__html-content jobs-description-content__text t-14 t-normal\n",
              "          jobs-description-content__text--stretch\" id=\"job-details\" tabindex=\"-1\">\n",
              "        <h2 class=\"text-heading-large mb4\">\n",
              "          About the job\n",
              "        </h2>\n",
              "\n",
              "<!---->\n",
              "<!---->        <span>\n",
              "                <p><strong>Nexeo is currently looking for a Data Analyst (Freelance or permanent) for a market leader in the banking industry in Belgium.</strong></p><p><br>\n",
              "</p><p>Nexeo Belgium is a consultancy company that supports its clients in the banking, finance and insurance sectors in all phases of their transformation projects: from business consulting to the implementation of IT solutions. </p><p><br>\n",
              "</p><p><strong>As a consultant you will have the opportunity to be part of Nexeo:</strong></p><ul><li>International environment ( Offices in France, Belgium, Luxembourg, Switzerland &amp; Canada)</li><li>+ 450 employees</li><li>over 20% growth each year</li></ul><p><br>\n",
              "</p><p>The ideal candidate will use their passion for big data and analytics to provide insights to the business covering a range of topics. They will be responsible for conducting both recurring and ad hoc analysis for business users. </p><p> </p><p><strong>Responsibilities</strong></p><ul><li>Understand the day-to-day issues that the bank faces</li><li>Performs cleansing of data quality issues through the analysi</li><li>Monitors the data quality based on data quality dashboards, supports redesign &amp; upgrade</li><li>Contributes to designing, monitoring and reporting on common reference tools</li><li>Contributes to raising awareness of the importance of data quality</li><li>Will be involved in all the topics related to Customer Data</li><li>Business Analysis</li><li>Work in collaboration with other technical teams to share data</li><li>Data extraction with SAS</li><li>Industrialize the process to run define periodicity</li><li>Document the project (functional and technical part)</li><li>Contribute to the achievement of the team objectives</li></ul><p><br>\n",
              "</p><p><strong>Qualifications</strong></p><ul><li>Bachelor's or Master's degree</li><li>At least 3 years<strong> </strong>of experience in Data Analysis (focus data quality &amp; data governance)</li><li>Understand data lifecycle and data usage</li><li>Working in Agile environnement (Jira &amp; Scrum)</li><li>Good experience working with SQL Queries &amp; SAS</li><li>English Fluent &amp; French or Dutch native</li></ul>\n",
              "<!---->        </span>\n",
              "      </div>\n",
              "<!---->      <div class=\"jobs-description__details\">\n",
              "<!---->\n",
              "      </div>\n",
              "    </div>\n",
              "  </article>\n",
              "<!----></div>\n",
              "<!---->\n",
              "          <div id=\"SALARY\" class=\"jobs-unified-description__salary-main-rail-card\">\n",
              "<!----><!---->          </div>\n",
              "\n",
              "<!---->\n",
              "<!----><!---->\n",
              "<!---->\n",
              "              <section id=\"ember2319\" class=\"artdeco-card ember-view\"><!---->\n",
              "\n",
              "                <section class=\"jobs-company jobs-box--fadein mb4 jobs-company--two-pane\">\n",
              "  <div class=\"jobs-company__box\">\n",
              "    <h2 class=\"text-heading-large\">\n",
              "      About the company\n",
              "    </h2>\n",
              "\n",
              "    <div class=\"display-flex align-items-center mt5\">\n",
              "      <div id=\"ember2320\" class=\"artdeco-entity-lockup artdeco-entity-lockup--size-5 ember-view flex-grow-1\">\n",
              "        <div id=\"ember2321\" class=\"artdeco-entity-lockup__image artdeco-entity-lockup__image--type-square ember-view\" type=\"square\">\n",
              "          <a href=\"/company/nexeo/life/\" id=\"ember2322\" class=\"ember-view link-without-hover-state inline-block\">\n",
              "            <img title=\"Nexeo\" src=\"https://media.licdn.com/dms/image/C560BAQGjLotujiPOxQ/company-logo_100_100/0/1645534247472?e=1692835200&amp;v=beta&amp;t=y0WBrsIB-63-VP6JCUzbOndjkwCyfwXhsNu0TmnIysQ\" alt=\"Nexeo company logo\" id=\"ember2323\" class=\"evi-image ember-view\">\n",
              "          </a>\n",
              "        \n",
              "</div>\n",
              "        <div id=\"ember2324\" class=\"artdeco-entity-lockup__content ember-view flex-grow-1\">\n",
              "          <div id=\"ember2325\" class=\"artdeco-entity-lockup__title ember-view t-20\">\n",
              "            <a href=\"/company/nexeo/life/\" id=\"ember2326\" class=\"ember-view link-without-visited-state inline-block t-black\">\n",
              "              Nexeo\n",
              "            </a>\n",
              "          \n",
              "</div>\n",
              "          <div id=\"ember2327\" class=\"artdeco-entity-lockup__subtitle ember-view t-16\">\n",
              "            32,957 followers\n",
              "          </div>\n",
              "        </div>\n",
              "      \n",
              "</div>\n",
              "      <button class=\"follow   artdeco-button artdeco-button--secondary\n",
              "          \n",
              "          ml5\" aria-label=\"Follow\" aria-pressed=\"false\" type=\"button\">\n",
              "      <svg role=\"none\" aria-hidden=\"true\" class=\"artdeco-button__icon\" xmlns=\"http://www.w3.org/2000/svg\" width=\"16\" height=\"16\" viewBox=\"0 0 16 16\" data-supported-dps=\"16x16\" data-test-icon=\"add-small\">\n",
              "<!---->    \n",
              "\n",
              "    <use href=\"#add-small\" width=\"16\" height=\"16\"></use>\n",
              "</svg>\n",
              "\n",
              "    <span aria-hidden=\"true\">Follow</span>\n",
              "</button>\n",
              "    </div>\n",
              "\n",
              "    <div class=\"t-14 mt5\">\n",
              "      Information Technology &amp; Services\n",
              "        <span class=\"jobs-company__inline-information\">\n",
              "          201-500 employees\n",
              "        </span>\n",
              "        <span class=\"jobs-company__inline-information\">\n",
              "          194 on LinkedIn\n",
              "        </span>\n",
              "    </div>\n",
              "\n",
              "    <p class=\"jobs-company__company-description text-body-small-open\">\n",
              "      <div class=\"inline-show-more-text\n",
              "    inline-show-more-text--is-collapsed\n",
              "    inline-show-more-text--is-collapsed-with-line-clamp\n",
              "    \n",
              "    \n",
              "    \" style=\"-webkit-line-clamp:3;\" tabindex=\"-1\">\n",
              "\n",
              "    Nexeo intervient sur l’ensemble des briques technologiques <br>qui composent les systèmes d’information de la finance des marchés : <br>les applications et les infrastructures.<br><br>Nos prestations de consulting métier, applicatif ou technique, <br>s’adressent aux équipes de maîtrise d’ouvrage, <br>de maîtrise d’œuvre ou d’organisation.<br><br>Bâtie sur l’expérience de nos consultants, notre offre apporte une réponse <br>de valeur aux problématiques des établissements financiers :<br>- Assistance à Maitrise d’Ouvrage<br>- Maitrise d’œuvre &amp; Ingénierie<br>- Infrastructure<br>- Expertise &amp; Conseil\n",
              "  \n",
              "      <span class=\"inline-show-more-text__link-container-collapsed\">\n",
              "          <span>…</span>\n",
              "        <button class=\"inline-show-more-text__button\n",
              "            inline-show-more-text__button--light\n",
              "            link\" aria-expanded=\"false\" type=\"button\">\n",
              "          show more\n",
              "        </button>\n",
              "      </span>\n",
              "\n",
              "<!----></div>\n",
              "    </p>\n",
              "\n",
              "<!---->\n",
              "      <div class=\"jobs-company__content mt5 pt5\">\n",
              "          \n",
              "<div class=\"org-life-company-photos-module\n",
              "    \">\n",
              "  <section id=\"ember2328\" class=\"org-life-company-photos-module__carousel-container org-life-company-photos-module__carousel-container--inline artdeco-carousel single-slide ember-view\"><div class=\"artdeco-carousel__heading\n",
              "    artdeco-carousel__heading--custom\">\n",
              "    \n",
              "    <div id=\"ember2329\" class=\"artdeco-carousel__title ember-view\">\n",
              "      <h3 class=\"t-16 t-bold\">\n",
              "        Company photos\n",
              "      </h3>\n",
              "    </div>\n",
              "    <!---->\n",
              "  \n",
              "    <div class=\"artdeco-carousel__navigation\n",
              "        \">\n",
              "      <div id=\"ember2330\" class=\"artdeco-pagination artdeco-pagination--hide-pagination artdeco-pagination--has-controls ember-view\">  <button data-control-name=\"COMPANY_LIFE_COMPANY_PHOTOS_PREV\" disabled=\"\" aria-label=\"Company photos Previous\" id=\"ember2331\" class=\"artdeco-pagination__button artdeco-pagination__button--previous artdeco-button artdeco-button--muted artdeco-button--1 artdeco-button--tertiary artdeco-button--disabled ember-view\" type=\"button\">  <li-icon aria-hidden=\"true\" type=\"chevron-left-icon\" class=\"artdeco-button__icon\" size=\"small\"><svg xmlns=\"http://www.w3.org/2000/svg\" viewBox=\"0 0 16 16\" class=\"mercado-match\" data-supported-dps=\"16x16\" fill=\"currentColor\" width=\"16\" height=\"16\" focusable=\"false\">\n",
              "  <path d=\"M11 1L6.39 8 11 15H8.61L4 8l4.61-7z\"></path>\n",
              "</svg></li-icon>\n",
              "\n",
              "<span class=\"artdeco-button__text\">\n",
              "    Previous\n",
              "</span></button>\n",
              "\n",
              "<!---->\n",
              "  <button data-control-name=\"COMPANY_LIFE_COMPANY_PHOTOS_NEXT\" aria-label=\"Company photos Next\" id=\"ember2332\" class=\"artdeco-pagination__button artdeco-pagination__button--next artdeco-button artdeco-button--muted artdeco-button--icon-right artdeco-button--1 artdeco-button--tertiary ember-view\" type=\"button\">  <li-icon aria-hidden=\"true\" type=\"chevron-right-icon\" class=\"artdeco-button__icon\" size=\"small\"><svg xmlns=\"http://www.w3.org/2000/svg\" viewBox=\"0 0 16 16\" class=\"mercado-match\" data-supported-dps=\"16x16\" fill=\"currentColor\" width=\"16\" height=\"16\" focusable=\"false\">\n",
              "  <path d=\"M5 15l4.61-7L5 1h2.39L12 8l-4.61 7z\"></path>\n",
              "</svg></li-icon>\n",
              "\n",
              "<span class=\"artdeco-button__text\">\n",
              "    Next\n",
              "</span></button>\n",
              "</div>\n",
              "    </div>\n",
              "</div>\n",
              "\n",
              "<div class=\"artdeco-carousel__content\">\n",
              "    \n",
              "    <!---->\n",
              "    <ul id=\"ember2333\" class=\"artdeco-carousel__slider ember-view\" style=\"transform: translateX(0px);\">\n",
              "        <li tabindex=\"-1\" style=\"width: 144.5px;\" data-item-index=\"0\" id=\"ember2358\" class=\"artdeco-carousel__item active ember-view\"><div data-test-display=\"display\" class=\"artdeco-carousel__item-container\">\n",
              "    \n",
              "          <button class=\"org-life-company-photos-module__photo-button\" type=\"button\">\n",
              "              <div class=\"org-life-company-photos-module__photo artdeco-card\">\n",
              "                <img width=\"180\" src=\"https://media.licdn.com/dms/image/C4E09AQHWeMVWMgbngQ/company-photo_900_600/0/1660142778144?e=1690416000&amp;v=beta&amp;t=S-gdElNhpKF9T4SaJ3BLXs33VPEhGOy0H-juUndbrXA\" loading=\"lazy\" height=\"150\" alt=\"Nexeo company photo 1\" id=\"ember2359\" class=\"evi-image lazy-image ember-view org-life-company-photos-module__image\">\n",
              "                <div class=\"org-life-company-photos-module__photo-overlay\">\n",
              "                  <div class=\"flex-1\">\n",
              "                    <p class=\"t-14 t-white--light t-bold\" dir=\"ltr\">\n",
              "                      \n",
              "                    </p>\n",
              "                      <p class=\"t-14 t-white--light t-normal\">\n",
              "                        August 10, 2022\n",
              "                      </p>\n",
              "                  </div>\n",
              "<!---->                </div>\n",
              "              </div>\n",
              "          </button>\n",
              "        \n",
              "</div></li>\n",
              "        <li tabindex=\"-1\" style=\"width: 144.5px;\" data-item-index=\"1\" id=\"ember2360\" class=\"artdeco-carousel__item ember-view\"><div data-test-display=\"display\" class=\"artdeco-carousel__item-container\">\n",
              "    \n",
              "          <button class=\"org-life-company-photos-module__photo-button\" type=\"button\">\n",
              "              <div class=\"org-life-company-photos-module__photo artdeco-card\">\n",
              "                <img width=\"180\" src=\"https://media.licdn.com/dms/image/C4D09AQHztSYU7_YWNQ/company-photo_900_600/0/1542714456573?e=1690416000&amp;v=beta&amp;t=pM9zK1vHpaY0NHNUWqL1Y3YugjDiX8l0cQYvhtseDic\" loading=\"lazy\" height=\"150\" alt=\"Nexeo company photo 2\" id=\"ember2361\" class=\"evi-image lazy-image ember-view org-life-company-photos-module__image\">\n",
              "                <div class=\"org-life-company-photos-module__photo-overlay\">\n",
              "                  <div class=\"flex-1\">\n",
              "                    <p class=\"t-14 t-white--light t-bold\" dir=\"ltr\">\n",
              "                      \n",
              "                    </p>\n",
              "                      <p class=\"t-14 t-white--light t-normal\">\n",
              "                        November 20, 2018\n",
              "                      </p>\n",
              "                  </div>\n",
              "<!---->                </div>\n",
              "              </div>\n",
              "          </button>\n",
              "        \n",
              "</div></li>\n",
              "        <li tabindex=\"-1\" style=\"width: 144.5px;\" data-item-index=\"2\" id=\"ember2362\" class=\"artdeco-carousel__item ember-view\"><div data-test-display=\"display\" class=\"artdeco-carousel__item-container\">\n",
              "    \n",
              "          <button class=\"org-life-company-photos-module__photo-button\" type=\"button\">\n",
              "<!---->          </button>\n",
              "        \n",
              "</div></li>\n",
              "        <li tabindex=\"-1\" style=\"width: 144.5px;\" data-item-index=\"3\" id=\"ember2363\" class=\"artdeco-carousel__item ember-view\"><div data-test-display=\"hidden\" class=\"artdeco-carousel__item-container\">\n",
              "<!----></div></li>\n",
              "        <li tabindex=\"-1\" style=\"width: 144.5px;\" data-item-index=\"4\" id=\"ember2364\" class=\"artdeco-carousel__item ember-view\"><div data-test-display=\"hidden\" class=\"artdeco-carousel__item-container\">\n",
              "<!----></div></li>\n",
              "        <li tabindex=\"-1\" style=\"width: 144.5px;\" data-item-index=\"5\" id=\"ember2365\" class=\"artdeco-carousel__item ember-view\"><div data-test-display=\"hidden\" class=\"artdeco-carousel__item-container\">\n",
              "<!----></div></li>\n",
              "        <li tabindex=\"-1\" style=\"width: 144.5px;\" data-item-index=\"6\" id=\"ember2366\" class=\"artdeco-carousel__item ember-view\"><div data-test-display=\"hidden\" class=\"artdeco-carousel__item-container\">\n",
              "<!----></div></li>\n",
              "        <li tabindex=\"-1\" style=\"width: 144.5px;\" data-item-index=\"7\" id=\"ember2367\" class=\"artdeco-carousel__item ember-view\"><div data-test-display=\"hidden\" class=\"artdeco-carousel__item-container\">\n",
              "<!----></div></li>\n",
              "        <li tabindex=\"-1\" style=\"width: 144.5px;\" data-item-index=\"8\" id=\"ember2368\" class=\"artdeco-carousel__item ember-view\"><div data-test-display=\"hidden\" class=\"artdeco-carousel__item-container\">\n",
              "<!----></div></li>\n",
              "        <li tabindex=\"-1\" style=\"width: 144.5px;\" data-item-index=\"9\" id=\"ember2369\" class=\"artdeco-carousel__item ember-view\"><div data-test-display=\"hidden\" class=\"artdeco-carousel__item-container\">\n",
              "<!----></div></li>\n",
              "        <li tabindex=\"-1\" style=\"width: 144.5px;\" data-item-index=\"10\" id=\"ember2370\" class=\"artdeco-carousel__item ember-view\"><div data-test-display=\"hidden\" class=\"artdeco-carousel__item-container\">\n",
              "<!----></div></li>\n",
              "        <li tabindex=\"-1\" style=\"width: 144.5px;\" data-item-index=\"11\" id=\"ember2371\" class=\"artdeco-carousel__item ember-view\"><div data-test-display=\"hidden\" class=\"artdeco-carousel__item-container\">\n",
              "<!----></div></li>\n",
              "        <li tabindex=\"-1\" style=\"width: 144.5px;\" data-item-index=\"12\" id=\"ember2372\" class=\"artdeco-carousel__item ember-view\"><div data-test-display=\"hidden\" class=\"artdeco-carousel__item-container\">\n",
              "<!----></div></li>\n",
              "        <li tabindex=\"-1\" style=\"width: 144.5px;\" data-item-index=\"13\" id=\"ember2373\" class=\"artdeco-carousel__item ember-view\"><div data-test-display=\"hidden\" class=\"artdeco-carousel__item-container\">\n",
              "<!----></div></li>\n",
              "    </ul>\n",
              "  \n",
              "</div>\n",
              "\n",
              "<!----></section>\n",
              "\n",
              "<!----></div>\n",
              "              </div>\n",
              "  </div>\n",
              "\n",
              "<!---->\n",
              "    <div class=\"jobs-company__footer text-align-center\">\n",
              "      <a href=\"/company/nexeo/life/\" id=\"ember2348\" class=\"ember-view link-without-hover-state block pv3\" aria-label=\"Show more about the company\">\n",
              "        Show more\n",
              "      </a>\n",
              "    </div>\n",
              "</section>\n",
              "              </section>\n",
              "\n",
              "<!---->    </div>\n",
              "\n",
              "<!---->  </div>\n",
              "\n",
              "  <div id=\"ember438\" class=\"ember-view\"><!----></div>\n",
              "\n",
              "<div id=\"ember439\" class=\"ember-view\"><div id=\"ember440\" class=\"ember-view\"><!----></div></div>\n",
              "\n",
              "  <div id=\"ember441\" class=\"ember-view\"><!----></div>\n",
              "\n",
              "<!---->\n",
              "<!---->\n",
              "<!---->\n",
              "  <div>\n",
              "    <div id=\"ember442\" class=\"ember-view\"><!----></div>\n",
              "</div>\n",
              "\n",
              "<!---->"
            ],
            "text/plain": [
              "<IPython.core.display.HTML object>"
            ]
          },
          "metadata": {},
          "output_type": "display_data"
        }
      ],
      "source": [
        "# и посмотрим на него в виде страницы\n",
        "display(HTML(raw_df['html'][45]))"
      ]
    },
    {
      "cell_type": "code",
      "execution_count": null,
      "id": "04137766",
      "metadata": {
        "id": "04137766",
        "outputId": "e3f10d10-53e2-4594-c0ef-eff723e7d0b7"
      },
      "outputs": [
        {
          "data": {
            "text/plain": [
              "[<h2 class=\"t-24 t-bold jobs-unified-top-card__job-title\">Data Analyst</h2>]"
            ]
          },
          "execution_count": 11,
          "metadata": {},
          "output_type": "execute_result"
        }
      ],
      "source": [
        "# проверим тег и класс для выделения названия вакансии\n",
        "soup_test.find_all('h2', class_=\"t-24 t-bold jobs-unified-top-card__job-title\")"
      ]
    },
    {
      "cell_type": "code",
      "execution_count": null,
      "id": "6903563b",
      "metadata": {
        "scrolled": true,
        "id": "6903563b",
        "outputId": "8b8e215c-ddd7-40c7-b360-32b86a3313eb"
      },
      "outputs": [
        {
          "data": {
            "text/plain": [
              "'Data Analyst'"
            ]
          },
          "execution_count": 12,
          "metadata": {},
          "output_type": "execute_result"
        }
      ],
      "source": [
        "soup_test.find('h2', class_=\"t-24 t-bold jobs-unified-top-card__job-title\").text.strip()"
      ]
    },
    {
      "cell_type": "code",
      "execution_count": null,
      "id": "c6cc018d",
      "metadata": {
        "scrolled": true,
        "id": "c6cc018d",
        "outputId": "54b1e885-987e-422f-a276-7adf24d1089a"
      },
      "outputs": [
        {
          "data": {
            "text/plain": [
              "'On-site'"
            ]
          },
          "execution_count": 13,
          "metadata": {},
          "output_type": "execute_result"
        }
      ],
      "source": [
        "# проверим тег и класс для выделения типа занятости\n",
        "soup_test.find('span', class_=\"jobs-unified-top-card__workplace-type\").text.strip()"
      ]
    },
    {
      "cell_type": "code",
      "execution_count": null,
      "id": "204aae6f",
      "metadata": {
        "id": "204aae6f",
        "outputId": "40acf450-0c9b-4fbc-c672-4291684a9240"
      },
      "outputs": [
        {
          "name": "stdout",
          "output_type": "stream",
          "text": [
            "Название вакансии: Data Analyst\n",
            "Местоположение: Basel, Switzerland\n",
            "Тип контракта: Contract\n"
          ]
        }
      ],
      "source": [
        "# ТЕСТОВЫЕ ИЗВЛЕЧЕНИЯ, В ДАЛЬНЕЙШЕМ НЕ ИСПОЛЬЗУЮТСЯ\n",
        "\n",
        "# извлечение инфо из одного тега\n",
        "# Извлечение названия вакансии\n",
        "job_title = soup_test.find('strong', string='Job Title:').next_sibling.strip()\n",
        "print('Название вакансии:', job_title)\n",
        "\n",
        "# Извлечение местоположения\n",
        "location = soup_test.find('strong', string='Location:').next_sibling.strip()\n",
        "print('Местоположение:', location)\n",
        "\n",
        "# Извлечение тип работы\n",
        "job_type = soup_test.find('strong', string='Job Type:').next_sibling.strip()\n",
        "print('Тип контракта:', job_type)\n"
      ]
    },
    {
      "cell_type": "code",
      "execution_count": null,
      "id": "6038bcdd",
      "metadata": {
        "id": "6038bcdd",
        "outputId": "3df566de-1f28-48da-b350-ef6f370ffd60"
      },
      "outputs": [
        {
          "data": {
            "text/plain": [
              "'PharmiWeb.Jobs: Global Life Science Jobs'"
            ]
          },
          "execution_count": 15,
          "metadata": {},
          "output_type": "execute_result"
        }
      ],
      "source": [
        "# проверим тег и класс для выделения названия компании\n",
        "soup_test.find('span', class_ = 'jobs-unified-top-card__company-name').text.strip()"
      ]
    },
    {
      "cell_type": "code",
      "execution_count": null,
      "id": "62528e4b",
      "metadata": {
        "id": "62528e4b",
        "outputId": "0436637b-5e8a-4565-efaa-78e0b40e936d"
      },
      "outputs": [
        {
          "data": {
            "text/plain": [
              "'Basel, Basel, Switzerland'"
            ]
          },
          "execution_count": 16,
          "metadata": {},
          "output_type": "execute_result"
        }
      ],
      "source": [
        "# проверим тег и класс для выделения местоположения компании\n",
        "soup_test.find('span', class_ = 'jobs-unified-top-card__bullet').text.strip()"
      ]
    },
    {
      "cell_type": "code",
      "execution_count": null,
      "id": "1c3122f6",
      "metadata": {
        "id": "1c3122f6",
        "outputId": "4fe4d1da-201f-472b-d902-25826566acd8"
      },
      "outputs": [
        {
          "data": {
            "text/plain": [
              "'11-50 employees'"
            ]
          },
          "execution_count": 17,
          "metadata": {},
          "output_type": "execute_result"
        }
      ],
      "source": [
        "# проверим тег и класс для выделения количества персонала в компании\n",
        "soup_test.find('span', class_ = 'jobs-company__inline-information').text.strip()"
      ]
    },
    {
      "cell_type": "code",
      "execution_count": null,
      "id": "3916cc7c",
      "metadata": {
        "id": "3916cc7c",
        "outputId": "045c0c9f-cacc-4a1a-a4ea-444646375626"
      },
      "outputs": [
        {
          "name": "stdout",
          "output_type": "stream",
          "text": [
            "Staffing & Recruiting\n"
          ]
        }
      ],
      "source": [
        "# проверим тег и класс для выделения сферы деятельности компании\n",
        "div_tag = soup_test.find('div', class_='t-14 mt5')\n",
        "text = div_tag.next_element.strip()\n",
        "print(text)"
      ]
    },
    {
      "cell_type": "code",
      "execution_count": null,
      "id": "c888705c",
      "metadata": {
        "id": "c888705c",
        "outputId": "6c09fd8e-4ef3-4e25-ba1b-6952bb5bcc04"
      },
      "outputs": [
        {
          "name": "stdout",
          "output_type": "stream",
          "text": [
            "Full-time: Full-time\n",
            "Entry level: Entry level\n"
          ]
        }
      ],
      "source": [
        "# Извлечение текстов \"Full-time\" и \"Entry level\"\n",
        "li_tag = soup_test.find('li', class_='jobs-unified-top-card__job-insight')\n",
        "text = li_tag.span.get_text(strip=True)\n",
        "full_time, entry_level = text.split('·')\n",
        "print('Full-time:', full_time.strip())\n",
        "print('Entry level:', entry_level.strip())"
      ]
    },
    {
      "cell_type": "code",
      "execution_count": null,
      "id": "b7238e46",
      "metadata": {
        "id": "b7238e46",
        "outputId": "116e7968-ef4d-4744-dc94-a9d704dac498"
      },
      "outputs": [
        {
          "data": {
            "text/plain": [
              "'1 week ago'"
            ]
          },
          "execution_count": 20,
          "metadata": {},
          "output_type": "execute_result"
        }
      ],
      "source": [
        "# проверим тег и класс для выделения информации о сроке публикации вакансии\n",
        "soup_test.find('span', class_ = 'jobs-unified-top-card__posted-date').text.strip()"
      ]
    },
    {
      "cell_type": "code",
      "execution_count": null,
      "id": "f2d15d41",
      "metadata": {
        "scrolled": true,
        "id": "f2d15d41"
      },
      "outputs": [],
      "source": [
        "# проверим тег и класс для выделения полного описания вакансии\n",
        "text = soup_test.find(\n",
        "    'div', class_='jobs-box__html-content jobs-description-content__text t-14 t-normal jobs-description-content__text--stretch').text"
      ]
    },
    {
      "cell_type": "markdown",
      "source": [
        " **$\\color{blue}{\\text{КОММЕНТАРИЙ}}$**\n",
        "\n",
        "Отлично что ты проверяешь корректность получаемой информации для одного элемента"
      ],
      "metadata": {
        "id": "wRVCx0YGVZCW"
      },
      "id": "wRVCx0YGVZCW"
    },
    {
      "cell_type": "markdown",
      "id": "28af1ad0",
      "metadata": {
        "id": "28af1ad0"
      },
      "source": [
        "### Функции выделения информации по тегу и классу"
      ]
    },
    {
      "cell_type": "code",
      "execution_count": null,
      "id": "57bb118e",
      "metadata": {
        "id": "57bb118e",
        "outputId": "1e29985a-62f9-4e84-8e4e-3e43435f5379"
      },
      "outputs": [
        {
          "name": "stdout",
          "output_type": "stream",
          "text": [
            "['Английский язык', 'Анализ данных']\n"
          ]
        }
      ],
      "source": [
        "# функция выделения двух скиллов из блока скиллов\n",
        "def extract_skills(string, num_skills=2):\n",
        "    # Извлекаем подстроку, содержащую все навыки\n",
        "    match = re.search(r'Skills:(.*)', string)\n",
        "    if not match:\n",
        "        return None\n",
        "\n",
        "    # Извлекаем все навыки с помощью регулярного выражения\n",
        "    skills = re.findall(r'\\w[\\w\\s]+\\w', match.group(1))\n",
        "\n",
        "    # Возвращаем указанное количество навыков\n",
        "    return skills[:num_skills]\n",
        "\n",
        "# Пример использования\n",
        "string = \"'Skills: Английский язык, Анализ данных, +8 more'\"\n",
        "skills = extract_skills(string, num_skills=2)\n",
        "print(skills)"
      ]
    },
    {
      "cell_type": "markdown",
      "source": [
        " **$\\color{blue}{\\text{КОММЕНТАРИЙ}}$**\n",
        "\n",
        "Просто великолепная функция, однако у нас основная часть хард скиллов содержится в тексте вакансии И именно оттуда нам нужно их доставать"
      ],
      "metadata": {
        "id": "Dd_9lBa4VjpF"
      },
      "id": "Dd_9lBa4VjpF"
    },
    {
      "cell_type": "code",
      "execution_count": null,
      "id": "1e1f2dc3",
      "metadata": {
        "id": "1e1f2dc3"
      },
      "outputs": [],
      "source": [
        "# основная функция для извлечения данных по тегу и классу\n",
        "# используем конструкцию try-except для возврата \"no info\" для тех случаев, когда информации на странице нет\n",
        "def info(x, tag, cl):\n",
        "    try: res = BeautifulSoup(x).find(\n",
        "    tag, class_=cl).text.strip()  \n",
        "    except: res = 'no info'\n",
        "        \n",
        "    return res    "
      ]
    },
    {
      "cell_type": "markdown",
      "source": [
        " **$\\color{blue}{\\text{КОММЕНТАРИЙ}}$**\n",
        "\n",
        "ЗАМЕЧАТЕЛЬНО что ты создаешь функцию"
      ],
      "metadata": {
        "id": "ywv_dZoVV53l"
      },
      "id": "ywv_dZoVV53l"
    },
    {
      "cell_type": "code",
      "execution_count": null,
      "id": "985b7963",
      "metadata": {
        "id": "985b7963"
      },
      "outputs": [],
      "source": [
        "# функция для извлечения данных по тегу и строке\n",
        "# используем конструкцию try-except для возврата \"no info\" для тех случаев, когда информации на странице нет\n",
        "def info_str(x, tag, string):\n",
        "    try: res = BeautifulSoup(x).find(tag, string=string).next_sibling.strip()\n",
        "    except: res = 'no info'\n",
        "        \n",
        "    return res "
      ]
    },
    {
      "cell_type": "code",
      "execution_count": null,
      "id": "04dff662",
      "metadata": {
        "id": "04dff662"
      },
      "outputs": [],
      "source": [
        "# функция для извлечения данных по тегу и классу, но случаев когда информация в следующем элементе после тега\n",
        "# используем конструкцию try-except для возврата \"no info\" для тех случаев, когда информации на странице нет\n",
        "def comp_sphere(x, tag, cl):\n",
        "    try: \n",
        "        div_tag = BeautifulSoup(x).find(tag, class_=cl)\n",
        "        res = div_tag.next_element.strip()\n",
        "    except: res = 'no info'\n",
        "        \n",
        "    return res"
      ]
    },
    {
      "cell_type": "code",
      "execution_count": null,
      "id": "7e5ee0c7",
      "metadata": {
        "id": "7e5ee0c7"
      },
      "outputs": [],
      "source": [
        "# функции для извлечения данных по тегу и классу из блока информации о вакансии\n",
        "# используем конструкцию try-except для возврата \"no info\" для тех случаев, когда информации на странице нет\n",
        "def employment(x, tag, cl):\n",
        "    try: \n",
        "        div_tag = BeautifulSoup(x).find(tag, class_=cl)\n",
        "        text = li_tag.span.get_text(strip=True)\n",
        "        full_time, entry_level = text.split('·')\n",
        "        res = full_time\n",
        "    except: res = 'no info'\n",
        "        \n",
        "    return res\n",
        "\n",
        "def level(x, tag, cl):\n",
        "    try: \n",
        "        div_tag = BeautifulSoup(x).find(tag, class_=cl)\n",
        "        text = li_tag.span.get_text(strip=True)\n",
        "        full_time, entry_level = text.split('·')\n",
        "        res = entry_level\n",
        "    except: res = 'no info'\n",
        "        \n",
        "    return res\n"
      ]
    },
    {
      "cell_type": "markdown",
      "source": [
        " **$\\color{blue}{\\text{КОММЕНТАРИЙ}}$**\n",
        "\n",
        "Все круто"
      ],
      "metadata": {
        "id": "kHxUbuSZWF5g"
      },
      "id": "kHxUbuSZWF5g"
    },
    {
      "cell_type": "markdown",
      "id": "edb90c1b",
      "metadata": {
        "id": "edb90c1b"
      },
      "source": [
        "### **Создание столбца с названием должности**"
      ]
    },
    {
      "cell_type": "markdown",
      "id": "7e41c377",
      "metadata": {
        "id": "7e41c377"
      },
      "source": [
        "Видим, что название вакансии находится в блоке \n",
        "< h2 class=\"t-24 t-bold jobs-unified-top-card__job-title\"> Data Analyst</h2 >\n",
        "\n",
        "Сформируем новый столбец, в котором будет название вакансии"
      ]
    },
    {
      "cell_type": "code",
      "execution_count": null,
      "id": "6b29da66",
      "metadata": {
        "id": "6b29da66"
      },
      "outputs": [],
      "source": [
        "df = raw_df.copy()"
      ]
    },
    {
      "cell_type": "code",
      "execution_count": null,
      "id": "3f5d701c",
      "metadata": {
        "id": "3f5d701c"
      },
      "outputs": [],
      "source": [
        "# создадим столбец с названием вакансии\n",
        "df['job_title'] = df['html'].apply(lambda x: BeautifulSoup(x).find(\n",
        "    'h2', class_=\"t-24 t-bold jobs-unified-top-card__job-title\").text.strip())"
      ]
    },
    {
      "cell_type": "code",
      "execution_count": null,
      "id": "3e463d34",
      "metadata": {
        "id": "3e463d34",
        "outputId": "2c92a2cf-ec54-4d00-cfe8-1b995792b279"
      },
      "outputs": [
        {
          "data": {
            "text/plain": [
              "Data Analyst                                         93\n",
              "Online Data Analyst                                  38\n",
              "Data Analyst - Milano                                28\n",
              "Data Analyst (m/w/d)                                 25\n",
              "Datový analytik                                      19\n",
              "                                                     ..\n",
              "ESG Analyst - Real Estate (m/w/d)                     1\n",
              "Projektmanager / Projektleiter Automotive (m/w/d)     1\n",
              "Ingenieur Softwareentwicklung (m/w/d)                 1\n",
              "Mitarbeiter Marketing (m/w/d)                         1\n",
              "Analista de datos BI                                  1\n",
              "Name: job_title, Length: 560, dtype: int64"
            ]
          },
          "execution_count": 29,
          "metadata": {},
          "output_type": "execute_result"
        }
      ],
      "source": [
        "df['job_title'].value_counts()"
      ]
    },
    {
      "cell_type": "code",
      "execution_count": null,
      "id": "b8ab27af",
      "metadata": {
        "scrolled": true,
        "id": "b8ab27af",
        "outputId": "821d964b-4d21-457b-9ce0-6c599c7bbe61"
      },
      "outputs": [
        {
          "data": {
            "text/plain": [
              "array(['Data Analyst', 'Data Analyst - Logistics',\n",
              "       'Data Analyst (Space & Planning)', 'Data Analyst - Hybrid Working',\n",
              "       'Commercial Data Analyst', 'Asset Data Analyst',\n",
              "       'Data Analyst - Hybrid', 'Data Analyst (FT)', 'Data Analyst H/F',\n",
              "       'Data Analyst II', 'Data Analyst (9 Months FTC)',\n",
              "       'Business Intelligence Analyst', 'Data Analyst (F/H)',\n",
              "       'BI Analyst', 'Data Analyst Associate', 'Product Data Analyst',\n",
              "       'Graduate Data Analyst', 'Digital Data Analyst',\n",
              "       'Business Intelligence Analyst Junior', 'Data analyst H/F',\n",
              "       'Data Analyst (m/f/d)', 'Analytics Consultant', 'Data Analyst F/H',\n",
              "       'Consultor BI', 'Statistical Data Analyst',\n",
              "       'Digital Data Analyst (H/F)',\n",
              "       'Data Analyst - €60,- per hour - Amsterdam based',\n",
              "       'Data & Analytics Senior Analyst',\n",
              "       'JUNIOR DATA ANALYST – Aerospace', 'Data Analyst - Operations',\n",
              "       'Data Analyst (H/F)', 'BUSINESS INTELLIGENCE ANALYST',\n",
              "       'Business Intelligence Analyst (m/w/d)',\n",
              "       'Analista superior de datos', 'Junior Data Analyst',\n",
              "       'Web Data Analyst F/H', 'BUSINESS ANALYST_Power BI',\n",
              "       'Junior Data Analyst Power BI - CONTRATO 6 MESES',\n",
              "       'Data Analyst - Milano', 'Data Analyst (Engineer)',\n",
              "       'Data Analyst H/F _ CDD', 'Data Analyst - Analyste de données',\n",
              "       'Analista de datos',\n",
              "       'BI Analyst, Power BI Champion, CEE based in Warsaw',\n",
              "       'Data Analyst Tableau', 'Data-analist', 'SQL/Data Analyst (m/w/d)',\n",
              "       'Analityk danych', 'Data analist', 'Data Analyst Reporting',\n",
              "       'Junior Data Analyst Sustainability', 'Data Analyst (h/f) - CDI',\n",
              "       'CDI - Data Analyst H/F - Yves Rocher', 'Senior Data Analyst',\n",
              "       'Data Analyst - H/F', 'Retail Business Analyst',\n",
              "       'Global Onsite Data Analyst (m/w/d)', 'BI Analyst (m/w/d)',\n",
              "       'BI-Analyst (m/w/d)', 'Data Analyst - Confirmé.e',\n",
              "       'Data Analyst (m/w/d)', 'Data analyst', 'Data Analyst  H/F',\n",
              "       'Data Analyst-(H/F)', 'Data & Analytics Analyst - BARI, ROMA',\n",
              "       'Junior Data Analyst/Associate (m/f/d)',\n",
              "       'Consulente Applicativo BI', 'Business Intelligence Consultant',\n",
              "       'Data Analysis and Reporting Team Lead',\n",
              "       'Junior Data Analyst / Business Intelligence Expert (GN)',\n",
              "       'Business Data Analyst-(H/F)',\n",
              "       'BI Analyst - Tableau or other BI Tools',\n",
              "       'Commercial Data Analyst Travel', 'Junior/Mid Data Analyst',\n",
              "       'Data Science Analyst', 'Junior Data Analist',\n",
              "       'Data Analyst - Hybrid - Permanent', 'Data Analyst - Finance',\n",
              "       'Data Analyst / Decision Scientist, Marketing',\n",
              "       '(Junior) Consumer Business Intelligence Analyst (m/w/d)',\n",
              "       'Principal Data Analyst - Growth', 'Insight Analyst (m/f/x)',\n",
              "       'Data Analyst Costing', 'Business Data Analyst (m/w/d)',\n",
              "       'Information Analyst', 'Data Analist CBR',\n",
              "       'POWER BI / DATA ANALYST (M/W/D)', 'Junior Master Data Analyst',\n",
              "       'Data Analyst - Transportation', 'Data Analyst Power BI F/H',\n",
              "       'ANALYSTE DES DONNEES (H/F)',\n",
              "       'Consultant Power BI – Data Analyst (F/H)', 'Data Analist',\n",
              "       'Conversion Master Data Analyst to Procter & Gamble',\n",
              "       'Consultant (m/w/d) - Business Intelligence',\n",
              "       'Monitoring & Data Analyst (Solar PV)',\n",
              "       'Data Analyst / Data Scientist (m/f/d)',\n",
              "       'Data Analyst – Web & App (m/w/d)', 'Data Governance Analyst',\n",
              "       'Business Intelligence Consultant/Lead', 'Sales Data Analyst',\n",
              "       'Salesforce Data Analyst (f/m/d)', 'Consultant BI Lyon - H/F',\n",
              "       'Sales & Business Analyst',\n",
              "       'Corporate Product Master Specialist/Data Analyst',\n",
              "       'CONSULTANT BI / MSBI  F/H', 'Data Analyst (Slovakia) IRC183410',\n",
              "       'BI Analyst (m/w/d) Marketing', 'Data Analyst Power BI (m/w/d)',\n",
              "       'Data analyst | Deals (M&A) | CDI | H/F',\n",
              "       'Data Analyst (Assortment)',\n",
              "       'Wavemaker I Data Analyst with Python', 'Data Analyst Telco',\n",
              "       'Junior Insight Analyst', 'Data Analyst H/F H/F',\n",
              "       'Online Data Analyst', 'Data Analyst (m/w/d) im Controlling',\n",
              "       'BI Consultant', 'Data Analyst (Mobile)', 'Data Analyst (m/f/x)',\n",
              "       'Data Analyst - Scores & Etudes',\n",
              "       'Data Analyst, Metrics & Reporting',\n",
              "       'Alternance - Data Analyst - Data ETL & Visualisation (h/f/d)',\n",
              "       'Customer Data Platform Analyst', 'CDI - Data Analyst F/H',\n",
              "       'Analytics Consultant – McKinsey Digital',\n",
              "       'Senior Data Analyst (f/m/d) - onsite or remote / home office',\n",
              "       'Analytics Consultant, Power BI', 'Senior Datenanalyst (m/w/d)',\n",
              "       'CRM Data Analyst (m/w/d)', 'Data Analyst Assessor',\n",
              "       'Medior Data analyst', 'Data Analyst M/F',\n",
              "       'Analista de datos dept de elaborados (Guissona)',\n",
              "       'Data Analyst - Alternance - Boursorama-(H/F)',\n",
              "       'Junior Data Scientist/Analyst (m/w/d)',\n",
              "       'Operations Data Analyst (They/She/He)',\n",
              "       'Senior Business Intelligence Consultant', 'Data Scientist',\n",
              "       'Data Analyst Marketing Stratégique - Boursorama-(H/F)',\n",
              "       'Business Intelligence Consultant (m/w/d) Power BI oder Qlik',\n",
              "       'Dataanalytiker',\n",
              "       'Packaging Specification Technologist and Data Analyst',\n",
              "       'Junior / Medior Web Data Analyst', 'Senior BI Consultant',\n",
              "       'Data Governance analyst', 'Quality Data Analyst (m|w|d)',\n",
              "       'Digital Data Analist (32-38 uur)', 'Data scientist / analytiker',\n",
              "       'DATA ANALYST PILOTAGE OPERATIONNEL H/F', 'Insights Analyst',\n",
              "       'Junior Insights Analyst (w/m/d)', 'Data Scientist - Data Analyst',\n",
              "       'BI-consulent', 'Inhouse BI Consultant / BI Spezialist (m/w/d)',\n",
              "       '(ESG) Data Analyst (w/m/d)',\n",
              "       'Data Analyst - Marketing & Communications Insight',\n",
              "       'Informatie Analist', 'Data Analyst:in',\n",
              "       '(Senior) Consultant Transaction Analytics (f/m/d)',\n",
              "       'Job | Data Analyst E&E&P | Brussel',\n",
              "       'Clinical Data Insights Analyst (Medior/Senior)',\n",
              "       'Business Intelligence Consultant (M/W/D)', 'Data Analyst (M/W/D)',\n",
              "       'Data Analyst Return Solutions', 'Reliability Data Analyst',\n",
              "       'Data Analyst (Bangkok Based, Relocation Provided)',\n",
              "       'Analyste de données pièces de rechange automobile',\n",
              "       'Consultant AI & Data Analytics / Data Science (m/w/d)',\n",
              "       'Biostatistiker (m/w/d)', 'Datový analytik/vývojář',\n",
              "       'Sozialwissenschaftler*in als Data Analyst (w/m/d)',\n",
              "       'Customer Insights Analyst (Bangkok Based, Relocation Provided)',\n",
              "       'Consultant AI & Data Analytics / Data Science (m/w/d) in Berlin',\n",
              "       'Analityk danych internetowych (wszystko.pl)',\n",
              "       'Danish Language Data Analyst - Barcelona', 'Datový analytik',\n",
              "       'Data Analist - startersfunctie (Dutch speaking)',\n",
              "       'Privacy Data Analyst - Fluent German',\n",
              "       'Data Analyst / Decision Scientist, Growth',\n",
              "       'Senior Data Analyst (Bangkok Based, Relocation Provided)',\n",
              "       'Informatieanalist Cloud-applicaties',\n",
              "       'Danish Language Data Analyst in Barcelona',\n",
              "       'Data Analyst (w/m/d) - Kurse',\n",
              "       'Data Analyst in the area of IIoT / KI / Predictive Maintenance (m/f/d)',\n",
              "       'Data Analyst (Marketing & Comms)', 'Data Analyst (m/f)',\n",
              "       'Financial / Data Analyst', 'Data Analyst Export',\n",
              "       'Junior project manager - Categoria Protetta',\n",
              "       'Junior Business Analyst', 'Softwareentwickler (m/w/d)',\n",
              "       'Data analyst débutant(e)',\n",
              "       'Data Analyst im Bereich IIoT / KI / Predictive Maintenan ...',\n",
              "       'Data Engineer/ Data Analyst', 'DATA ANALYST',\n",
              "       'Data Analyst - Marketing - E-commerce',\n",
              "       'Data Analyst (Product Data Analyst)',\n",
              "       'Data Analyst - BSEU Raw Materials Planning', 'data analyst',\n",
              "       'DATA ANALYST - H/F',\n",
              "       'Statistical Analyst (Bangkok Based, Relocation Provided)',\n",
              "       'Medewerker verkoop binnendienst', 'BÜROKRAFT (M/W/D) IN GARCHING',\n",
              "       'Mitarbeiter Marketing (m/w/d)',\n",
              "       'Ingenieur Softwareentwicklung (m/w/d)',\n",
              "       'Projektmanager / Projektleiter Automotive (m/w/d)',\n",
              "       'ESG Analyst - Real Estate (m/w/d)',\n",
              "       'APM Software Development & Operations', 'Accountant',\n",
              "       'Mitarbeiter Marketing B2B (m/w/d)',\n",
              "       'Chargé de projets Sustainability F/H en apprentissage',\n",
              "       'Test Engineer', 'Systemutvecklare', 'IT-Spezialist (m/w/d)',\n",
              "       'Projektleitung Seiltechnik', 'Säljare till Skaraborgsområdet',\n",
              "       'Medewerker Cursuscoördinatie', 'Chef de Projet Réhabilitation',\n",
              "       'Chargé de Projets Écologue H/F (56)', 'BI Developer',\n",
              "       'Commercial Analyst', 'Reporting Specialist', 'Product Manager',\n",
              "       'IT Support Analyst, Global IT', 'Junior Sales Analyst',\n",
              "       'Data Business Analyst (m/f)', 'Infrastructure Analyst',\n",
              "       'Marketing Analyst (Data Analytics and BI)',\n",
              "       'BI Analyst (Pricing)', 'Data Visualization',\n",
              "       'Chemical development process  Lab analyst', 'DATA ANALYST IT',\n",
              "       'Business Intelligence Developer',\n",
              "       'Data Analyst, SQL/SSIS {Finance', 'Policy Analyst',\n",
              "       'Composiet medewerker', 'Performance Engineer',\n",
              "       'Web Analyst F/H en CDI', 'Sales Specialist',\n",
              "       '(Junior) Data Scientist', 'Process Analyst', 'Business Analyst',\n",
              "       'Data Scientist, Marketing Analytics', 'Data Analyst - Poland',\n",
              "       'Consultant.e BI', 'Business Intelligence Developer EEMEA',\n",
              "       'IT Business Analyst (Data)', '(Junior) Business Analyst (f/m/d)',\n",
              "       'Business Intelligence-Architekt:in', 'System Developer GIS',\n",
              "       'Analista de Software', 'Responsable Data Visualisation MS BI',\n",
              "       'Consultor/a Selección Ingeniería', 'Assistant, HR Data Analytics',\n",
              "       'IT Business Analyst for Human Resources',\n",
              "       'Business Data Analyst Lead\\xa0H/F', 'Market Intelligence Analyst',\n",
              "       'Data Engineer', 'Business Analyst Junior',\n",
              "       'Digital Analytics & Engagement Expert',\n",
              "       'SENIOR BUSINESS REPORTING SPECIALIST', 'Business & Data Analyst',\n",
              "       'Data Analyst (h/f)', 'BI Specialist',\n",
              "       'Business Analyst (f/m/diverse) - Hybrid',\n",
              "       'Center Operations Specialist', 'Business Analyst IT',\n",
              "       'IT CRM & Marketing Solutions Specialist',\n",
              "       'Junior Tech Business Analyst', 'Data Technology Analyst',\n",
              "       'Chef de Projet Data F/H', 'NRS13700 Grade V, Data Analyst',\n",
              "       'IT Data Analyst', 'DATA SCIENTIST - MARKETING',\n",
              "       'Data Analyst - Flanders Digital',\n",
              "       '(Junior) Application Specialist eCommerce (m/f/d)',\n",
              "       'Data Scientist (all genders)', 'Data & Analytics Consultant',\n",
              "       'Business intelligence expert', 'Junior Business Analyst (m/w/d)',\n",
              "       'Data Analytics Engineer', 'Business Analyst DATA (H/F)',\n",
              "       'Data Business Analyst', 'Analista Ecommerce, Web y App',\n",
              "       'Demand & Inventory Data Scientist', 'Data Visualization Expert',\n",
              "       'Supply Planner F/H', 'Data Program Manager',\n",
              "       'INGENIERO/A analista de datos Big Data', 'Data Steward',\n",
              "       'Data Engineer (m/f/n)',\n",
              "       'Business Analytics and Intelligence Analyst', 'Process Engineer',\n",
              "       'Data Science & Analytics Specialist (f/m/x)', 'Data Manager',\n",
              "       'Data Engineer, Business Intelligence', 'Junior CRM Analyst',\n",
              "       'Consultoría | Data & Analytics Hub Málaga',\n",
              "       'Data platform Product Owner', 'Analyst Developer',\n",
              "       'Digital Marketing Specialist',\n",
              "       'Analyst - Marketing Effectiveness', 'Social Media Data Analyst',\n",
              "       'Product Control Analyst', 'Data Analyst - Edtech',\n",
              "       'Finance - IT Functional Analyst', 'Data Scientist - Paris',\n",
              "       'Ingénieur Senior BI F/H', 'Data Management Specialist',\n",
              "       'Data Specialist', 'Business Analyst - Supply Chain',\n",
              "       'Data Analyst (Legal Services)', 'Business Analyst Middle',\n",
              "       'BUSINESS DATA ANALYSTE Senior H/F', 'DBA SQL',\n",
              "       'DATA ANALYST_FROSINONE (FR)', 'Data Consultant',\n",
              "       'Consultant - Data Visualization Specialist',\n",
              "       'Analyst (m/f/d) Business Intelligence & Analytics',\n",
              "       'Gestor/a Aprovisionamiento - Valladolid',\n",
              "       'Data and Analytics - IT Product Owner', 'Demand Planner',\n",
              "       'Logistics Development Analyst', 'Data Analyst SAS - H/F',\n",
              "       'Finance Data Analyst', 'Senior Digital Analyst (*all genders)',\n",
              "       'Business Intelligence Engineer',\n",
              "       'Business Analyst Specialist for Data Warehouse',\n",
              "       'Data Analyst / Mathematiker / Statistiker (m/w/d)',\n",
              "       'Market Research Analyst (Remote - within Europe)',\n",
              "       'BUSINESS ANALYST', 'Senior Data Scientist', 'Analyst',\n",
              "       'Junior Finance Analyst', 'SAP Finance Analyst',\n",
              "       'HR Digital Transformation',\n",
              "       'Data Analyst - Digital Marketing (all genders)',\n",
              "       '(Junior) Project Analyst (m/f/d)', 'Supply Chain Analyst',\n",
              "       'B2B Analyst, Bulgaria', 'IT Solution Analyst (m/f/n)',\n",
              "       'Business Analyst (m/w/d)', 'Data Architect',\n",
              "       'Business Specialist', 'Business Analyst (Junior Data Analyst)',\n",
              "       'Business Intelligence Associate', 'Salesforce Analyst',\n",
              "       'Data Analyst- 6 Month',\n",
              "       'Informático/a programador/a analista de datos',\n",
              "       'Business Analyst BI', 'Cognos and Power BI Reporting Developer',\n",
              "       'Business Analyst - Pricing', 'Montblanc - Business Analyst H/Ft',\n",
              "       'Online Data Analyst (m,f,d)', 'Junior STEM Analyst',\n",
              "       'Científico Inteligencia Artificial', 'Software Engineer',\n",
              "       'Jr. Data Scientist',\n",
              "       '📢 [Full Remote] BI Engineer - Startup Data Marketing - H/F',\n",
              "       'Business Insights Analyst (NJE)',\n",
              "       'Senior Reporting and Data Specialist',\n",
              "       'Information Technology Support Specialist',\n",
              "       'Business Analyst (Sales) (m/w/d)',\n",
              "       '(Junior) Business Analyst (w/m/d)',\n",
              "       'Business Analytics Specialist', 'Business Analyst (F/H)',\n",
              "       'Data Engineer (SQL, BI)',\n",
              "       'Client Data Analyst (Client Intelligence Specialist - Fully remote) )',\n",
              "       'Digital Data Analyst Pharma (m/f/d)',\n",
              "       'Trading and Business Support Analyst',\n",
              "       'Associate Database Analyst---Clinical Database Management',\n",
              "       'Senior Product Analyst', 'AFC Data Analyst',\n",
              "       'Consultant Data & BI – H/F', 'Data Entry',\n",
              "       'Business Analyst (f/m)', 'Junior Analyst | H/F',\n",
              "       'Client Intelligence Specialist', 'team Business Analyst',\n",
              "       'Ecommerce Web Analyst', 'Applications Support Analyst (f/m/d)',\n",
              "       'Information Technology Engineer', 'Data Analyst/ETL Developer',\n",
              "       'Head of Analytics', 'Digital Data Analytics',\n",
              "       '360 Data Product Owner', 'Online Data Analyst - France',\n",
              "       'DevOps Engineer', 'Analyste Data -(H/F)',\n",
              "       'Business Intelligence Specialist (w/m/d)',\n",
              "       'Junior Data Analytics Consultant', 'Technical Data Analyst',\n",
              "       'Junior Software Developer Engineer', 'Senior BI Data Engineer',\n",
              "       'Pricing Analyst', 'Demand Planning Analyst',\n",
              "       'Supply Chain Data Analyst',\n",
              "       'V.I.E Performance Management  Analyst',\n",
              "       'Analytics Consultant - Marketing Effectiveness',\n",
              "       'Business Analyst (English Speaking)',\n",
              "       'Business Analyst - Young Graduate - Academy Program',\n",
              "       'Senior Data Engineer (f/m/x)', 'Data Scientist H/F_CDI',\n",
              "       'Data Engineer (m/f/d)', 'Business Analyst H/F',\n",
              "       '[ALT] Data analyst Assistant - H/F', 'Data Scientist (f/m/d)',\n",
              "       'Banking Operations Specialist',\n",
              "       'Finance Data Analyst (m/w/d) - Gigafactory Berlin',\n",
              "       'Master Data Quality Analyst', 'Stage - Data Analyst H/F',\n",
              "       'Data Analyst - Client Insight', 'Traineeship data analyst',\n",
              "       'Data Analyst für Customer Analytics (m/w/d)',\n",
              "       'Client Insights Data Analyst - SQL, Python, Data bricks',\n",
              "       'Data analyst en alternance (94) DCF/AB - F/H',\n",
              "       'Data Analyst, Product Intelligence #SWX',\n",
              "       'Customer Data Analyst (m/w/d) Motorsport',\n",
              "       'Data Analyst Delivery Operations', 'Stage | Data Analyst',\n",
              "       'Data Analyst im Bereich IIoT / KI / Predictive Maintenance (m/w/d)',\n",
              "       'Semiconductor Data Analyst', 'Analista funzionale',\n",
              "       'Programmatore / Analista funzionale',\n",
              "       'Technical Analyst for Databricks (all genders)',\n",
              "       'Lead Tech et DATA VIZ (H/F)',\n",
              "       'Senior Expert Innovation Analytics Performance',\n",
              "       'SQL Database Administrator',\n",
              "       'Analista Dati di Geodesia - CATEGORIA PROTETTA',\n",
              "       'Business Analyst Pricing', 'Data Analyste',\n",
              "       'BI & data reporting Expert',\n",
              "       'Data Analyst - Global Marketing H/F',\n",
              "       'Data Engineer-Imprescindible experiencia en PowerCenter',\n",
              "       'Junior Marketing Analyst (Munich)', 'Data Scientist (Credit)',\n",
              "       'Senior BI Developer (SQL Server) – (Remote)',\n",
              "       'BECARIO/A DATA ANALYST CLIENTE', 'Functional Analyst',\n",
              "       'Technical Business Analyst',\n",
              "       'Chargé de projet validation stérilisation',\n",
              "       'Junior Data Processing Specialist', 'Front-end Developer',\n",
              "       'Data analyst en alternance (H/F) - Boulogne-Billancourt',\n",
              "       'ALTERNANCE - Assistance Data Analyst et Reporting RH F/H',\n",
              "       'Data Analyst (Fraud)*', 'ANALISTA DE PROYECTO DIGITALIZACIÓN',\n",
              "       'Data Analyst - Customer Management Domain',\n",
              "       'Data Analyst - Pilotage transformation Cloud-(H/F)',\n",
              "       'Business Intelligence-Analyst:in', 'Analyst*in (m/w/d)',\n",
              "       'Business Analyst Consultant', 'Business Process Analyst',\n",
              "       'IT Strategy and Reporting Analyst (m/f)',\n",
              "       'Data Analyst (m/f/d) - Global Sea Logistics Systems',\n",
              "       'IT Research Analyst', 'Product Data Analyst with English',\n",
              "       'Data Scientist & Analyst expérimenté',\n",
              "       'Data Analyst H/F - Alternance 12 ou 24 mois',\n",
              "       'Associate Data Manager', 'Data Scientist (H/F)',\n",
              "       'Credit - Data Analyst (Product)', 'DATA ENGINEER REFERENT',\n",
              "       'Planning & Control Analyst', 'Business Analyst - IT',\n",
              "       'Associate Data Scientist', 'BI/Reports Developer',\n",
              "       'Digital Analyst', 'Associate - Data Research',\n",
              "       'Business Analyst & Planning', 'Junior Business Analyst - Triodos',\n",
              "       'Mid Data Engineer', 'Global HRIS Specialist',\n",
              "       '(Junior) Systems Business Analyst (f/m/d)',\n",
              "       'Operational Analyst (Hybrid)', 'Data Engineer Industry 4.0',\n",
              "       'Associate - McKinsey Digital',\n",
              "       'Data Analyst - Global Marketing Agency',\n",
              "       'Data Analyst and Business Development Specialist',\n",
              "       'Digital Back office specialist - TEMPO DETERMINATO',\n",
              "       'Junior Project Manager', '(Junior) Project Coordinator',\n",
              "       'IT Analityk', 'DBA', 'Analyst (Strategy, Policy and Innovation)',\n",
              "       'Junior Data Scientist', 'Developer',\n",
              "       'Senior Financial Analyst (M/F)', 'Junior Developer',\n",
              "       'Chef.fe de Projet Data et BI F/H', 'BUSINESS ANALYST (h/f/x) CDI',\n",
              "       'Business Analyst - Manufacturing & Supply Chain',\n",
              "       'Supply Officer & Data Analyst - Systems & Equipment (d/f/m)',\n",
              "       'Junior Business Analyst - back office team',\n",
              "       'Business Intelligence Specialist',\n",
              "       'Global Manager Data Analytics',\n",
              "       'Data Science and Analytics Engineer M/F', 'Research Analyst',\n",
              "       'Operations Analyst - H/F',\n",
              "       'Junior SQL Server Database Administrator',\n",
              "       'Inventory Analytics Manager',\n",
              "       'Data Analyst Professional Programme', 'DATA ENGINEER F/H',\n",
              "       'Sviluppatore front-end', 'Data Reporting Engineer',\n",
              "       'Référent Applicatif Business Intelligence F/H',\n",
              "       'Analyst - FRENCH speaking -', 'Aftersales Reporting Specialist',\n",
              "       'Data Scientist/Data Engineer, Matching', 'Data Engineer Big Data',\n",
              "       'ANALISTA (H/M) FINANCIERO / FP&A REPORTING',\n",
              "       'Business Data Analyst Evolutions (2300046Z)',\n",
              "       'CDI - Chef de Projet Data/Analytique F/H',\n",
              "       'Analyst - Application Development Analytics',\n",
              "       'Analista Funzionale IT (Junior)', 'Tender Office Specialist',\n",
              "       'Business Analyst Internship', 'Salesforce Business Analyst',\n",
              "       'Data Analyst - Lisboa e Porto - Campo Grande',\n",
              "       'Market Analyst- European Power Market', 'FP&A Analyst',\n",
              "       'Solution Owner, Enterprise Solutions, IKEA Industry AB',\n",
              "       'QE Manager', 'Internet Data Evaluator | Work-from-home',\n",
              "       'Analityk', 'Data Engineer H/F', 'Junior Analyst - Data Process',\n",
              "       'Freelance contracting project // Data Product Owner (m/f/d) - Remote',\n",
              "       'Developer (m/f/n)', 'Data Scientist Transport & Logistics',\n",
              "       'Oracle Developer (2 posts)', 'Analyst Sourcing & Planning',\n",
              "       'JUNIOR PROJECT MANAGER', 'DATA SCIENTIST', 'IT Specialist (f/m)',\n",
              "       'L.T.E. S.p.a. - Ingegnere di Processo', 'Operational Specialist',\n",
              "       'Consultant Senior Microsoft BI - Power BI Expert H/F',\n",
              "       'Application Support Specialist - Business Intelligence',\n",
              "       'Junior Innovation Analyst', 'Database Administrator',\n",
              "       'Data Analyst / Risques de Crédit - Boursorama-(H/F)',\n",
              "       'Process Performance Engineer', 'Freelance Data Modeler',\n",
              "       'Business Analyst (Software)', 'Junior Analyst',\n",
              "       'Analytics & Reporting - Associate – Warsaw', 'PTP Analyst',\n",
              "       'Customer Data Integration Specialist - Bulgaria',\n",
              "       'Marketing Analyst (m/w/d)', 'Data Analyst Job In Overseas',\n",
              "       'CRO /Digital analyst', 'Customer Support Analyst',\n",
              "       'Marketing Analyst',\n",
              "       'Emerton Data: Data Scientist & Strategy Consultant',\n",
              "       'Ingeniero de datos Power BI + Azure Datafactory',\n",
              "       'Business-Analyst:in', 'Junior Software Developer',\n",
              "       'Analista de datos BI'], dtype=object)"
            ]
          },
          "execution_count": 30,
          "metadata": {},
          "output_type": "execute_result"
        }
      ],
      "source": [
        "df['job_title'].unique()"
      ]
    },
    {
      "cell_type": "markdown",
      "id": "11beb003",
      "metadata": {
        "id": "11beb003"
      },
      "source": [
        "Видим в списке вакансий 560 различных наименований, в том числе и вакансии, не являющиеся дата-аналитиками. Следующим этапом сократим количество наименований вакансий."
      ]
    },
    {
      "cell_type": "code",
      "execution_count": null,
      "id": "a5aad8d8",
      "metadata": {
        "id": "a5aad8d8"
      },
      "outputs": [],
      "source": [
        "# сначала приведем все к строчным буквам\n",
        "df['job_title'] = df['job_title'].str.lower()"
      ]
    },
    {
      "cell_type": "code",
      "execution_count": null,
      "id": "6f2ce451",
      "metadata": {
        "id": "6f2ce451"
      },
      "outputs": [],
      "source": [
        "# заменим видимые глазом синонимы на единое наименование, в том числе с иностранных языков\n",
        "df['job_title'] = df['job_title'].replace('data-analist', 'data analyst')\n",
        "df['job_title'] = df['job_title'].replace('analista de datos', 'data analyst')\n",
        "df['job_title'] = df['job_title'].replace('analyste des donnees', 'data analyst')\n",
        "df['job_title'] = df['job_title'].replace('analista de datos', 'data analyst')\n",
        "df['job_title'] = df['job_title'].replace('datový analytik', 'data analyst')\n",
        "df['job_title'] = df['job_title'].replace('analityk danych', 'data analyst')\n",
        "df['job_title'] = df['job_title'].replace('datový analytik', 'data analyst')\n",
        "df['job_title'] = df['job_title'].replace('dataanalytiker', 'data analyst')"
      ]
    },
    {
      "cell_type": "code",
      "execution_count": null,
      "id": "2ff002a6",
      "metadata": {
        "id": "2ff002a6"
      },
      "outputs": [],
      "source": [
        "# оставим в датафрейме только вакансии с указанием data analyst или BI\n",
        "df = df[(df['job_title'].str.contains('data analyst')) | (df['job_title'].str.contains('BI'))]"
      ]
    },
    {
      "cell_type": "code",
      "execution_count": null,
      "id": "6c5a549e",
      "metadata": {
        "scrolled": true,
        "id": "6c5a549e",
        "outputId": "6f76c021-219a-4577-d178-1fa5e0edf36a"
      },
      "outputs": [
        {
          "data": {
            "text/plain": [
              "data analyst                           125\n",
              "online data analyst                     38\n",
              "data analyst - milano                   28\n",
              "data analyst (m/w/d)                    26\n",
              "reliability data analyst                19\n",
              "                                      ... \n",
              "data analyst telco                       1\n",
              "data analyst h/f h/f                     1\n",
              "data analyst (m/w/d) im controlling      1\n",
              "data analyst (mobile)                    1\n",
              "data analyst job in overseas             1\n",
              "Name: job_title, Length: 181, dtype: int64"
            ]
          },
          "execution_count": 34,
          "metadata": {},
          "output_type": "execute_result"
        }
      ],
      "source": [
        "df['job_title'].value_counts()"
      ]
    },
    {
      "cell_type": "markdown",
      "id": "42006539",
      "metadata": {
        "id": "42006539"
      },
      "source": [
        "Работодатели на LinkedIn не придерживаются единой философии именования вакансий, и, видимо, ориентированы не на тех, кто ищет вакансию по ее названию, а скорее на тех, кто ищет работу в конкретной компании."
      ]
    },
    {
      "cell_type": "markdown",
      "source": [
        " **$\\color{blue}{\\text{КОММЕНТАРИЙ}}$**\n",
        "\n",
        "к сожалению это так Очень классная обработка и фильтрация данных по релевантности"
      ],
      "metadata": {
        "id": "SGbyZzwuWRle"
      },
      "id": "SGbyZzwuWRle"
    },
    {
      "cell_type": "markdown",
      "id": "b3ab72db",
      "metadata": {
        "id": "b3ab72db"
      },
      "source": [
        "### **Выделение кампании, и общего адреса**"
      ]
    },
    {
      "cell_type": "code",
      "execution_count": null,
      "id": "d32d2cd1",
      "metadata": {
        "id": "d32d2cd1"
      },
      "outputs": [],
      "source": [
        "df['company'] = df['html'].apply(lambda x: BeautifulSoup(x).find(\n",
        "    'span', class_=\"jobs-unified-top-card__company-name\").text.strip())\n",
        "df['adress'] = df['html'].apply(lambda x: BeautifulSoup(x).find(\n",
        "    'span', class_=\"jobs-unified-top-card__bullet\").text.strip())"
      ]
    },
    {
      "cell_type": "markdown",
      "id": "92aa2b97",
      "metadata": {
        "id": "92aa2b97"
      },
      "source": [
        "### **Выделение размера компании**"
      ]
    },
    {
      "cell_type": "code",
      "execution_count": null,
      "id": "e1b59102",
      "metadata": {
        "id": "e1b59102"
      },
      "outputs": [],
      "source": [
        "df['company_size'] = df['html'].apply(lambda x: info(x, 'span', 'jobs-company__inline-information'))"
      ]
    },
    {
      "cell_type": "markdown",
      "id": "386eaf6c",
      "metadata": {
        "id": "386eaf6c"
      },
      "source": [
        "### **Выделение типа занятости**"
      ]
    },
    {
      "cell_type": "code",
      "execution_count": null,
      "id": "dff9ead5",
      "metadata": {
        "id": "dff9ead5"
      },
      "outputs": [],
      "source": [
        "df['type_of_employment'] = df['html'].apply(lambda x: info(x, 'span', 'jobs-unified-top-card__workplace-type'))"
      ]
    },
    {
      "cell_type": "markdown",
      "id": "d168980f",
      "metadata": {
        "id": "d168980f"
      },
      "source": [
        "### **Выделение сферы деятельности компании**"
      ]
    },
    {
      "cell_type": "code",
      "execution_count": null,
      "id": "8d212db0",
      "metadata": {
        "id": "8d212db0"
      },
      "outputs": [],
      "source": [
        "df['company_sphere'] = df['html'].apply(lambda x: comp_sphere(x, 'div', 't-14 mt5'))"
      ]
    },
    {
      "cell_type": "markdown",
      "id": "6afa2067",
      "metadata": {
        "id": "6afa2067"
      },
      "source": [
        "### **Выделение занятости**"
      ]
    },
    {
      "cell_type": "code",
      "execution_count": null,
      "id": "4bd4678f",
      "metadata": {
        "id": "4bd4678f"
      },
      "outputs": [],
      "source": [
        "df['employment'] = df['html'].apply(lambda x: employment(\n",
        "    x, 'li', 'jobs-unified-top-card__job-insight'))\n",
        "df['level'] = df['html'].apply(lambda x: level(\n",
        "    x, 'li', 'jobs-unified-top-card__job-insight'))"
      ]
    },
    {
      "cell_type": "markdown",
      "id": "b29997be",
      "metadata": {
        "id": "b29997be"
      },
      "source": [
        "### **Выделение требуемых hard skills для вакансии**"
      ]
    },
    {
      "cell_type": "code",
      "execution_count": null,
      "id": "465947f2",
      "metadata": {
        "id": "465947f2"
      },
      "outputs": [],
      "source": [
        "# в отдельную ячейку запишем весь текст вакансии\n",
        "df['vac_text'] = df['html'].apply(lambda x: info(x,'div', 'jobs-box__html-content jobs-description-content__text t-14 t-normal jobs-description-content__text--stretch'))"
      ]
    },
    {
      "cell_type": "code",
      "execution_count": null,
      "id": "2687092f",
      "metadata": {
        "id": "2687092f"
      },
      "outputs": [],
      "source": [
        "# и в отдельную те два скила, которые можно взять непосредственно со страницы\n",
        "df['base_skills'] = df['html'].apply(lambda x: info(x,'span','visually-hidden'))"
      ]
    },
    {
      "cell_type": "markdown",
      "id": "53ef64e1",
      "metadata": {
        "id": "53ef64e1"
      },
      "source": [
        "### **Выделение дата добавления вакансии**"
      ]
    },
    {
      "cell_type": "code",
      "execution_count": null,
      "id": "cbe0394a",
      "metadata": {
        "id": "cbe0394a"
      },
      "outputs": [],
      "source": [
        "df['time_from_public'] = df['html'].apply(lambda x: info(\n",
        "    x, 'span', 'jobs-unified-top-card__posted-date'))"
      ]
    },
    {
      "cell_type": "markdown",
      "id": "fce3be5e",
      "metadata": {
        "id": "fce3be5e"
      },
      "source": [
        "### **Выделение количество кандидатов на вакансию**"
      ]
    },
    {
      "cell_type": "code",
      "execution_count": null,
      "id": "6b7918de",
      "metadata": {
        "id": "6b7918de"
      },
      "outputs": [],
      "source": [
        "df['candidates'] = df['html'].apply(lambda x: info(\n",
        "    x, 'span', 'jobs-unified-top-card__applicant-count'))"
      ]
    },
    {
      "cell_type": "code",
      "execution_count": null,
      "id": "8f11875b",
      "metadata": {
        "scrolled": true,
        "id": "8f11875b",
        "outputId": "e39f8ec6-a2cb-4295-edc8-2496448a0b7a"
      },
      "outputs": [
        {
          "name": "stdout",
          "output_type": "stream",
          "text": [
            "<class 'pandas.core.frame.DataFrame'>\n",
            "Int64Index: 520 entries, 0 to 994\n",
            "Data columns (total 14 columns):\n",
            " #   Column              Non-Null Count  Dtype \n",
            "---  ------              --------------  ----- \n",
            " 0   Unnamed: 0          520 non-null    int64 \n",
            " 1   html                520 non-null    object\n",
            " 2   job_title           520 non-null    object\n",
            " 3   company             520 non-null    object\n",
            " 4   adress              520 non-null    object\n",
            " 5   company_size        520 non-null    object\n",
            " 6   type_of_employment  520 non-null    object\n",
            " 7   company_sphere      520 non-null    object\n",
            " 8   employment          520 non-null    object\n",
            " 9   level               520 non-null    object\n",
            " 10  vac_text            520 non-null    object\n",
            " 11  base_skills         520 non-null    object\n",
            " 12  time_from_public    520 non-null    object\n",
            " 13  candidates          520 non-null    object\n",
            "dtypes: int64(1), object(13)\n",
            "memory usage: 60.9+ KB\n"
          ]
        }
      ],
      "source": [
        "df.info()"
      ]
    },
    {
      "cell_type": "markdown",
      "id": "eddb0848",
      "metadata": {
        "id": "eddb0848"
      },
      "source": [
        "### **Промежуточные итоги по парсингу**\n",
        "\n",
        "На данном этапе мы получили датафрейм, содержащий в отдельных столбцах информацию о \n",
        "- названии должности\n",
        "- компании\n",
        "- адресе компании, с указанием города, региона и страны в одной ячейке\n",
        "- размере компании\n",
        "- сферы деятельности компании\n",
        "- типу занятости на вакансию\n",
        "- уровень на вакансию\n",
        "- когда была опубликована вакансия относительно даты парсинга - 23.05.2023\n",
        "- сколько кандидатов на вакансию\n",
        "- текстовое описание вакансии\n",
        "\n",
        "Далее необходимо:\n",
        "- разделить столбец адреса на город и страну\n",
        "- расчитать дату публикации вакансии\n",
        "- выделить из описания вакансии hard skills"
      ]
    },
    {
      "cell_type": "markdown",
      "source": [
        " **$\\color{blue}{\\text{КОММЕНТАРИЙ}}$**\n",
        "\n",
        "Отлично Хочу отметить великолепное владение методами bs4"
      ],
      "metadata": {
        "id": "7Zh0NnmtWjqo"
      },
      "id": "7Zh0NnmtWjqo"
    },
    {
      "cell_type": "markdown",
      "id": "b96e8063",
      "metadata": {
        "id": "b96e8063"
      },
      "source": [
        "## **Выделение информации из столбцов**"
      ]
    },
    {
      "cell_type": "code",
      "execution_count": null,
      "id": "28e74005",
      "metadata": {
        "id": "28e74005"
      },
      "outputs": [],
      "source": [
        "# уберем из датасета столбец с html страницей, она нам больше не понадобиться\n",
        "df = df.drop('html', axis = 1)"
      ]
    },
    {
      "cell_type": "markdown",
      "source": [
        " **$\\color{blue}{\\text{КОММЕНТАРИЙ}}$**\n",
        "\n",
        "Здесь еще и Unnamed можно дропнуть"
      ],
      "metadata": {
        "id": "7czCjZZHWyhK"
      },
      "id": "7czCjZZHWyhK"
    },
    {
      "cell_type": "code",
      "execution_count": null,
      "id": "a1f7477e",
      "metadata": {
        "id": "a1f7477e",
        "outputId": "e9b0341b-1550-40ad-9866-6e21227bb9ed"
      },
      "outputs": [
        {
          "data": {
            "text/html": [
              "<div>\n",
              "<style scoped>\n",
              "    .dataframe tbody tr th:only-of-type {\n",
              "        vertical-align: middle;\n",
              "    }\n",
              "\n",
              "    .dataframe tbody tr th {\n",
              "        vertical-align: top;\n",
              "    }\n",
              "\n",
              "    .dataframe thead th {\n",
              "        text-align: right;\n",
              "    }\n",
              "</style>\n",
              "<table border=\"1\" class=\"dataframe\">\n",
              "  <thead>\n",
              "    <tr style=\"text-align: right;\">\n",
              "      <th></th>\n",
              "      <th>Unnamed: 0</th>\n",
              "      <th>job_title</th>\n",
              "      <th>company</th>\n",
              "      <th>adress</th>\n",
              "      <th>company_size</th>\n",
              "      <th>type_of_employment</th>\n",
              "      <th>company_sphere</th>\n",
              "      <th>employment</th>\n",
              "      <th>level</th>\n",
              "      <th>vac_text</th>\n",
              "      <th>base_skills</th>\n",
              "      <th>time_from_public</th>\n",
              "      <th>candidates</th>\n",
              "    </tr>\n",
              "  </thead>\n",
              "  <tbody>\n",
              "    <tr>\n",
              "      <th>298</th>\n",
              "      <td>298</td>\n",
              "      <td>data analyst (m/w/d)</td>\n",
              "      <td>Charisma-Tec GmbH</td>\n",
              "      <td>Germany</td>\n",
              "      <td>2-10 employees</td>\n",
              "      <td>On-site</td>\n",
              "      <td>Human Resources</td>\n",
              "      <td>Full-time</td>\n",
              "      <td>Entry level</td>\n",
              "      <td>About the job\\n        \\n \\n\\n\\n\\n      This job is sourced from a job board.\\n      Learn more\\n\\n\\n \\n                Standort: Mülheim an der Ruhr\\nWer sind Wir?\\nDie Charisma-Tec GmbH ist ein spezialisiertes Personalberatungsunternehmen für die Transport- und Logistikindustrie. Wir verbinden die besten Talente und Industrie Professionals mit spannenden und innovativen Unternehmen weltweit.\\nUnser namhafter Kunde ist einer der führenden und innovativsten Retailer. Für diesen suchen wir ab sofort einen Data Analyst (m/w/d).\\nIhre Aufgaben\\n Entwicklung und Durchführung spannender Analysen zum Beispiel zum Kundenverhalten, dem Marketing und dem Supply Chain  agile Entwicklung von Reports und Dashboards in cross-funktionalen Teams aus Data Scientists, Data Engineers, Data Analysts und Stakeholdern aus den Fachbereichen  Bearbeitung von komplexen Ad-hoc-Anfragen, Visualisierung der Ergebnisse, sowie die Erstellung von Handlungsempfehlungen  Enge Zusammenarbeit mit verschiedenen Fachbereichen  Unterstützung des operativen Tagesgeschäfts mit Daten, Analysen und Insights \\nIhr Profil\\n Abgeschlossenes Studium der Statistik, (Wirtschafts-) Mathematik, (Wirtschafts-) Informatik, Wirtschaftswissenschaften, Naturwissenschaften oder eine vergleichbare Berufsausbildung bzw. Qualifikation  Fortgeschrittene Kenntnisse in SQL und Excel  Berufserfahrung in der Aufbereitung, Analyse und Präsentation von Daten  Erste Erfahrung mit BI Tools  Programmierkenntnisse in Python wünschenswert  Sehr gute Deutsch- und Englischkenntnisse  Pragmatische Hands-on-Mentalität und ausgeprägter operativer Fokus  Teamfähigkeit \\nUnsere Kontaktdaten\\nCharisma-Tec GmbH\\nSabine Potrykus\\nRethelstraße 38\\n40237 Düsseldorf\\nE-Mail: karriere.ct@charisma-tec.de\\nTel: 0211-170905-00\\nWeb: www.charisma-tec.de</td>\n",
              "      <td>Skills: Панель управления, SQL, +8 more</td>\n",
              "      <td>5 days ago</td>\n",
              "      <td>21 applicants</td>\n",
              "    </tr>\n",
              "    <tr>\n",
              "      <th>638</th>\n",
              "      <td>638</td>\n",
              "      <td>data analyst - milano</td>\n",
              "      <td>CPM Italy</td>\n",
              "      <td>San Donato Milanese, Lombardy, Italy</td>\n",
              "      <td>51-200 employees</td>\n",
              "      <td>Hybrid</td>\n",
              "      <td>Retail</td>\n",
              "      <td>Full-time</td>\n",
              "      <td>Entry level</td>\n",
              "      <td>About the job\\n        \\n \\n\\n\\n\\n      This job is sourced from a job board.\\n      Learn more\\n\\n\\n \\nVuoi un mini spoiler su CPM?\\n\\nCi prendiamo cura dei maggiori brand mondiali da oltre 80 anni attraverso diverse attività, dal merchandising alle vendite, dalla consumer activation al supporto clienti fino alla formazione sul prodotto. Questa è CPM, una realtà internazionale forte e dinamica, come le persone che ne fanno parte. Per te, rappresenta la grande opportunità di entrare a far parte di una solida multinazionale dove formarti e sviluppare la tua carriera in un settore in crescita e in un ambiente giovane, innovativo e super stimolante. Un’esperienza che ti metterà a contatto con i brand e le aziende più importanti in Italia.\\n\\nCandidati e… magari ci vediamo a bordo!\\n\\nTi offriamo di diventare il guru dei nostri dati.\\n\\nPer te abbiamo una posizione come Data Analyst in un settore, il field marketing, dove la tua competenza può davvero fare la differenza.\\n\\nPotrai mettere in luce le tue capacità di analisi e interpretazione del dato al servizio di tanti brand diversi. Annoiarsi? Impossibile. Lavorerai nella nostra sede di Milano in spazi di nuova generazione e potrai operare anche da casa e ovunque grazie alle nuove politiche di smart working. Perché in CPM Italy siamo convinti che i tuoi risultati passino anche attraverso la qualità della tua vita.\\n\\nOk, ma cosa farai di preciso?\\n\\nIl tuo ruolo riguarda l’analisi e la presentazione dei dati riguardanti la vendita, il posizionamento e la valutazione di campagne promo e di comunicazione in store dei brand delle nostre aziende clienti. Come?\\nrealizzando report su misura;utilizzando indicatori chiave di performance (KPI);sviluppando e gestendo un avanzato sistema di business intelligence e dashboard online;collaborando con i colleghi del team.\\nSei tu la persona giusta?\\n\\nPer entrare nel nostro reparto di Data Analyst è richiesta un’esperienza di almeno 1 anno in questo ruolo. Essere positivi, proattivi e precisi è un ottimo requisito ma i veri must sono la passione per i numeri e la voglia di partecipare sempre a nuove sfide.\\n\\nIn più è fantastico se…\\nti piace trasformare dati in informazioni;excel è il tuo pane quotidiano;ti entusiasma lavorare in team;sei flessibile sia come orari che di mentalità!\\nAi sensi della legge 12 Marzo 1999 n.68, Inventa CPM promuove l'inserimento e l'integrazione delle persone disabili nel mondo del lavoro, per questo motivo verranno tenute in particolare considerazione le candidature di tutti i soggetti indicati al comma 1 art.1 della succitata legge.</td>\n",
              "      <td>Skills: Аналитические навыки, Ключевые показатели деятельности, +8 more</td>\n",
              "      <td>2 weeks ago</td>\n",
              "      <td>no info</td>\n",
              "    </tr>\n",
              "    <tr>\n",
              "      <th>425</th>\n",
              "      <td>425</td>\n",
              "      <td>senior data analyst (bangkok based, relocation provided)</td>\n",
              "      <td>Agoda</td>\n",
              "      <td>Düsseldorf, North Rhine-Westphalia, Germany</td>\n",
              "      <td>5,001-10,000 employees</td>\n",
              "      <td>no info</td>\n",
              "      <td>Computer Software</td>\n",
              "      <td>Full-time</td>\n",
              "      <td>Entry level</td>\n",
              "      <td>About the job\\n        \\n\\n \\nAbout Agoda\\nAgoda is an online travel booking platform for accommodations, flights, and more. We build and deploy cutting-edge technology that connects travelers with more than 2.5 million accommodations globally. Based in Asia and part of Booking Holdings, our 6,000+ employees representing 90+ nationalities foster a work environment rich in diversity, creativity, and collaboration. We innovate through a culture of experimentation and ownership, enhancing the ability for our customers to experience the world.\\nGet to know our team: \\nThe Performance Marketing Team of Agoda is a world leader in online marketing. This department is highly data-driven and focused on developing at-scale marketing programs that improve the lifetime value of Agoda customers through measurable marketing programs and channels. The team is a blend of the best analysts, marketing strategists, and data scientists in the world. The marketing leadership at Agoda has deep experience in data science, product, strategy, and other marketing fields and has built an organization that thrives on data, creative ideas, and technology. The Performance Marketing Team also fosters a great learning environment. You will be able to learn and grow by working closely with experts from a variety of backgrounds from all over the world.\\nDue to continued expansion, there are multiple analyst roles within the marketing team across different marketing channels. While the scope will vary depending on these channels, here are some examples:\\n Experimentation and optimizing campaign performance: Experiment with ads/campaign structures and bidding&amp; pricing strategies on partners such as Google, Bing, TripAdvisor, Trivago, and other search engines. Adapt to new product features and roll out changes from successful tests.  Modeling: Analyze vast amounts of data generated by experiments, develop predictive models using data science techniques (e.g. understanding the impact on bookings from large-scale TV campaigns or demand elasticity from pricing optimization), and liaise with product teams on an implementation roadmap  Reporting, analysis, and insights: Building dashboards to track performance, derive insights, understand growth levers, and communicate recommendations via presentations to stakeholders \\nWhat you’ll Need to Succeed: \\n Bachelor’s degree or higher from top university in a quantitative subject e.g. computer science, mathematics, engineering business, science, or relevant field of study  4+ years experience in data crunching from top-tier consulting, investment banking, private equity or strategy/business role for a fast-growing global tech company  Experience in one or more data analysis packages or databases, e.g. SQL, SAS, R, SPSS, Python, VBA and visualization tools, e.g. Tableau, Power BI, etc.  Excellent verbal and written communication skills in English  Ability to move fast and be efficient, making decisions on objective data evidence  Innate desire to take ownership, make an impact and influence outcomes  Excellent organizational skills, attention to detail and ability to work independently \\nIt’s great if you have: \\n Experience in digital marketing or e-commerce  Experience with A/B testing and other testing metrics  Strong presentation and negotiation skills   #STRA#ANLS#MRKT#3 #sanfrancisco #sanjose #losangeles #sandiego #oakland #denver #miami #orlando #atlanta #chicago #boston #detroit #newyork #portland #philadelphia #dallas #houston #austin #seattle #washdc #tirana #yerevan #sydney #melbourne #perth #vienna #graz #linz #baku #minsk #brussels #antwerp #ghent #charleroi #liege #saopaolo #sofia #toronto #vancouver #montreal #shanghai #beijing #shenzhen #zagreb #cyprus #prague #Brno #Ostrava #copenhagen #cairo #alexandria #giza #estonia #helsinki #paris #nice #marseille #rouen #lyon #toulouse #tbilisi #berlin #munich #hamburg #stuttgart #cologne #frankfurt #dusseldorf #dortmund #essen #Bremen #leipzig #dresden #hanover #nuremberg #athens #hongkong #budapest #bangalore #newdelhi #jakarta #bali #bandung #dublin #telaviv #milan #rome #naples #turin #palermo #venice #bologna #florence #tokyo #osaka #yokohama #nagoya #okinawa #fukuoka #sapporo #amman #irbid #riga #beirut #tripoli #vilnius #luxembourg #kualalumpur #malta #chisinau #amsterdam #oslo #jerusalem #manila #warsaw #krakow #sintra #lisbon #porto #braga #cascais #loures #amadora #almada #doha #alrayyan #bucharest #moscow #saintpetersburg #riyadh #jeddah #mecca #medina #belgrade #singapore #bratislava #capetown #johannesburg #seoul #barcelona #madrid #valencia #seville #bilbao #malaga #oviedo #alicante #laspalmas #zaragozbanga #stockholm #zurich #geneva #basel #taipei #tainan #taichung #kaohsiung #Phuket #bangkok #istanbul #ankara #izmir #dubai #abudhabi #sharjah #london #manchester #liverpool #edinburgh #kiev #hcmc #hanoi #sanaa #taiz #aden #gibraltar #marrakech #lodz #wroclaw #poznan #Gdansk #szczecin #bydgoszcz #lublin #katowice #rio #salvador #fortaleza #brasilia #belo #belem #manaus #curitiba #portoalegre #saoluis data representation data analysis SQL data analytics analytics python (programming language) data mining data science r (programming language) tableau analytical skills data visualization databases business analysis business intelligence (bi) microsoft sql server machine learning statistics power bi \\nEqual Opportunity Employer \\nAt Agoda, we pride ourselves on being a company represented by people of all different backgrounds and orientations. We prioritize attracting diverse talent and cultivating an inclusive environment that encourages collaboration and innovation. Employment at Agoda is based solely on a person’s merit and qualifications. We are committed to providing equal employment opportunity regardless of sex, age, race, color, national origin, religion, marital status, pregnancy, sexual orientation, gender identity, disability, citizenship, veteran or military status, and other legally protected characteristics.\\nWe will keep your application on file so that we can consider you for future vacancies and you can always ask to have your details removed from the file. For more details please read our privacy policy .\\nTo all recruitment agencies: Agoda does not accept third party resumes. Please do not send resumes to our jobs alias, Agoda employees or any other organization location. Agoda is not responsible for any fees related to unsolicited resumes.</td>\n",
              "      <td>Skills: A/B тестирование, Инвестиционно-банковская деятельность, +8 more</td>\n",
              "      <td>4 days ago</td>\n",
              "      <td>no info</td>\n",
              "    </tr>\n",
              "  </tbody>\n",
              "</table>\n",
              "</div>"
            ],
            "text/plain": [
              "     Unnamed: 0                                                 job_title  \\\n",
              "298         298                                      data analyst (m/w/d)   \n",
              "638         638                                     data analyst - milano   \n",
              "425         425  senior data analyst (bangkok based, relocation provided)   \n",
              "\n",
              "               company                                       adress  \\\n",
              "298  Charisma-Tec GmbH                                      Germany   \n",
              "638          CPM Italy         San Donato Milanese, Lombardy, Italy   \n",
              "425              Agoda  Düsseldorf, North Rhine-Westphalia, Germany   \n",
              "\n",
              "               company_size type_of_employment     company_sphere  employment  \\\n",
              "298          2-10 employees            On-site    Human Resources  Full-time    \n",
              "638        51-200 employees             Hybrid             Retail  Full-time    \n",
              "425  5,001-10,000 employees            no info  Computer Software  Full-time    \n",
              "\n",
              "            level  \\\n",
              "298   Entry level   \n",
              "638   Entry level   \n",
              "425   Entry level   \n",
              "\n",
              "                                                                                                                                                                                                                                                                                                                                                                                                                                                                                                                                                                                                                                                                                                                                                                                                                                                                                                                                                                                                                                                                                                                                                                                                                                                                                                                                                                                                                                                                                                                                                                                                                                                                                                                                                                                                                                                                                                                                                                                                                                                                                                                                                                                                                                                                                                                                                                                                                                                                                                                                                                                                                                                                                                                                                                                                                                                                                                                                                                                                                                                                                                                                                                                                                                                                                                                                                                                                                                                                                                                                                                                                                                                                                                                                                                                                                                                                                                                                                                                                                                                                                                                                                                                                                                                                                                                                                                                                                                                                                                                                                                                                                                                                                                                                                                                                                                                                                                                                                                                                                                                                                                                                                                                                                                                                                                                                                                                                                                                                                                                                                                                                                                                                                                                                                                                                                                                                                                                                                                                                                                                                                                                                                                                                                                                                                                                                                                                                                                                                                                                                                                                                                                                                                                             vac_text  \\\n",
              "298                                                                                                                                                                                                                                                                                                                                                                                                                                                                                                                                                                                                                                                                                                                                                                                                                                                                                                                                                                                                                                                                                                                                                                                                                                                                                                                                                                                                                                                                                                                                                                                                                                                                                                                                                                                                                                                                                                                                                                                                                                                                                                                                                                                                                                                                                                                                                                                                                                                                                                                                                                                                                                                                                                                                                                                                                                                                                                                                                                                                                                                                                                                                                                                                                                                                                                                                                                                                                                                                                                                                                                                                                                                                                                                                                                                                                                                                                                                                                                                                                                                                                                                                                                                                                                                                                                                                                                                                                                                                                                                                                                                                                                                                                                                                                                                                                                             About the job\\n        \\n \\n\\n\\n\\n      This job is sourced from a job board.\\n      Learn more\\n\\n\\n \\n                Standort: Mülheim an der Ruhr\\nWer sind Wir?\\nDie Charisma-Tec GmbH ist ein spezialisiertes Personalberatungsunternehmen für die Transport- und Logistikindustrie. Wir verbinden die besten Talente und Industrie Professionals mit spannenden und innovativen Unternehmen weltweit.\\nUnser namhafter Kunde ist einer der führenden und innovativsten Retailer. Für diesen suchen wir ab sofort einen Data Analyst (m/w/d).\\nIhre Aufgaben\\n Entwicklung und Durchführung spannender Analysen zum Beispiel zum Kundenverhalten, dem Marketing und dem Supply Chain  agile Entwicklung von Reports und Dashboards in cross-funktionalen Teams aus Data Scientists, Data Engineers, Data Analysts und Stakeholdern aus den Fachbereichen  Bearbeitung von komplexen Ad-hoc-Anfragen, Visualisierung der Ergebnisse, sowie die Erstellung von Handlungsempfehlungen  Enge Zusammenarbeit mit verschiedenen Fachbereichen  Unterstützung des operativen Tagesgeschäfts mit Daten, Analysen und Insights \\nIhr Profil\\n Abgeschlossenes Studium der Statistik, (Wirtschafts-) Mathematik, (Wirtschafts-) Informatik, Wirtschaftswissenschaften, Naturwissenschaften oder eine vergleichbare Berufsausbildung bzw. Qualifikation  Fortgeschrittene Kenntnisse in SQL und Excel  Berufserfahrung in der Aufbereitung, Analyse und Präsentation von Daten  Erste Erfahrung mit BI Tools  Programmierkenntnisse in Python wünschenswert  Sehr gute Deutsch- und Englischkenntnisse  Pragmatische Hands-on-Mentalität und ausgeprägter operativer Fokus  Teamfähigkeit \\nUnsere Kontaktdaten\\nCharisma-Tec GmbH\\nSabine Potrykus\\nRethelstraße 38\\n40237 Düsseldorf\\nE-Mail: karriere.ct@charisma-tec.de\\nTel: 0211-170905-00\\nWeb: www.charisma-tec.de   \n",
              "638                                                                                                                                                                                                                                                                                                                                                                                                                                                                                                                                                                                                                                                                                                                                                                                                                                                                                                                                                                                                                                                                                                                                                                                                                                                                                                                                                                                                                                                                                                                                                                                                                                                                                                                                                                                                                                                                                                                                                                                                                                                                                                                                                                                                                                                                                                                                                                                                                                                                                                                                                                                                                                                                                                                                                                                                                                                                                                                                                                                                                                                                                                                                                                                                                                                                                                                                                                                                                                                                                                                                                                                                                                                                                                                                                                                                                                                                                                                                                                                                                About the job\\n        \\n \\n\\n\\n\\n      This job is sourced from a job board.\\n      Learn more\\n\\n\\n \\nVuoi un mini spoiler su CPM?\\n\\nCi prendiamo cura dei maggiori brand mondiali da oltre 80 anni attraverso diverse attività, dal merchandising alle vendite, dalla consumer activation al supporto clienti fino alla formazione sul prodotto. Questa è CPM, una realtà internazionale forte e dinamica, come le persone che ne fanno parte. Per te, rappresenta la grande opportunità di entrare a far parte di una solida multinazionale dove formarti e sviluppare la tua carriera in un settore in crescita e in un ambiente giovane, innovativo e super stimolante. Un’esperienza che ti metterà a contatto con i brand e le aziende più importanti in Italia.\\n\\nCandidati e… magari ci vediamo a bordo!\\n\\nTi offriamo di diventare il guru dei nostri dati.\\n\\nPer te abbiamo una posizione come Data Analyst in un settore, il field marketing, dove la tua competenza può davvero fare la differenza.\\n\\nPotrai mettere in luce le tue capacità di analisi e interpretazione del dato al servizio di tanti brand diversi. Annoiarsi? Impossibile. Lavorerai nella nostra sede di Milano in spazi di nuova generazione e potrai operare anche da casa e ovunque grazie alle nuove politiche di smart working. Perché in CPM Italy siamo convinti che i tuoi risultati passino anche attraverso la qualità della tua vita.\\n\\nOk, ma cosa farai di preciso?\\n\\nIl tuo ruolo riguarda l’analisi e la presentazione dei dati riguardanti la vendita, il posizionamento e la valutazione di campagne promo e di comunicazione in store dei brand delle nostre aziende clienti. Come?\\nrealizzando report su misura;utilizzando indicatori chiave di performance (KPI);sviluppando e gestendo un avanzato sistema di business intelligence e dashboard online;collaborando con i colleghi del team.\\nSei tu la persona giusta?\\n\\nPer entrare nel nostro reparto di Data Analyst è richiesta un’esperienza di almeno 1 anno in questo ruolo. Essere positivi, proattivi e precisi è un ottimo requisito ma i veri must sono la passione per i numeri e la voglia di partecipare sempre a nuove sfide.\\n\\nIn più è fantastico se…\\nti piace trasformare dati in informazioni;excel è il tuo pane quotidiano;ti entusiasma lavorare in team;sei flessibile sia come orari che di mentalità!\\nAi sensi della legge 12 Marzo 1999 n.68, Inventa CPM promuove l'inserimento e l'integrazione delle persone disabili nel mondo del lavoro, per questo motivo verranno tenute in particolare considerazione le candidature di tutti i soggetti indicati al comma 1 art.1 della succitata legge.   \n",
              "425  About the job\\n        \\n\\n \\nAbout Agoda\\nAgoda is an online travel booking platform for accommodations, flights, and more. We build and deploy cutting-edge technology that connects travelers with more than 2.5 million accommodations globally. Based in Asia and part of Booking Holdings, our 6,000+ employees representing 90+ nationalities foster a work environment rich in diversity, creativity, and collaboration. We innovate through a culture of experimentation and ownership, enhancing the ability for our customers to experience the world.\\nGet to know our team: \\nThe Performance Marketing Team of Agoda is a world leader in online marketing. This department is highly data-driven and focused on developing at-scale marketing programs that improve the lifetime value of Agoda customers through measurable marketing programs and channels. The team is a blend of the best analysts, marketing strategists, and data scientists in the world. The marketing leadership at Agoda has deep experience in data science, product, strategy, and other marketing fields and has built an organization that thrives on data, creative ideas, and technology. The Performance Marketing Team also fosters a great learning environment. You will be able to learn and grow by working closely with experts from a variety of backgrounds from all over the world.\\nDue to continued expansion, there are multiple analyst roles within the marketing team across different marketing channels. While the scope will vary depending on these channels, here are some examples:\\n Experimentation and optimizing campaign performance: Experiment with ads/campaign structures and bidding& pricing strategies on partners such as Google, Bing, TripAdvisor, Trivago, and other search engines. Adapt to new product features and roll out changes from successful tests.  Modeling: Analyze vast amounts of data generated by experiments, develop predictive models using data science techniques (e.g. understanding the impact on bookings from large-scale TV campaigns or demand elasticity from pricing optimization), and liaise with product teams on an implementation roadmap  Reporting, analysis, and insights: Building dashboards to track performance, derive insights, understand growth levers, and communicate recommendations via presentations to stakeholders \\nWhat you’ll Need to Succeed: \\n Bachelor’s degree or higher from top university in a quantitative subject e.g. computer science, mathematics, engineering business, science, or relevant field of study  4+ years experience in data crunching from top-tier consulting, investment banking, private equity or strategy/business role for a fast-growing global tech company  Experience in one or more data analysis packages or databases, e.g. SQL, SAS, R, SPSS, Python, VBA and visualization tools, e.g. Tableau, Power BI, etc.  Excellent verbal and written communication skills in English  Ability to move fast and be efficient, making decisions on objective data evidence  Innate desire to take ownership, make an impact and influence outcomes  Excellent organizational skills, attention to detail and ability to work independently \\nIt’s great if you have: \\n Experience in digital marketing or e-commerce  Experience with A/B testing and other testing metrics  Strong presentation and negotiation skills   #STRA#ANLS#MRKT#3 #sanfrancisco #sanjose #losangeles #sandiego #oakland #denver #miami #orlando #atlanta #chicago #boston #detroit #newyork #portland #philadelphia #dallas #houston #austin #seattle #washdc #tirana #yerevan #sydney #melbourne #perth #vienna #graz #linz #baku #minsk #brussels #antwerp #ghent #charleroi #liege #saopaolo #sofia #toronto #vancouver #montreal #shanghai #beijing #shenzhen #zagreb #cyprus #prague #Brno #Ostrava #copenhagen #cairo #alexandria #giza #estonia #helsinki #paris #nice #marseille #rouen #lyon #toulouse #tbilisi #berlin #munich #hamburg #stuttgart #cologne #frankfurt #dusseldorf #dortmund #essen #Bremen #leipzig #dresden #hanover #nuremberg #athens #hongkong #budapest #bangalore #newdelhi #jakarta #bali #bandung #dublin #telaviv #milan #rome #naples #turin #palermo #venice #bologna #florence #tokyo #osaka #yokohama #nagoya #okinawa #fukuoka #sapporo #amman #irbid #riga #beirut #tripoli #vilnius #luxembourg #kualalumpur #malta #chisinau #amsterdam #oslo #jerusalem #manila #warsaw #krakow #sintra #lisbon #porto #braga #cascais #loures #amadora #almada #doha #alrayyan #bucharest #moscow #saintpetersburg #riyadh #jeddah #mecca #medina #belgrade #singapore #bratislava #capetown #johannesburg #seoul #barcelona #madrid #valencia #seville #bilbao #malaga #oviedo #alicante #laspalmas #zaragozbanga #stockholm #zurich #geneva #basel #taipei #tainan #taichung #kaohsiung #Phuket #bangkok #istanbul #ankara #izmir #dubai #abudhabi #sharjah #london #manchester #liverpool #edinburgh #kiev #hcmc #hanoi #sanaa #taiz #aden #gibraltar #marrakech #lodz #wroclaw #poznan #Gdansk #szczecin #bydgoszcz #lublin #katowice #rio #salvador #fortaleza #brasilia #belo #belem #manaus #curitiba #portoalegre #saoluis data representation data analysis SQL data analytics analytics python (programming language) data mining data science r (programming language) tableau analytical skills data visualization databases business analysis business intelligence (bi) microsoft sql server machine learning statistics power bi \\nEqual Opportunity Employer \\nAt Agoda, we pride ourselves on being a company represented by people of all different backgrounds and orientations. We prioritize attracting diverse talent and cultivating an inclusive environment that encourages collaboration and innovation. Employment at Agoda is based solely on a person’s merit and qualifications. We are committed to providing equal employment opportunity regardless of sex, age, race, color, national origin, religion, marital status, pregnancy, sexual orientation, gender identity, disability, citizenship, veteran or military status, and other legally protected characteristics.\\nWe will keep your application on file so that we can consider you for future vacancies and you can always ask to have your details removed from the file. For more details please read our privacy policy .\\nTo all recruitment agencies: Agoda does not accept third party resumes. Please do not send resumes to our jobs alias, Agoda employees or any other organization location. Agoda is not responsible for any fees related to unsolicited resumes.   \n",
              "\n",
              "                                                                  base_skills  \\\n",
              "298                                   Skills: Панель управления, SQL, +8 more   \n",
              "638   Skills: Аналитические навыки, Ключевые показатели деятельности, +8 more   \n",
              "425  Skills: A/B тестирование, Инвестиционно-банковская деятельность, +8 more   \n",
              "\n",
              "    time_from_public     candidates  \n",
              "298       5 days ago  21 applicants  \n",
              "638      2 weeks ago        no info  \n",
              "425       4 days ago        no info  "
            ]
          },
          "execution_count": 46,
          "metadata": {},
          "output_type": "execute_result"
        }
      ],
      "source": [
        "df.sample(3)"
      ]
    },
    {
      "cell_type": "markdown",
      "id": "cb3159f4",
      "metadata": {
        "id": "cb3159f4"
      },
      "source": [
        "### **Извлечение города и страны**"
      ]
    },
    {
      "cell_type": "code",
      "execution_count": null,
      "id": "bdf7b930",
      "metadata": {
        "id": "bdf7b930",
        "outputId": "5bbb916e-3340-4368-e6c3-49ce16e9736e"
      },
      "outputs": [
        {
          "data": {
            "text/plain": [
              "array(['Basel, Basel, Switzerland', 'Coventry, England, United Kingdom',\n",
              "       'South Molton, England, United Kingdom',\n",
              "       'Lugano, Ticino, Switzerland',\n",
              "       'Southampton, England, United Kingdom',\n",
              "       'Leeds, England, United Kingdom',\n",
              "       'Nuneaton, England, United Kingdom',\n",
              "       'Paris, Île-de-France, France',\n",
              "       'Cambridge, England, United Kingdom',\n",
              "       'West Midlands, England, United Kingdom',\n",
              "       'Schiphol, North Holland, Netherlands',\n",
              "       'Chester, England, United Kingdom',\n",
              "       'Craven Arms, England, United Kingdom',\n",
              "       'Dublin, County Dublin, Ireland',\n",
              "       'Belfast, Northern Ireland, United Kingdom',\n",
              "       'Sunderland, England, United Kingdom',\n",
              "       'Montévrain, Île-de-France, France',\n",
              "       'Bristol, England, United Kingdom',\n",
              "       'Solihull, England, United Kingdom',\n",
              "       'Blackpool, England, United Kingdom',\n",
              "       'Dijon, Bourgogne-Franche-Comté, France',\n",
              "       'Manchester, England, United Kingdom',\n",
              "       'Elliniko-Argyroupoli, Attiki, Greece',\n",
              "       'Umeå, Västerbotten, Sweden', 'North Holland, Netherlands',\n",
              "       'Vilnius, Vilniaus, Lithuania', 'Durham, England, United Kingdom',\n",
              "       'Oudenaarde, Flemish Region, Belgium', 'Stockholm County, Sweden',\n",
              "       'Luxembourg, Luxembourg', 'Roubaix, Hauts-de-France, France',\n",
              "       'Munich, Bavaria, Germany', 'Milan, Lombardy, Italy',\n",
              "       'Zaventem, Flemish Region, Belgium', 'Brussels Metropolitan Area',\n",
              "       'West Malling, England, United Kingdom',\n",
              "       'Greater Paris Metropolitan Region', 'France',\n",
              "       'Lille, Hauts-de-France, France', 'Egham, England, United Kingdom',\n",
              "       'Karlstad, Varmland County, Sweden',\n",
              "       'Madrid, Community of Madrid, Spain',\n",
              "       'Oxford, England, United Kingdom', 'Hungary',\n",
              "       'Brussels, Brussels Region, Belgium', 'Taibon, Veneto, Italy',\n",
              "       'Epsom, England, United Kingdom',\n",
              "       'Amsterdam, North Holland, Netherlands', 'Spinea, Veneto, Italy',\n",
              "       'Brindisi, Apulia, Italy',\n",
              "       'Boulogne-Billancourt, Île-de-France, France',\n",
              "       'Nantes, Pays de la Loire, France',\n",
              "       'Derby, England, United Kingdom', 'Lund, Skåne County, Sweden',\n",
              "       'Garwolin, Mazowieckie, Poland',\n",
              "       'Stockholm, Stockholm County, Sweden',\n",
              "       'Massy, Île-de-France, France', 'Prague, Prague, Czechia',\n",
              "       'Cracow, Małopolskie, Poland',\n",
              "       'Middlesbrough, England, United Kingdom',\n",
              "       'Viladecans, Catalonia, Spain', 'Barcelona, Catalonia, Spain',\n",
              "       'Eindhoven, North Brabant, Netherlands',\n",
              "       'Warsaw, Mazowieckie, Poland', 'Budapest, Hungary',\n",
              "       'London, England, United Kingdom', 'Wroclaw Metropolitan Area',\n",
              "       'Amersfoort, Utrecht, Netherlands', 'Hamburg, Germany', 'Poland',\n",
              "       'Chappes, Auvergne-Rhône-Alpes, France',\n",
              "       'Sintra, Lisbon, Portugal', 'Riga, Riga, Latvia',\n",
              "       'Coimbra, Coimbra, Portugal', 'Tartu, Tartumaa, Estonia',\n",
              "       'Île-de-France, France',\n",
              "       'Issy-les-Moulineaux, Île-de-France, France',\n",
              "       'Hawthorn, England, United Kingdom',\n",
              "       'Greater Barcelona Metropolitan Area',\n",
              "       'Lyon, Auvergne-Rhône-Alpes, France', 'Valletta, Malta',\n",
              "       'Stuttgart, Baden-Württemberg, Germany',\n",
              "       'Galway, County Galway, Ireland', 'Olèrdola, Catalonia, Spain',\n",
              "       'Neuilly-sur-Seine, Île-de-France, France',\n",
              "       'Wasserburg (Bodensee), Bavaria, Germany',\n",
              "       'Gdynia, Pomorskie, Poland',\n",
              "       'Bordeaux, Nouvelle-Aquitaine, France', 'Rouen, Normandy, France',\n",
              "       'Mechelen, Flemish Region, Belgium',\n",
              "       'Milton Keynes, England, United Kingdom',\n",
              "       'Vienna, Vienna, Austria',\n",
              "       'Newcastle upon Tyne, England, United Kingdom',\n",
              "       'Cerdanyola del Vallès, Catalonia, Spain',\n",
              "       'Naples, Campania, Italy', 'Baierbrunn, Bavaria, Germany',\n",
              "       'Lindau, Bavaria, Germany',\n",
              "       'Bergen op Zoom, North Brabant, Netherlands',\n",
              "       'Gdańsk, Pomorskie, Poland',\n",
              "       'Bodelshausen, Baden-Württemberg, Germany',\n",
              "       'Marlow, England, United Kingdom', 'Brussels Region, Belgium',\n",
              "       'La Défense, Île-de-France, France', 'Riga, Latvia',\n",
              "       'Berlin, Berlin, Germany', 'Ghent, Flemish Region, Belgium',\n",
              "       'Berlin, Germany', 'Cologne, North Rhine-Westphalia, Germany',\n",
              "       'Tessenderlo, Flemish Region, Belgium',\n",
              "       'St.-Ouen, Île-de-France, France',\n",
              "       'Buckinghamshire, England, United Kingdom',\n",
              "       'Bologna, Emilia-Romagna, Italy', 'Bath, England, United Kingdom',\n",
              "       'Dresden, Saxony, Germany', 'Cologne Bonn Region',\n",
              "       'Wiesbaden, Hesse, Germany', 'Greater Munster Area',\n",
              "       'Utrecht, Utrecht, Netherlands',\n",
              "       'Mülheim an der Ruhr, North Rhine-Westphalia, Germany',\n",
              "       'Zwaagdijk-Oost, North Holland, Netherlands',\n",
              "       'Heerlen, Limburg, Netherlands',\n",
              "       'Hatfield, England, United Kingdom',\n",
              "       'Harlestone, England, United Kingdom',\n",
              "       'Greater Banska Bystrica Area',\n",
              "       'Greater Nuremberg Metropolitan Area',\n",
              "       'Szczecin, Zachodniopomorskie, Poland',\n",
              "       'Villes, Auvergne-Rhône-Alpes, France',\n",
              "       'Doncaster, England, United Kingdom', 'Hamburg, Hamburg, Germany',\n",
              "       'County Dublin, Ireland', 'Berlin Metropolitan Area',\n",
              "       'Villeneuve-d’Ascq, Hauts-de-France, France',\n",
              "       'Toulouse, Occitanie, France', 'Meudon, Île-de-France, France',\n",
              "       'Rotterdam, South Holland, Netherlands',\n",
              "       'Levallois-Perret, Île-de-France, France', 'Germany',\n",
              "       'Schwäbisch Gmünd, Baden-Württemberg, Germany',\n",
              "       'Neckarsulm, Baden-Württemberg, Germany',\n",
              "       'Düsseldorf, North Rhine-Westphalia, Germany',\n",
              "       'Gillingham, England, United Kingdom',\n",
              "       'Bucharest, Bucharest, Romania', 'Emmen, Drenthe, Netherlands',\n",
              "       'Hoofddorp, North Holland, Netherlands',\n",
              "       'West Flanders, Flemish Region, Belgium',\n",
              "       'Hasselt, Flemish Region, Belgium', 'Oslo, Oslo, Norway',\n",
              "       'Worksop, England, United Kingdom',\n",
              "       'Bergisch Gladbach, North Rhine-Westphalia, Germany',\n",
              "       'Nanterre, Île-de-France, France', 'Athens, Attiki, Greece',\n",
              "       'Frankfurt, Hesse, Germany',\n",
              "       'Mannheim, Baden-Württemberg, Germany', 'Rotterdam and The Hague',\n",
              "       'Łódź, Łódzkie, Poland', 'Prague, Czechia',\n",
              "       'Iráklion, Crete, Greece', \"Vaprio d'Adda, Lombardy, Italy\",\n",
              "       'Gloucestershire, England, United Kingdom', 'Denmark',\n",
              "       'Frankfurt am Main, Hesse, Germany',\n",
              "       'Ahlen, North Rhine-Westphalia, Germany',\n",
              "       'Sofia, Sofia City, Bulgaria', 'Cesate, Lombardy, Italy',\n",
              "       'Binasco, Lombardy, Italy', 'Bellinzago Lombardo, Lombardy, Italy',\n",
              "       'Lisbon, Lisbon, Portugal',\n",
              "       'Cernusco sul Naviglio, Lombardy, Italy',\n",
              "       'Manchester Area, United Kingdom', 'Colturano, Lombardy, Italy',\n",
              "       'Truccazzano, Lombardy, Italy', 'Inzago, Lombardy, Italy',\n",
              "       'Pistoia, Tuscany, Italy', 'Leipzig, Saxony, Germany',\n",
              "       'Canegrate, Lombardy, Italy', 'Greater Pau Area',\n",
              "       'San Zenone al Lambro, Lombardy, Italy',\n",
              "       \"Cassina de' Pecchi, Lombardy, Italy\", 'Monaco, Monaco, Monaco',\n",
              "       'Höchberg, Bavaria, Germany', 'Palermo, Sicily, Italy',\n",
              "       'Treviso, Veneto, Italy',\n",
              "       'Thessaloniki, Central Macedonia, Greece', 'Rome, Latium, Italy',\n",
              "       'Courbevoie, Île-de-France, France', 'Arluno, Lombardy, Italy',\n",
              "       'Hereford, England, United Kingdom', 'Pioltello, Lombardy, Italy',\n",
              "       'Vittuone, Lombardy, Italy', 'Rethymno, Crete, Greece',\n",
              "       'Vila Nova de Cerveira, Viana do Castelo, Portugal',\n",
              "       'Hertfordshire, England, United Kingdom',\n",
              "       'Wrocław, Dolnośląskie, Poland', 'Senago, Lombardy, Italy',\n",
              "       'Cusano Milanino, Lombardy, Italy', 'Dresano, Lombardy, Italy',\n",
              "       'Douai, Hauts-de-France, France', 'Flemish Region, Belgium',\n",
              "       'Calvignasco, Lombardy, Italy', 'Ronda, Andalusia, Spain',\n",
              "       'Gessate, Lombardy, Italy', 'Vanzago, Lombardy, Italy',\n",
              "       'Sesto San Giovanni, Lombardy, Italy',\n",
              "       'Cornaredo, Lombardy, Italy', 'Lucerne, Lucerne, Switzerland',\n",
              "       'Poissy, Île-de-France, France', 'Frosinone, Latium, Italy',\n",
              "       'San Donato Milanese, Lombardy, Italy',\n",
              "       'Suresnes, Île-de-France, France',\n",
              "       'Laudio / Llodio, Basque Country, Spain',\n",
              "       'Lacchiarella, Lombardy, Italy', 'Sparta, Peloponnese, Greece',\n",
              "       'Corsico, Lombardy, Italy', 'Chaucer, England, United Kingdom',\n",
              "       'Heidelberg, Baden-Württemberg, Germany',\n",
              "       'Cusago, Lombardy, Italy', 'Bremen, Germany',\n",
              "       'Budapest, Budapest, Hungary',\n",
              "       'Edinburgh, Scotland, United Kingdom', 'Netherlands',\n",
              "       'Bertrange, Luxembourg, Luxembourg',\n",
              "       'Arnhem, Gelderland, Netherlands',\n",
              "       \"Aix-en-Provence, Provence-Alpes-Côte d'Azur, France\",\n",
              "       'Gießen, Hesse, Germany', 'Debrecen, Hajdú-Bihar, Hungary',\n",
              "       'Eindhoven Area', 'Grünheide, Brandenburg, Germany',\n",
              "       'Leiden, South Holland, Netherlands',\n",
              "       'Boadilla del Monte, Community of Madrid, Spain',\n",
              "       'Bracknell, England, United Kingdom',\n",
              "       'Venlo, Limburg, Netherlands',\n",
              "       'Münster, North Rhine-Westphalia, Germany',\n",
              "       'Orosháza, Békés, Hungary', 'Osnabrück, Lower Saxony, Germany',\n",
              "       'Vitry-sur-Seine, Île-de-France, France',\n",
              "       'Mönchengladbach, North Rhine-Westphalia, Germany',\n",
              "       'Carpiano, Lombardy, Italy', 'Rosate, Lombardy, Italy',\n",
              "       'Gaydon, England, United Kingdom',\n",
              "       'Liège, Walloon Region, Belgium', 'Jonkoping County, Sweden',\n",
              "       'Croix, Hauts-de-France, France', 'Luleå, Norrbotten, Sweden',\n",
              "       'Helsingborg, Skåne County, Sweden',\n",
              "       'Fontenay-sous-Bois, Île-de-France, France',\n",
              "       'Bollate, Lombardy, Italy', 'Krakow Metropolitan Area', 'Bulgaria',\n",
              "       'San Colombano al Lambro, Lombardy, Italy',\n",
              "       'Basingstoke, England, United Kingdom',\n",
              "       'Sundbyberg, Stockholm County, Sweden',\n",
              "       'Arconate, Lombardy, Italy', 'Trezzano Rosa, Lombardy, Italy',\n",
              "       'Porto, Porto, Portugal', 'Novate Milanese, Lombardy, Italy',\n",
              "       'Moravia-Silesia, Czechia', \"Cassano d'Adda, Lombardy, Italy\",\n",
              "       'Puteaux, Île-de-France, France', 'Rozzano, Lombardy, Italy',\n",
              "       'Lisboa, Lisbon, Portugal', 'Sedriano, Lombardy, Italy',\n",
              "       'Vanzaghello, Lombardy, Italy',\n",
              "       \"Trezzo sull'Adda, Lombardy, Italy\",\n",
              "       'Marcallo con Casone, Lombardy, Italy',\n",
              "       'Vermezzo, Lombardy, Italy'], dtype=object)"
            ]
          },
          "execution_count": 47,
          "metadata": {},
          "output_type": "execute_result"
        }
      ],
      "source": [
        "df['adress'].unique()"
      ]
    },
    {
      "cell_type": "markdown",
      "id": "79afacef",
      "metadata": {
        "id": "79afacef"
      },
      "source": [
        "В адресах компаний видим, что есть группы из трех частей адреса: города, региона и страны, из двух и только из одного . Посмотрим, сколько разных вариантов есть."
      ]
    },
    {
      "cell_type": "code",
      "execution_count": null,
      "id": "404fa7be",
      "metadata": {
        "id": "404fa7be"
      },
      "outputs": [],
      "source": [
        "df['adr_len'] = df['adress'].apply(lambda x: len(x.split(',')))"
      ]
    },
    {
      "cell_type": "code",
      "execution_count": null,
      "id": "1e824680",
      "metadata": {
        "scrolled": true,
        "id": "1e824680",
        "outputId": "cd44fefa-957d-4166-84ad-22c66ea1f456"
      },
      "outputs": [
        {
          "data": {
            "text/plain": [
              "3    424\n",
              "1     56\n",
              "2     40\n",
              "Name: adr_len, dtype: int64"
            ]
          },
          "execution_count": 49,
          "metadata": {},
          "output_type": "execute_result"
        }
      ],
      "source": [
        "df['adr_len'].value_counts()"
      ]
    },
    {
      "cell_type": "markdown",
      "id": "fd24cd7e",
      "metadata": {
        "id": "fd24cd7e"
      },
      "source": [
        "Так как полностью заполненных данных большинство, и заполнить недостающие данные не представляется возможным, дальше будем действовать следующим образом: первая часть адреса будет городом, последняя - страной. У части вакансий эти город и страна будут совпадать."
      ]
    },
    {
      "cell_type": "code",
      "execution_count": null,
      "id": "60359dc1",
      "metadata": {
        "id": "60359dc1"
      },
      "outputs": [],
      "source": [
        "df['city'] = df['adress'].apply(lambda x: x.split(',')[0].strip())\n",
        "df['country'] = df['adress'].apply(lambda x: x.split(',')[-1].strip())"
      ]
    },
    {
      "cell_type": "code",
      "execution_count": null,
      "id": "66e43b92",
      "metadata": {
        "id": "66e43b92",
        "outputId": "4a151aca-5d3e-4aac-ec74-ab4116512143"
      },
      "outputs": [
        {
          "data": {
            "text/plain": [
              "array(['Switzerland', 'United Kingdom', 'France', 'Netherlands',\n",
              "       'Ireland', 'Greece', 'Sweden', 'Lithuania', 'Belgium',\n",
              "       'Luxembourg', 'Germany', 'Italy', 'Brussels Metropolitan Area',\n",
              "       'Greater Paris Metropolitan Region', 'Spain', 'Hungary', 'Poland',\n",
              "       'Czechia', 'Wroclaw Metropolitan Area', 'Portugal', 'Latvia',\n",
              "       'Estonia', 'Greater Barcelona Metropolitan Area', 'Malta',\n",
              "       'Austria', 'Cologne Bonn Region', 'Greater Munster Area',\n",
              "       'Greater Banska Bystrica Area',\n",
              "       'Greater Nuremberg Metropolitan Area', 'Berlin Metropolitan Area',\n",
              "       'Romania', 'Norway', 'Rotterdam and The Hague', 'Denmark',\n",
              "       'Bulgaria', 'Greater Pau Area', 'Monaco', 'Eindhoven Area',\n",
              "       'Krakow Metropolitan Area'], dtype=object)"
            ]
          },
          "execution_count": 51,
          "metadata": {},
          "output_type": "execute_result"
        }
      ],
      "source": [
        "df['country'].unique()"
      ]
    },
    {
      "cell_type": "markdown",
      "source": [
        " **$\\color{blue}{\\text{КОММЕНТАРИЙ}}$**\n",
        "\n",
        "Великолепно что ты вытащил страну Но здесь необходима небольшая обработка столбца - некоторые значения у нас не страны - например 'Brussels Metropolitan Area' и тд Работодатель не затруднился написать страну и сразу указал регио - бывает и такое"
      ],
      "metadata": {
        "id": "a6P2D7PCXCZx"
      },
      "id": "a6P2D7PCXCZx"
    },
    {
      "cell_type": "markdown",
      "source": [
        " **$\\color{blue}{\\text{КОММЕНТАРИЙ}}$**\n",
        "\n",
        "Будет здорово если ты также проверишь корректность значений для городов"
      ],
      "metadata": {
        "id": "yzsFCIE_Xdea"
      },
      "id": "yzsFCIE_Xdea"
    },
    {
      "cell_type": "markdown",
      "id": "206bc93f",
      "metadata": {
        "id": "206bc93f"
      },
      "source": [
        "### **Извлечение даты публикации вакансии**"
      ]
    },
    {
      "cell_type": "code",
      "execution_count": null,
      "id": "0c665623",
      "metadata": {
        "id": "0c665623",
        "outputId": "43af9c2d-7103-4824-d7d4-73c5f4a0a77a"
      },
      "outputs": [
        {
          "data": {
            "text/plain": [
              "1 week ago        172\n",
              "2 weeks ago       141\n",
              "3 weeks ago        47\n",
              "4 days ago         46\n",
              "4 weeks ago        30\n",
              "5 days ago         26\n",
              "6 days ago         17\n",
              "3 days ago         16\n",
              "1 day ago          14\n",
              "2 days ago          5\n",
              "6 hours ago         3\n",
              "9 hours ago         2\n",
              "12 minutes ago      1\n",
              "Name: time_from_public, dtype: int64"
            ]
          },
          "execution_count": 52,
          "metadata": {},
          "output_type": "execute_result"
        }
      ],
      "source": [
        "df['time_from_public'].value_counts()"
      ]
    },
    {
      "cell_type": "code",
      "execution_count": null,
      "id": "983ea0dc",
      "metadata": {
        "id": "983ea0dc"
      },
      "outputs": [],
      "source": [
        "df['time_from_public'] = df['time_from_public'].replace('1 week ago', 7)\n",
        "df['time_from_public'] = df['time_from_public'].replace('2 weeks ago', 14)\n",
        "df['time_from_public'] = df['time_from_public'].replace('3 weeks ago', 21)\n",
        "df['time_from_public'] = df['time_from_public'].replace('4 days ago', 4)\n",
        "df['time_from_public'] = df['time_from_public'].replace('4 weeks ago', 28)\n",
        "df['time_from_public'] = df['time_from_public'].replace('5 days ago', 5)\n",
        "df['time_from_public'] = df['time_from_public'].replace('6 days ago', 6)\n",
        "df['time_from_public'] = df['time_from_public'].replace('3 days ago', 3)\n",
        "df['time_from_public'] = df['time_from_public'].replace('1 day ago', 1)\n",
        "df['time_from_public'] = df['time_from_public'].replace('2 days ago', 2)\n",
        "df['time_from_public'] = df['time_from_public'].replace('6 hours ago', 0)                                                        \n",
        "df['time_from_public'] = df['time_from_public'].replace('9 hours ago', 0)\n",
        "df['time_from_public'] = df['time_from_public'].replace('12 minutes ago', 0)"
      ]
    },
    {
      "cell_type": "markdown",
      "source": [
        " **$\\color{blue}{\\text{КОММЕНТАРИЙ}}$**\n",
        "\n",
        "Ну ок Хотя здесь лучше сплитнуть значение столбца взять первый жлемент списка, потом проверить что у нас в троку входит - недели, часы или дни и так рассчитывать интервал"
      ],
      "metadata": {
        "id": "WSEO0HjGXnQv"
      },
      "id": "WSEO0HjGXnQv"
    },
    {
      "cell_type": "markdown",
      "source": [
        " **$\\color{blue}{\\text{КОММЕНТАРИЙ}}$**\n",
        "\n",
        "Дата парсинга - 23 мая 2023 года Пожалуйста вычти из нее интервал который ты нашел чтобы получить дату публикации вакансии в привычном нам формате"
      ],
      "metadata": {
        "id": "nJN0cXe2X4Q-"
      },
      "id": "nJN0cXe2X4Q-"
    },
    {
      "cell_type": "code",
      "execution_count": null,
      "id": "d9cd619b",
      "metadata": {
        "id": "d9cd619b"
      },
      "outputs": [],
      "source": [
        "df = df.rename(columns = {'time_from_public': 'published_days_ago'})"
      ]
    },
    {
      "cell_type": "markdown",
      "id": "add6ac69",
      "metadata": {
        "id": "add6ac69"
      },
      "source": [
        "### **Количество кандидатов на вакансию**"
      ]
    },
    {
      "cell_type": "code",
      "execution_count": null,
      "id": "f4b23276",
      "metadata": {
        "scrolled": true,
        "id": "f4b23276",
        "outputId": "05984f42-c509-4d7d-f434-af9c4aab232d"
      },
      "outputs": [
        {
          "data": {
            "text/plain": [
              "no info           100\n",
              "25 applicants      26\n",
              "47 applicants      22\n",
              "33 applicants      21\n",
              "49 applicants      20\n",
              "                 ... \n",
              "87 applicants       1\n",
              "143 applicants      1\n",
              "35 applicants       1\n",
              "59 applicants       1\n",
              "178 applicants      1\n",
              "Name: candidates, Length: 140, dtype: int64"
            ]
          },
          "execution_count": 55,
          "metadata": {},
          "output_type": "execute_result"
        }
      ],
      "source": [
        "df['candidates'].value_counts()"
      ]
    },
    {
      "cell_type": "code",
      "execution_count": null,
      "id": "a8015bc1",
      "metadata": {
        "id": "a8015bc1"
      },
      "outputs": [],
      "source": [
        "def extract_number(string):\n",
        "    # Используем регулярное выражение для поиска числа в строке\n",
        "    match = re.search(r'\\d+', string)\n",
        "    \n",
        "    if match:\n",
        "        number = int(match.group())  # Преобразуем найденное число в целочисленный формат\n",
        "        return number\n",
        "    \n",
        "    return None  # Возвращаем None, если число не найдено"
      ]
    },
    {
      "cell_type": "code",
      "execution_count": null,
      "id": "f8864b8f",
      "metadata": {
        "id": "f8864b8f"
      },
      "outputs": [],
      "source": [
        "# оставим в колонке только цифры\n",
        "df['q_candidates'] = df['candidates'].apply(extract_number)"
      ]
    },
    {
      "cell_type": "markdown",
      "source": [
        " **$\\color{blue}{\\text{КОММЕНТАРИЙ}}$**\n",
        "\n",
        "Здорово"
      ],
      "metadata": {
        "id": "VNIrI-8WYFIq"
      },
      "id": "VNIrI-8WYFIq"
    },
    {
      "cell_type": "markdown",
      "id": "fd25fc05",
      "metadata": {
        "id": "fd25fc05"
      },
      "source": [
        "### **Формирование списка hard skills**"
      ]
    },
    {
      "cell_type": "markdown",
      "id": "f5c982fa",
      "metadata": {
        "id": "f5c982fa"
      },
      "source": [
        "Для формирования в столбце списка хард скиллз необходимо каждый элемент описания вакансии проверить на вхождение в уже готовый список всех скиллов, и если в описании вакансии есть этот скилл - добавляем его в список."
      ]
    },
    {
      "cell_type": "code",
      "execution_count": null,
      "id": "d6932541",
      "metadata": {
        "id": "d6932541"
      },
      "outputs": [],
      "source": [
        "# список возможных hard skills\n",
        "skills = [\n",
        "    'a/b testing', 'ab testing', 'actian', 'adobe analytics', 'adobe audience manager',\n",
        "    'adobe experience platform', 'adobe launch', 'adobe target', 'ai', 'airflow',\n",
        "    'alooma', 'alteryx', 'amazon machine learning', 'amazon web services', 'aml',\n",
        "    'amplitude', 'ansible', 'apache camel', 'apache nifi', 'apache spark',\n",
        "    'api', 'asana', 'auth0', 'aws', 'aws glue', 'azure', 'azure data factory',\n",
        "    'basecamp', 'bash', 'beats', 'big query', 'bigquery', 'birst', 'bitbucket',\n",
        "    'blendo', 'bootstrap', 'business objects bi', 'c#', 'c++', 'caffe', 'cassandra',\n",
        "    'cdata sync', 'chronograf', 'ci/cd', 'cicd', 'clickhouse', 'cloudera', 'cluvio',\n",
        "    'cntk', 'cognos', 'composer', 'computer vision', 'conda', 'confluence',\n",
        "    'couchbase', 'css', 'd3.js', 'dash', 'dashboard', 'data factory', 'data fusion',\n",
        "    'data mining', 'data studio', 'data warehouse', 'databricks', 'dataddo',\n",
        "    'dataflow', 'datahub', 'dataiku', 'datastage', 'dbconvert', 'dbeaver', 'dbt',\n",
        "    'deep learning', 'dl/ml', 'docker', 'domo', 'dune', 'dv360', 'dynamodb',\n",
        "    'elasticsearch', 'elt', 'erwin', 'etl', 'etleap', 'excel', 'facebook business manager',\n",
        "    'fivetran', 'fuzzy', 'ga360', 'gcp', 'gensim', 'ggplot', 'git', 'github', 'gitlab',\n",
        "    'google ads', 'google analytics', 'google cloud platform', 'google data flow',\n",
        "    'google optimize', 'google sheets', 'google tag manager', 'google workspace',\n",
        "    'grafana', 'hadoop', 'hana', 'hanagrafana', 'hbase', 'hdfs', 'hevo data', 'hightouch',\n",
        "    'hive', 'hivedatabricks', 'html', 'hubspot', 'ibm coremetrics', 'inetsoft',\n",
        "    'influxdb', 'informatica', 'integrate.io', 'iri voracity', 'izenda', 'java',\n",
        "    'java script', 'javascript', 'jenkins', 'jira', 'jmp', 'julia', 'jupyter',\n",
        "    'k2view', 'kafka', 'kantar', 'kapacitor', 'keras', 'kibana', 'kubernetes',\n",
        "    'lambda', 'linux', 'logstash', 'looker', 'lstm', 'luidgi', 'matillion', 'matlab',\n",
        "    'matplotlib', 'mendix', 'metabase', 'microsoft sql', 'microsoft sql server',\n",
        "    'microstrategy', 'miro', 'mixpanel', 'ml', 'ml flow', 'mlflow', 'mongodb', 'mxnet',\n",
        "    'mysql', 'natural nanguage processing', 'neo4j', 'nlp', 'nltk', 'nosql', 'numpy',\n",
        "    'oauth', 'octave', 'omniture', 'omnituregitlab', 'openshift', 'openstack',\n",
        "    'optimizely', 'oracle', 'oracle business intelligence', 'oracle data integrator',\n",
        "    'pandas', 'panorama', 'pentaho', 'plotly', 'postgre', 'postgresql', 'posthog',\n",
        "    'power amc', 'power bi', 'power point', 'powerbi', 'powerpivot', 'powerpoint',\n",
        "    'powerquery', 'pyspark', 'python', 'pytorch', 'pytorchhevo data', 'qlik',\n",
        "    'qlik sense', 'qlikview', 'querysurge', 'r', 'raphtory', 'rapidminer', 'redash',\n",
        "    'redis', 'redshift', 'retool', 'rivery', 'rust', 's3', 'sa360', 'salesforce', 'sap',\n",
        "    'sap business objects', 'sas', 'sas visual analytics', 'scala', 'scikit-learn',\n",
        "    'scipy', 'seaborn', 'segment', 'selenium', 'sem rush', 'semrush', 'shell', 'shiny',\n",
        "    'singer', 'sisense', 'skyvia', 'snowflake', 'spacy', 'spark', 'sparkml', 'splunk',\n",
        "    'spotfire', 'spreadsheet', 'spss', 'sql', 'ssis', 'sssr', 'stambia', 'statistics',\n",
        "    'statsbot', 'stitch', 'streamlit', 'streamsets', 'svn', 't-sql', 'tableau', 'talend',\n",
        "    'targit', 'tealium', 'telegraf', 'tensorflow', 'terraapi', 'terraform', 'theano',\n",
        "    'thoughtspot', 'timeseries', 'trello', 'unix', 'vba', 'vtom', 'webfocus', 'wfh',\n",
        "    'xplenty', 'xtract.io', 'yellowfin', 'ga4', 'google analytics 4'\n",
        "]"
      ]
    },
    {
      "cell_type": "code",
      "execution_count": null,
      "id": "925b0863",
      "metadata": {
        "id": "925b0863"
      },
      "outputs": [],
      "source": [
        "# функция поска хард скиллов в тексте\n",
        "# сначала удаляем из текста знаки препинания\n",
        "# затем проверяем каждый элемент текста на вхождение в список хард скиллов\n",
        "# и если вхождение есть - добавляем этот элемент в список\n",
        "# по итогу возвращаем список скиллов, которые были упомянуты в тексте вакансии\n",
        "def skills_f(text):\n",
        "    sp_text = text.replace(',','')\n",
        "    sp_text = sp_text.replace('(','')\n",
        "    sp_text = sp_text.replace(')','')\n",
        "    sp_text = sp_text.replace('/','')\n",
        "    sp_text = sp_text.replace('.','')\n",
        "    sp_text = sp_text.split()\n",
        "    empty_skills = []\n",
        "    for i in range(len(sp_text)):\n",
        "        if sp_text[i].strip() in skills:\n",
        "            empty_skills.append(sp_text[i])    \n",
        "        resut = empty_skills    \n",
        "    return  resut"
      ]
    },
    {
      "cell_type": "code",
      "execution_count": null,
      "id": "5e0a2eac",
      "metadata": {
        "id": "5e0a2eac"
      },
      "outputs": [],
      "source": [
        "df['vac_text'] = df['vac_text'].str.lower()\n",
        "df['base_skills'] = df['base_skills'].str.lower()"
      ]
    },
    {
      "cell_type": "code",
      "execution_count": null,
      "id": "fd6766b7",
      "metadata": {
        "scrolled": true,
        "id": "fd6766b7"
      },
      "outputs": [],
      "source": [
        "df['skills'] = df['vac_text'].apply(skills_f)"
      ]
    },
    {
      "cell_type": "code",
      "execution_count": null,
      "id": "76ce86fd",
      "metadata": {
        "id": "76ce86fd"
      },
      "outputs": [],
      "source": [
        "df['skills_2'] = df['base_skills'].apply(extract_skills)    "
      ]
    },
    {
      "cell_type": "code",
      "execution_count": null,
      "id": "dfbf2d48",
      "metadata": {
        "id": "dfbf2d48"
      },
      "outputs": [],
      "source": [
        "# функция сложения двух списков с проверкой, не является ячейка пустой\n",
        "def sum_skills(row):\n",
        "        skills1 = row['skills'] if row['skills'] is not None else []\n",
        "        skills2 = row['skills_2'] if row['skills_2'] is not None else []\n",
        "        return skills1 + skills2\n",
        "    \n",
        "\n",
        "# Применяем функцию к датафрейму и сохраняем результат в новом столбце 'sum_skills'\n",
        "df['sum_skills'] = df.apply(sum_skills, axis=1)"
      ]
    },
    {
      "cell_type": "code",
      "execution_count": null,
      "id": "2e33e3e3",
      "metadata": {
        "id": "2e33e3e3"
      },
      "outputs": [],
      "source": [
        "# удаляем ненужные уже столбцы \n",
        "df = df.drop(['adr_len', 'skills', 'skills_2', 'candidates', 'Unnamed: 0', 'vac_text', 'base_skills'], axis = 1)"
      ]
    },
    {
      "cell_type": "code",
      "execution_count": null,
      "id": "5d0a8c5c",
      "metadata": {
        "id": "5d0a8c5c",
        "outputId": "e718c5a1-c3ee-4252-ef0c-869b8a6711b8"
      },
      "outputs": [
        {
          "data": {
            "text/html": [
              "<div>\n",
              "<style scoped>\n",
              "    .dataframe tbody tr th:only-of-type {\n",
              "        vertical-align: middle;\n",
              "    }\n",
              "\n",
              "    .dataframe tbody tr th {\n",
              "        vertical-align: top;\n",
              "    }\n",
              "\n",
              "    .dataframe thead th {\n",
              "        text-align: right;\n",
              "    }\n",
              "</style>\n",
              "<table border=\"1\" class=\"dataframe\">\n",
              "  <thead>\n",
              "    <tr style=\"text-align: right;\">\n",
              "      <th></th>\n",
              "      <th>job_title</th>\n",
              "      <th>company</th>\n",
              "      <th>adress</th>\n",
              "      <th>company_size</th>\n",
              "      <th>type_of_employment</th>\n",
              "      <th>company_sphere</th>\n",
              "      <th>employment</th>\n",
              "      <th>level</th>\n",
              "      <th>published_days_ago</th>\n",
              "      <th>city</th>\n",
              "      <th>country</th>\n",
              "      <th>q_candidates</th>\n",
              "      <th>sum_skills</th>\n",
              "    </tr>\n",
              "  </thead>\n",
              "  <tbody>\n",
              "    <tr>\n",
              "      <th>0</th>\n",
              "      <td>data analyst</td>\n",
              "      <td>PharmiWeb.Jobs: Global Life Science Jobs</td>\n",
              "      <td>Basel, Basel, Switzerland</td>\n",
              "      <td>11-50 employees</td>\n",
              "      <td>On-site</td>\n",
              "      <td>Staffing &amp; Recruiting</td>\n",
              "      <td>Full-time</td>\n",
              "      <td>Entry level</td>\n",
              "      <td>7</td>\n",
              "      <td>Basel</td>\n",
              "      <td>Switzerland</td>\n",
              "      <td>47.0</td>\n",
              "      <td>[sql, statistics, excel, spss, sas, sap]</td>\n",
              "    </tr>\n",
              "    <tr>\n",
              "      <th>1</th>\n",
              "      <td>data analyst - logistics</td>\n",
              "      <td>Resolute Recruitment</td>\n",
              "      <td>Coventry, England, United Kingdom</td>\n",
              "      <td>no info</td>\n",
              "      <td>On-site</td>\n",
              "      <td>no info</td>\n",
              "      <td>Full-time</td>\n",
              "      <td>Entry level</td>\n",
              "      <td>7</td>\n",
              "      <td>Coventry</td>\n",
              "      <td>United Kingdom</td>\n",
              "      <td>NaN</td>\n",
              "      <td>[]</td>\n",
              "    </tr>\n",
              "    <tr>\n",
              "      <th>2</th>\n",
              "      <td>data analyst - logistics</td>\n",
              "      <td>Resolute Recruitment</td>\n",
              "      <td>Coventry, England, United Kingdom</td>\n",
              "      <td>no info</td>\n",
              "      <td>On-site</td>\n",
              "      <td>no info</td>\n",
              "      <td>Full-time</td>\n",
              "      <td>Entry level</td>\n",
              "      <td>7</td>\n",
              "      <td>Coventry</td>\n",
              "      <td>United Kingdom</td>\n",
              "      <td>NaN</td>\n",
              "      <td>[wfh]</td>\n",
              "    </tr>\n",
              "    <tr>\n",
              "      <th>3</th>\n",
              "      <td>data analyst (space &amp; planning)</td>\n",
              "      <td>Mole Valley Farmers</td>\n",
              "      <td>South Molton, England, United Kingdom</td>\n",
              "      <td>no info</td>\n",
              "      <td>On-site</td>\n",
              "      <td>no info</td>\n",
              "      <td>Full-time</td>\n",
              "      <td>Entry level</td>\n",
              "      <td>7</td>\n",
              "      <td>South Molton</td>\n",
              "      <td>United Kingdom</td>\n",
              "      <td>NaN</td>\n",
              "      <td>[excel]</td>\n",
              "    </tr>\n",
              "    <tr>\n",
              "      <th>4</th>\n",
              "      <td>data analyst</td>\n",
              "      <td>FORFIRM</td>\n",
              "      <td>Lugano, Ticino, Switzerland</td>\n",
              "      <td>no info</td>\n",
              "      <td>On-site</td>\n",
              "      <td>no info</td>\n",
              "      <td>Full-time</td>\n",
              "      <td>Entry level</td>\n",
              "      <td>14</td>\n",
              "      <td>Lugano</td>\n",
              "      <td>Switzerland</td>\n",
              "      <td>NaN</td>\n",
              "      <td>[etl, gcp, aws, sql, etl, oracle, python]</td>\n",
              "    </tr>\n",
              "  </tbody>\n",
              "</table>\n",
              "</div>"
            ],
            "text/plain": [
              "                         job_title                                   company  \\\n",
              "0                     data analyst  PharmiWeb.Jobs: Global Life Science Jobs   \n",
              "1         data analyst - logistics                      Resolute Recruitment   \n",
              "2         data analyst - logistics                      Resolute Recruitment   \n",
              "3  data analyst (space & planning)                       Mole Valley Farmers   \n",
              "4                     data analyst                                   FORFIRM   \n",
              "\n",
              "                                  adress     company_size type_of_employment  \\\n",
              "0              Basel, Basel, Switzerland  11-50 employees            On-site   \n",
              "1      Coventry, England, United Kingdom          no info            On-site   \n",
              "2      Coventry, England, United Kingdom          no info            On-site   \n",
              "3  South Molton, England, United Kingdom          no info            On-site   \n",
              "4            Lugano, Ticino, Switzerland          no info            On-site   \n",
              "\n",
              "          company_sphere  employment         level  published_days_ago  \\\n",
              "0  Staffing & Recruiting  Full-time    Entry level                   7   \n",
              "1                no info  Full-time    Entry level                   7   \n",
              "2                no info  Full-time    Entry level                   7   \n",
              "3                no info  Full-time    Entry level                   7   \n",
              "4                no info  Full-time    Entry level                  14   \n",
              "\n",
              "           city         country  q_candidates  \\\n",
              "0         Basel     Switzerland          47.0   \n",
              "1      Coventry  United Kingdom           NaN   \n",
              "2      Coventry  United Kingdom           NaN   \n",
              "3  South Molton  United Kingdom           NaN   \n",
              "4        Lugano     Switzerland           NaN   \n",
              "\n",
              "                                  sum_skills  \n",
              "0   [sql, statistics, excel, spss, sas, sap]  \n",
              "1                                         []  \n",
              "2                                      [wfh]  \n",
              "3                                    [excel]  \n",
              "4  [etl, gcp, aws, sql, etl, oracle, python]  "
            ]
          },
          "execution_count": 65,
          "metadata": {},
          "output_type": "execute_result"
        }
      ],
      "source": [
        "df.head(5)"
      ]
    },
    {
      "cell_type": "markdown",
      "source": [
        " **$\\color{blue}{\\text{КОММЕНТАРИЙ}}$**\n",
        "\n",
        "Отличная работа по поиску скиллов в тексте вакансии"
      ],
      "metadata": {
        "id": "WVOxeHvgYMgL"
      },
      "id": "WVOxeHvgYMgL"
    },
    {
      "cell_type": "code",
      "execution_count": null,
      "id": "8b01053c",
      "metadata": {
        "scrolled": true,
        "id": "8b01053c"
      },
      "outputs": [],
      "source": [
        "# Разбиваем столбец 'sum_skills' на отдельные строки с помощью метода explode\n",
        "df_exploded = df.explode('sum_skills')"
      ]
    },
    {
      "cell_type": "code",
      "execution_count": null,
      "id": "3ff18d32",
      "metadata": {
        "id": "3ff18d32",
        "outputId": "395cd5b9-9030-494a-a59c-7ac90cbb9c8f"
      },
      "outputs": [
        {
          "data": {
            "text/html": [
              "<div>\n",
              "<style scoped>\n",
              "    .dataframe tbody tr th:only-of-type {\n",
              "        vertical-align: middle;\n",
              "    }\n",
              "\n",
              "    .dataframe tbody tr th {\n",
              "        vertical-align: top;\n",
              "    }\n",
              "\n",
              "    .dataframe thead th {\n",
              "        text-align: right;\n",
              "    }\n",
              "</style>\n",
              "<table border=\"1\" class=\"dataframe\">\n",
              "  <thead>\n",
              "    <tr style=\"text-align: right;\">\n",
              "      <th></th>\n",
              "      <th>job_title</th>\n",
              "      <th>company</th>\n",
              "      <th>adress</th>\n",
              "      <th>company_size</th>\n",
              "      <th>type_of_employment</th>\n",
              "      <th>company_sphere</th>\n",
              "      <th>employment</th>\n",
              "      <th>level</th>\n",
              "      <th>published_days_ago</th>\n",
              "      <th>city</th>\n",
              "      <th>country</th>\n",
              "      <th>q_candidates</th>\n",
              "      <th>sum_skills</th>\n",
              "    </tr>\n",
              "  </thead>\n",
              "  <tbody>\n",
              "    <tr>\n",
              "      <th>0</th>\n",
              "      <td>data analyst</td>\n",
              "      <td>PharmiWeb.Jobs: Global Life Science Jobs</td>\n",
              "      <td>Basel, Basel, Switzerland</td>\n",
              "      <td>11-50 employees</td>\n",
              "      <td>On-site</td>\n",
              "      <td>Staffing &amp; Recruiting</td>\n",
              "      <td>Full-time</td>\n",
              "      <td>Entry level</td>\n",
              "      <td>7</td>\n",
              "      <td>Basel</td>\n",
              "      <td>Switzerland</td>\n",
              "      <td>47.0</td>\n",
              "      <td>sql</td>\n",
              "    </tr>\n",
              "    <tr>\n",
              "      <th>0</th>\n",
              "      <td>data analyst</td>\n",
              "      <td>PharmiWeb.Jobs: Global Life Science Jobs</td>\n",
              "      <td>Basel, Basel, Switzerland</td>\n",
              "      <td>11-50 employees</td>\n",
              "      <td>On-site</td>\n",
              "      <td>Staffing &amp; Recruiting</td>\n",
              "      <td>Full-time</td>\n",
              "      <td>Entry level</td>\n",
              "      <td>7</td>\n",
              "      <td>Basel</td>\n",
              "      <td>Switzerland</td>\n",
              "      <td>47.0</td>\n",
              "      <td>statistics</td>\n",
              "    </tr>\n",
              "    <tr>\n",
              "      <th>0</th>\n",
              "      <td>data analyst</td>\n",
              "      <td>PharmiWeb.Jobs: Global Life Science Jobs</td>\n",
              "      <td>Basel, Basel, Switzerland</td>\n",
              "      <td>11-50 employees</td>\n",
              "      <td>On-site</td>\n",
              "      <td>Staffing &amp; Recruiting</td>\n",
              "      <td>Full-time</td>\n",
              "      <td>Entry level</td>\n",
              "      <td>7</td>\n",
              "      <td>Basel</td>\n",
              "      <td>Switzerland</td>\n",
              "      <td>47.0</td>\n",
              "      <td>excel</td>\n",
              "    </tr>\n",
              "    <tr>\n",
              "      <th>0</th>\n",
              "      <td>data analyst</td>\n",
              "      <td>PharmiWeb.Jobs: Global Life Science Jobs</td>\n",
              "      <td>Basel, Basel, Switzerland</td>\n",
              "      <td>11-50 employees</td>\n",
              "      <td>On-site</td>\n",
              "      <td>Staffing &amp; Recruiting</td>\n",
              "      <td>Full-time</td>\n",
              "      <td>Entry level</td>\n",
              "      <td>7</td>\n",
              "      <td>Basel</td>\n",
              "      <td>Switzerland</td>\n",
              "      <td>47.0</td>\n",
              "      <td>spss</td>\n",
              "    </tr>\n",
              "    <tr>\n",
              "      <th>0</th>\n",
              "      <td>data analyst</td>\n",
              "      <td>PharmiWeb.Jobs: Global Life Science Jobs</td>\n",
              "      <td>Basel, Basel, Switzerland</td>\n",
              "      <td>11-50 employees</td>\n",
              "      <td>On-site</td>\n",
              "      <td>Staffing &amp; Recruiting</td>\n",
              "      <td>Full-time</td>\n",
              "      <td>Entry level</td>\n",
              "      <td>7</td>\n",
              "      <td>Basel</td>\n",
              "      <td>Switzerland</td>\n",
              "      <td>47.0</td>\n",
              "      <td>sas</td>\n",
              "    </tr>\n",
              "  </tbody>\n",
              "</table>\n",
              "</div>"
            ],
            "text/plain": [
              "      job_title                                   company  \\\n",
              "0  data analyst  PharmiWeb.Jobs: Global Life Science Jobs   \n",
              "0  data analyst  PharmiWeb.Jobs: Global Life Science Jobs   \n",
              "0  data analyst  PharmiWeb.Jobs: Global Life Science Jobs   \n",
              "0  data analyst  PharmiWeb.Jobs: Global Life Science Jobs   \n",
              "0  data analyst  PharmiWeb.Jobs: Global Life Science Jobs   \n",
              "\n",
              "                      adress     company_size type_of_employment  \\\n",
              "0  Basel, Basel, Switzerland  11-50 employees            On-site   \n",
              "0  Basel, Basel, Switzerland  11-50 employees            On-site   \n",
              "0  Basel, Basel, Switzerland  11-50 employees            On-site   \n",
              "0  Basel, Basel, Switzerland  11-50 employees            On-site   \n",
              "0  Basel, Basel, Switzerland  11-50 employees            On-site   \n",
              "\n",
              "          company_sphere  employment         level  published_days_ago   city  \\\n",
              "0  Staffing & Recruiting  Full-time    Entry level                   7  Basel   \n",
              "0  Staffing & Recruiting  Full-time    Entry level                   7  Basel   \n",
              "0  Staffing & Recruiting  Full-time    Entry level                   7  Basel   \n",
              "0  Staffing & Recruiting  Full-time    Entry level                   7  Basel   \n",
              "0  Staffing & Recruiting  Full-time    Entry level                   7  Basel   \n",
              "\n",
              "       country  q_candidates  sum_skills  \n",
              "0  Switzerland          47.0         sql  \n",
              "0  Switzerland          47.0  statistics  \n",
              "0  Switzerland          47.0       excel  \n",
              "0  Switzerland          47.0        spss  \n",
              "0  Switzerland          47.0         sas  "
            ]
          },
          "execution_count": 67,
          "metadata": {},
          "output_type": "execute_result"
        }
      ],
      "source": [
        "df_exploded.head(5)"
      ]
    },
    {
      "cell_type": "markdown",
      "source": [
        " **$\\color{blue}{\\text{КОММЕНТАРИЙ}}$**\n",
        "\n",
        "Здорово"
      ],
      "metadata": {
        "id": "jtHXtgfLYXYx"
      },
      "id": "jtHXtgfLYXYx"
    },
    {
      "cell_type": "code",
      "execution_count": null,
      "id": "8927abb4",
      "metadata": {
        "id": "8927abb4",
        "outputId": "23e741c1-56b1-4eb3-a916-31baab771aa1"
      },
      "outputs": [
        {
          "data": {
            "text/plain": [
              "685"
            ]
          },
          "execution_count": 68,
          "metadata": {},
          "output_type": "execute_result"
        }
      ],
      "source": [
        "# проверим образовавшийся датафрейм на дубликаты\n",
        "# так как в одной вакансии искомые скилы могли встречаться несколько раз\n",
        "df_exploded.duplicated().sum()"
      ]
    },
    {
      "cell_type": "code",
      "execution_count": null,
      "id": "f84c7ce9",
      "metadata": {
        "id": "f84c7ce9"
      },
      "outputs": [],
      "source": [
        "# удалим дубликаты\n",
        "df_exploded = df_exploded.drop_duplicates()"
      ]
    },
    {
      "cell_type": "code",
      "execution_count": null,
      "id": "1c9f0fcd",
      "metadata": {
        "scrolled": true,
        "id": "1c9f0fcd",
        "outputId": "7bef2a12-89a8-4df5-e55b-5ae467348ceb"
      },
      "outputs": [
        {
          "data": {
            "text/html": [
              "<div>\n",
              "<style scoped>\n",
              "    .dataframe tbody tr th:only-of-type {\n",
              "        vertical-align: middle;\n",
              "    }\n",
              "\n",
              "    .dataframe tbody tr th {\n",
              "        vertical-align: top;\n",
              "    }\n",
              "\n",
              "    .dataframe thead th {\n",
              "        text-align: right;\n",
              "    }\n",
              "</style>\n",
              "<table border=\"1\" class=\"dataframe\">\n",
              "  <thead>\n",
              "    <tr style=\"text-align: right;\">\n",
              "      <th></th>\n",
              "      <th>job_title</th>\n",
              "      <th>company</th>\n",
              "      <th>adress</th>\n",
              "      <th>company_size</th>\n",
              "      <th>type_of_employment</th>\n",
              "      <th>company_sphere</th>\n",
              "      <th>employment</th>\n",
              "      <th>level</th>\n",
              "      <th>published_days_ago</th>\n",
              "      <th>city</th>\n",
              "      <th>country</th>\n",
              "      <th>q_candidates</th>\n",
              "      <th>sum_skills</th>\n",
              "    </tr>\n",
              "  </thead>\n",
              "  <tbody>\n",
              "    <tr>\n",
              "      <th>0</th>\n",
              "      <td>data analyst</td>\n",
              "      <td>PharmiWeb.Jobs: Global Life Science Jobs</td>\n",
              "      <td>Basel, Basel, Switzerland</td>\n",
              "      <td>11-50 employees</td>\n",
              "      <td>On-site</td>\n",
              "      <td>Staffing &amp; Recruiting</td>\n",
              "      <td>Full-time</td>\n",
              "      <td>Entry level</td>\n",
              "      <td>7</td>\n",
              "      <td>Basel</td>\n",
              "      <td>Switzerland</td>\n",
              "      <td>47.0</td>\n",
              "      <td>sql</td>\n",
              "    </tr>\n",
              "    <tr>\n",
              "      <th>0</th>\n",
              "      <td>data analyst</td>\n",
              "      <td>PharmiWeb.Jobs: Global Life Science Jobs</td>\n",
              "      <td>Basel, Basel, Switzerland</td>\n",
              "      <td>11-50 employees</td>\n",
              "      <td>On-site</td>\n",
              "      <td>Staffing &amp; Recruiting</td>\n",
              "      <td>Full-time</td>\n",
              "      <td>Entry level</td>\n",
              "      <td>7</td>\n",
              "      <td>Basel</td>\n",
              "      <td>Switzerland</td>\n",
              "      <td>47.0</td>\n",
              "      <td>statistics</td>\n",
              "    </tr>\n",
              "    <tr>\n",
              "      <th>0</th>\n",
              "      <td>data analyst</td>\n",
              "      <td>PharmiWeb.Jobs: Global Life Science Jobs</td>\n",
              "      <td>Basel, Basel, Switzerland</td>\n",
              "      <td>11-50 employees</td>\n",
              "      <td>On-site</td>\n",
              "      <td>Staffing &amp; Recruiting</td>\n",
              "      <td>Full-time</td>\n",
              "      <td>Entry level</td>\n",
              "      <td>7</td>\n",
              "      <td>Basel</td>\n",
              "      <td>Switzerland</td>\n",
              "      <td>47.0</td>\n",
              "      <td>excel</td>\n",
              "    </tr>\n",
              "    <tr>\n",
              "      <th>0</th>\n",
              "      <td>data analyst</td>\n",
              "      <td>PharmiWeb.Jobs: Global Life Science Jobs</td>\n",
              "      <td>Basel, Basel, Switzerland</td>\n",
              "      <td>11-50 employees</td>\n",
              "      <td>On-site</td>\n",
              "      <td>Staffing &amp; Recruiting</td>\n",
              "      <td>Full-time</td>\n",
              "      <td>Entry level</td>\n",
              "      <td>7</td>\n",
              "      <td>Basel</td>\n",
              "      <td>Switzerland</td>\n",
              "      <td>47.0</td>\n",
              "      <td>spss</td>\n",
              "    </tr>\n",
              "    <tr>\n",
              "      <th>0</th>\n",
              "      <td>data analyst</td>\n",
              "      <td>PharmiWeb.Jobs: Global Life Science Jobs</td>\n",
              "      <td>Basel, Basel, Switzerland</td>\n",
              "      <td>11-50 employees</td>\n",
              "      <td>On-site</td>\n",
              "      <td>Staffing &amp; Recruiting</td>\n",
              "      <td>Full-time</td>\n",
              "      <td>Entry level</td>\n",
              "      <td>7</td>\n",
              "      <td>Basel</td>\n",
              "      <td>Switzerland</td>\n",
              "      <td>47.0</td>\n",
              "      <td>sas</td>\n",
              "    </tr>\n",
              "    <tr>\n",
              "      <th>0</th>\n",
              "      <td>data analyst</td>\n",
              "      <td>PharmiWeb.Jobs: Global Life Science Jobs</td>\n",
              "      <td>Basel, Basel, Switzerland</td>\n",
              "      <td>11-50 employees</td>\n",
              "      <td>On-site</td>\n",
              "      <td>Staffing &amp; Recruiting</td>\n",
              "      <td>Full-time</td>\n",
              "      <td>Entry level</td>\n",
              "      <td>7</td>\n",
              "      <td>Basel</td>\n",
              "      <td>Switzerland</td>\n",
              "      <td>47.0</td>\n",
              "      <td>sap</td>\n",
              "    </tr>\n",
              "    <tr>\n",
              "      <th>1</th>\n",
              "      <td>data analyst - logistics</td>\n",
              "      <td>Resolute Recruitment</td>\n",
              "      <td>Coventry, England, United Kingdom</td>\n",
              "      <td>no info</td>\n",
              "      <td>On-site</td>\n",
              "      <td>no info</td>\n",
              "      <td>Full-time</td>\n",
              "      <td>Entry level</td>\n",
              "      <td>7</td>\n",
              "      <td>Coventry</td>\n",
              "      <td>United Kingdom</td>\n",
              "      <td>NaN</td>\n",
              "      <td>NaN</td>\n",
              "    </tr>\n",
              "    <tr>\n",
              "      <th>2</th>\n",
              "      <td>data analyst - logistics</td>\n",
              "      <td>Resolute Recruitment</td>\n",
              "      <td>Coventry, England, United Kingdom</td>\n",
              "      <td>no info</td>\n",
              "      <td>On-site</td>\n",
              "      <td>no info</td>\n",
              "      <td>Full-time</td>\n",
              "      <td>Entry level</td>\n",
              "      <td>7</td>\n",
              "      <td>Coventry</td>\n",
              "      <td>United Kingdom</td>\n",
              "      <td>NaN</td>\n",
              "      <td>wfh</td>\n",
              "    </tr>\n",
              "    <tr>\n",
              "      <th>3</th>\n",
              "      <td>data analyst (space &amp; planning)</td>\n",
              "      <td>Mole Valley Farmers</td>\n",
              "      <td>South Molton, England, United Kingdom</td>\n",
              "      <td>no info</td>\n",
              "      <td>On-site</td>\n",
              "      <td>no info</td>\n",
              "      <td>Full-time</td>\n",
              "      <td>Entry level</td>\n",
              "      <td>7</td>\n",
              "      <td>South Molton</td>\n",
              "      <td>United Kingdom</td>\n",
              "      <td>NaN</td>\n",
              "      <td>excel</td>\n",
              "    </tr>\n",
              "    <tr>\n",
              "      <th>4</th>\n",
              "      <td>data analyst</td>\n",
              "      <td>FORFIRM</td>\n",
              "      <td>Lugano, Ticino, Switzerland</td>\n",
              "      <td>no info</td>\n",
              "      <td>On-site</td>\n",
              "      <td>no info</td>\n",
              "      <td>Full-time</td>\n",
              "      <td>Entry level</td>\n",
              "      <td>14</td>\n",
              "      <td>Lugano</td>\n",
              "      <td>Switzerland</td>\n",
              "      <td>NaN</td>\n",
              "      <td>etl</td>\n",
              "    </tr>\n",
              "  </tbody>\n",
              "</table>\n",
              "</div>"
            ],
            "text/plain": [
              "                         job_title                                   company  \\\n",
              "0                     data analyst  PharmiWeb.Jobs: Global Life Science Jobs   \n",
              "0                     data analyst  PharmiWeb.Jobs: Global Life Science Jobs   \n",
              "0                     data analyst  PharmiWeb.Jobs: Global Life Science Jobs   \n",
              "0                     data analyst  PharmiWeb.Jobs: Global Life Science Jobs   \n",
              "0                     data analyst  PharmiWeb.Jobs: Global Life Science Jobs   \n",
              "0                     data analyst  PharmiWeb.Jobs: Global Life Science Jobs   \n",
              "1         data analyst - logistics                      Resolute Recruitment   \n",
              "2         data analyst - logistics                      Resolute Recruitment   \n",
              "3  data analyst (space & planning)                       Mole Valley Farmers   \n",
              "4                     data analyst                                   FORFIRM   \n",
              "\n",
              "                                  adress     company_size type_of_employment  \\\n",
              "0              Basel, Basel, Switzerland  11-50 employees            On-site   \n",
              "0              Basel, Basel, Switzerland  11-50 employees            On-site   \n",
              "0              Basel, Basel, Switzerland  11-50 employees            On-site   \n",
              "0              Basel, Basel, Switzerland  11-50 employees            On-site   \n",
              "0              Basel, Basel, Switzerland  11-50 employees            On-site   \n",
              "0              Basel, Basel, Switzerland  11-50 employees            On-site   \n",
              "1      Coventry, England, United Kingdom          no info            On-site   \n",
              "2      Coventry, England, United Kingdom          no info            On-site   \n",
              "3  South Molton, England, United Kingdom          no info            On-site   \n",
              "4            Lugano, Ticino, Switzerland          no info            On-site   \n",
              "\n",
              "          company_sphere  employment         level  published_days_ago  \\\n",
              "0  Staffing & Recruiting  Full-time    Entry level                   7   \n",
              "0  Staffing & Recruiting  Full-time    Entry level                   7   \n",
              "0  Staffing & Recruiting  Full-time    Entry level                   7   \n",
              "0  Staffing & Recruiting  Full-time    Entry level                   7   \n",
              "0  Staffing & Recruiting  Full-time    Entry level                   7   \n",
              "0  Staffing & Recruiting  Full-time    Entry level                   7   \n",
              "1                no info  Full-time    Entry level                   7   \n",
              "2                no info  Full-time    Entry level                   7   \n",
              "3                no info  Full-time    Entry level                   7   \n",
              "4                no info  Full-time    Entry level                  14   \n",
              "\n",
              "           city         country  q_candidates  sum_skills  \n",
              "0         Basel     Switzerland          47.0         sql  \n",
              "0         Basel     Switzerland          47.0  statistics  \n",
              "0         Basel     Switzerland          47.0       excel  \n",
              "0         Basel     Switzerland          47.0        spss  \n",
              "0         Basel     Switzerland          47.0         sas  \n",
              "0         Basel     Switzerland          47.0         sap  \n",
              "1      Coventry  United Kingdom           NaN         NaN  \n",
              "2      Coventry  United Kingdom           NaN         wfh  \n",
              "3  South Molton  United Kingdom           NaN       excel  \n",
              "4        Lugano     Switzerland           NaN         etl  "
            ]
          },
          "execution_count": 70,
          "metadata": {},
          "output_type": "execute_result"
        }
      ],
      "source": [
        "df_exploded.head(10)"
      ]
    },
    {
      "cell_type": "code",
      "execution_count": null,
      "id": "fab383c2",
      "metadata": {
        "id": "fab383c2",
        "outputId": "ec93b68d-0bb8-468f-8196-c614cef5a7da"
      },
      "outputs": [
        {
          "data": {
            "text/plain": [
              "sql          162\n",
              "python       126\n",
              "excel        109\n",
              "ai            91\n",
              "tableau       75\n",
              "            ... \n",
              "shell          1\n",
              "asana          1\n",
              "amplitude      1\n",
              "lambda         1\n",
              "hubspot        1\n",
              "Name: sum_skills, Length: 100, dtype: int64"
            ]
          },
          "execution_count": 71,
          "metadata": {},
          "output_type": "execute_result"
        }
      ],
      "source": [
        "df_exploded['sum_skills'].value_counts()"
      ]
    },
    {
      "cell_type": "code",
      "execution_count": null,
      "id": "e91102df",
      "metadata": {
        "id": "e91102df",
        "outputId": "459c65eb-ee84-4f34-8ed4-38f528149f4e"
      },
      "outputs": [
        {
          "data": {
            "text/plain": [
              "array(['sql', 'statistics', 'excel', 'spss', 'sas', 'sap', nan, 'wfh',\n",
              "       'etl', 'gcp', 'aws', 'oracle', 'python', 'nosql', 'tableau',\n",
              "       'qlikview', 'powerbi', 'dataiku', 'scala', 'spotfire',\n",
              "       'spreadsheet', 'redshift', 'looker', 'api', 'r', 'bigquery',\n",
              "       'jupyter', 'pandas', 'dbt', 'segment', 'ai', 'salesforce',\n",
              "       'powerpoint', 'spark', 'cognos', 'jira', 'dataflow', 'airflow',\n",
              "       'terraform', 'github', 'cicd', 'hadoop', 'kafka', 'talend', 'hive',\n",
              "       'mongodb', 'informatica', 'alteryx', 'snowflake', 'elt',\n",
              "       'metabase', 'sisense', 'panorama', 'microstrategy', 'qlik',\n",
              "       'dashboard', 'numpy', 'composer', 'azure', 'javascript', 'java',\n",
              "       'vba', 'bash', 'git', 'stambia', 'mysql', 'databricks',\n",
              "       'confluence', 'trello', 'rapidminer', 'shell', 'html', 'css',\n",
              "       'datastage', 'asana', 'amplitude', 'ssis', 'matlab', 'lambda',\n",
              "       'elasticsearch', 'powerquery', 'powerpivot', 'docker', 'nlp',\n",
              "       'gitlab', 'grafana', 'splunk', 'kibana', 'c#', 'cloudera', 'hana',\n",
              "       'yellowfin', 'shiny', 'postgresql', 'c++', 'unix', 'clickhouse',\n",
              "       'ml', 'rust', 'miro', 'hubspot'], dtype=object)"
            ]
          },
          "execution_count": 72,
          "metadata": {},
          "output_type": "execute_result"
        }
      ],
      "source": [
        "df_exploded['sum_skills'].unique()"
      ]
    },
    {
      "cell_type": "code",
      "execution_count": null,
      "id": "dd351c9b",
      "metadata": {
        "scrolled": true,
        "id": "dd351c9b"
      },
      "outputs": [],
      "source": [
        "req_sk = df_exploded.groupby('sum_skills')['job_title'].count(\n",
        ").reset_index().sort_values(by='job_title', ascending=False)"
      ]
    },
    {
      "cell_type": "code",
      "execution_count": null,
      "id": "dc441d04",
      "metadata": {
        "id": "dc441d04",
        "outputId": "0f996b86-4f52-4a67-e82d-e2309317c1bb"
      },
      "outputs": [
        {
          "data": {
            "text/html": [
              "<div>\n",
              "<style scoped>\n",
              "    .dataframe tbody tr th:only-of-type {\n",
              "        vertical-align: middle;\n",
              "    }\n",
              "\n",
              "    .dataframe tbody tr th {\n",
              "        vertical-align: top;\n",
              "    }\n",
              "\n",
              "    .dataframe thead th {\n",
              "        text-align: right;\n",
              "    }\n",
              "</style>\n",
              "<table border=\"1\" class=\"dataframe\">\n",
              "  <thead>\n",
              "    <tr style=\"text-align: right;\">\n",
              "      <th></th>\n",
              "      <th>sum_skills</th>\n",
              "      <th>job_title</th>\n",
              "    </tr>\n",
              "  </thead>\n",
              "  <tbody>\n",
              "    <tr>\n",
              "      <th>88</th>\n",
              "      <td>sql</td>\n",
              "      <td>162</td>\n",
              "    </tr>\n",
              "    <tr>\n",
              "      <th>67</th>\n",
              "      <td>python</td>\n",
              "      <td>126</td>\n",
              "    </tr>\n",
              "    <tr>\n",
              "      <th>29</th>\n",
              "      <td>excel</td>\n",
              "      <td>109</td>\n",
              "    </tr>\n",
              "    <tr>\n",
              "      <th>0</th>\n",
              "      <td>ai</td>\n",
              "      <td>91</td>\n",
              "    </tr>\n",
              "    <tr>\n",
              "      <th>92</th>\n",
              "      <td>tableau</td>\n",
              "      <td>75</td>\n",
              "    </tr>\n",
              "    <tr>\n",
              "      <th>70</th>\n",
              "      <td>r</td>\n",
              "      <td>56</td>\n",
              "    </tr>\n",
              "    <tr>\n",
              "      <th>91</th>\n",
              "      <td>statistics</td>\n",
              "      <td>48</td>\n",
              "    </tr>\n",
              "    <tr>\n",
              "      <th>19</th>\n",
              "      <td>dashboard</td>\n",
              "      <td>41</td>\n",
              "    </tr>\n",
              "    <tr>\n",
              "      <th>63</th>\n",
              "      <td>powerbi</td>\n",
              "      <td>39</td>\n",
              "    </tr>\n",
              "    <tr>\n",
              "      <th>65</th>\n",
              "      <td>powerpoint</td>\n",
              "      <td>31</td>\n",
              "    </tr>\n",
              "    <tr>\n",
              "      <th>48</th>\n",
              "      <td>looker</td>\n",
              "      <td>24</td>\n",
              "    </tr>\n",
              "    <tr>\n",
              "      <th>75</th>\n",
              "      <td>sap</td>\n",
              "      <td>20</td>\n",
              "    </tr>\n",
              "    <tr>\n",
              "      <th>76</th>\n",
              "      <td>sas</td>\n",
              "      <td>20</td>\n",
              "    </tr>\n",
              "    <tr>\n",
              "      <th>7</th>\n",
              "      <td>azure</td>\n",
              "      <td>20</td>\n",
              "    </tr>\n",
              "    <tr>\n",
              "      <th>97</th>\n",
              "      <td>vba</td>\n",
              "      <td>16</td>\n",
              "    </tr>\n",
              "    <tr>\n",
              "      <th>77</th>\n",
              "      <td>scala</td>\n",
              "      <td>15</td>\n",
              "    </tr>\n",
              "    <tr>\n",
              "      <th>28</th>\n",
              "      <td>etl</td>\n",
              "      <td>14</td>\n",
              "    </tr>\n",
              "    <tr>\n",
              "      <th>41</th>\n",
              "      <td>java</td>\n",
              "      <td>14</td>\n",
              "    </tr>\n",
              "    <tr>\n",
              "      <th>9</th>\n",
              "      <td>bigquery</td>\n",
              "      <td>13</td>\n",
              "    </tr>\n",
              "    <tr>\n",
              "      <th>68</th>\n",
              "      <td>qlik</td>\n",
              "      <td>13</td>\n",
              "    </tr>\n",
              "  </tbody>\n",
              "</table>\n",
              "</div>"
            ],
            "text/plain": [
              "    sum_skills  job_title\n",
              "88         sql        162\n",
              "67      python        126\n",
              "29       excel        109\n",
              "0           ai         91\n",
              "92     tableau         75\n",
              "70           r         56\n",
              "91  statistics         48\n",
              "19   dashboard         41\n",
              "63     powerbi         39\n",
              "65  powerpoint         31\n",
              "48      looker         24\n",
              "75         sap         20\n",
              "76         sas         20\n",
              "7        azure         20\n",
              "97         vba         16\n",
              "77       scala         15\n",
              "28         etl         14\n",
              "41        java         14\n",
              "9     bigquery         13\n",
              "68        qlik         13"
            ]
          },
          "execution_count": 74,
          "metadata": {},
          "output_type": "execute_result"
        }
      ],
      "source": [
        "req_sk.head(20)"
      ]
    },
    {
      "cell_type": "markdown",
      "id": "16650937",
      "metadata": {
        "id": "16650937"
      },
      "source": [
        "# **Промежуточный вывод исследования**"
      ]
    },
    {
      "cell_type": "markdown",
      "id": "03a33f6a",
      "metadata": {
        "id": "03a33f6a"
      },
      "source": [
        "В ходе парсинга предоставленного файла были получены требуемеые данные по вакансиям для аналитиков данных. Данные, после проверки, готовы для визуализации в дашборде."
      ]
    },
    {
      "cell_type": "markdown",
      "source": [
        " **$\\color{blue}{\\text{ОБЩИЙ ФИДБЭК}}$**\n",
        "\n",
        "Большое спасибо за великолепное выполнение первого этапа проекта  Ты отлично владеешь методами bs4, работаешь со строками даже без регулярных выражений - просто класс Все необходимые по ТЗ признаки выделены в отдельные столбцы Данные подготовлены к визуализации Все великолепно\n",
        "\n",
        "Тем не менее хотелось бы дать тебе два совета\n",
        "- пожалуйста проведи дополнительную обработку столбцов с городом и страной - там не всегда корректные значения\n",
        "- использую интервал, который ты нашел когда была опубликована вакансия и дату парсинга рассчитай дту публикации вакансии в привычном нам виде\n",
        "\n",
        "Если у тебя не возникло трудностей и вопросов к комментариям можно не присылать работу на повторную проверку"
      ],
      "metadata": {
        "id": "nh_OttUxYaSp"
      },
      "id": "nh_OttUxYaSp"
    },
    {
      "cell_type": "code",
      "source": [],
      "metadata": {
        "id": "bY4Is5AhZJ7Z"
      },
      "id": "bY4Is5AhZJ7Z",
      "execution_count": null,
      "outputs": []
    }
  ],
  "metadata": {
    "kernelspec": {
      "display_name": "Python 3 (ipykernel)",
      "language": "python",
      "name": "python3"
    },
    "language_info": {
      "codemirror_mode": {
        "name": "ipython",
        "version": 3
      },
      "file_extension": ".py",
      "mimetype": "text/x-python",
      "name": "python",
      "nbconvert_exporter": "python",
      "pygments_lexer": "ipython3",
      "version": "3.11.2"
    },
    "toc": {
      "base_numbering": 1,
      "nav_menu": {},
      "number_sections": true,
      "sideBar": true,
      "skip_h1_title": false,
      "title_cell": "Table of Contents",
      "title_sidebar": "Contents",
      "toc_cell": false,
      "toc_position": {
        "height": "calc(100% - 180px)",
        "left": "10px",
        "top": "150px",
        "width": "369px"
      },
      "toc_section_display": true,
      "toc_window_display": true
    },
    "varInspector": {
      "cols": {
        "lenName": 16,
        "lenType": 16,
        "lenVar": 40
      },
      "kernels_config": {
        "python": {
          "delete_cmd_postfix": "",
          "delete_cmd_prefix": "del ",
          "library": "var_list.py",
          "varRefreshCmd": "print(var_dic_list())"
        },
        "r": {
          "delete_cmd_postfix": ") ",
          "delete_cmd_prefix": "rm(",
          "library": "var_list.r",
          "varRefreshCmd": "cat(var_dic_list()) "
        }
      },
      "types_to_exclude": [
        "module",
        "function",
        "builtin_function_or_method",
        "instance",
        "_Feature"
      ],
      "window_display": false
    },
    "colab": {
      "provenance": []
    }
  },
  "nbformat": 4,
  "nbformat_minor": 5
}