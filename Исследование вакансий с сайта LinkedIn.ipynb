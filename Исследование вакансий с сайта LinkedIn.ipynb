{
 "cells": [
  {
   "cell_type": "markdown",
   "id": "4afc8590",
   "metadata": {},
   "source": [
    "# **Проект исследования вакансий Junior аналитиков с сайта LinkedIn**"
   ]
  },
  {
   "cell_type": "markdown",
   "id": "57777595",
   "metadata": {},
   "source": [
    "## **Цель исследования**\n",
    "\n",
    "Визуализировать информацию о рынке вакансий для аналитиков в Европе, в разрезе:\n",
    "- по стране и по типу занятости\n",
    "- общее количество вакансий\n",
    "- нанимающих компаний с указанием количества вакансий,\n",
    "- ТОП 10 сфер деятельности компаний, которые нанимают аналитиков\n",
    "- размер компаний и количество вакансий\n",
    "- требуемые хард скилы\n",
    "- Дополнительно (необязательно) - зависимость количества кандидатов на вакансию от даты публикации\n"
   ]
  },
  {
   "cell_type": "markdown",
   "id": "ffee1f99",
   "metadata": {},
   "source": [
    "### **Описание  данных:**\n",
    "\n",
    "Предоставлен датасет с сырыми данными после парсинга сайта LinkedIn, который необходимо обработать и создать датасет, содержащий:\n",
    "- наименование вакансии\n",
    "- город\n",
    "- страна\n",
    "- тип занятости (online, hybride, on-site)\n",
    "- компания\n",
    "- размер компании (количество работников)\n",
    "- сфера деятельности компании\n",
    "- требуемые хард скилы\n",
    "- дата публикации вакансии\n",
    "- количество кандидатов на вакансию"
   ]
  },
  {
   "cell_type": "markdown",
   "id": "a07697a4",
   "metadata": {},
   "source": [
    "### **План исследования**\n",
    "\n",
    "Работать будем в следующем порядке:\n",
    "- обработка исходного файла и выделение в нем требуемых признаков\n",
    "- проверка наличия дубликатов\n",
    "- проверка наличия нерелевантных вакансий\n",
    "- удаление ненужных атрибутов\n",
    "- создание дашборда"
   ]
  },
  {
   "cell_type": "code",
   "execution_count": 31,
   "id": "c43ef9fa",
   "metadata": {},
   "outputs": [],
   "source": [
    "# перед началом работы импортируем библиотеки, которые могут понадобиться в работе над проектом\n",
    "\n",
    "import pandas as pd\n",
    "import math\n",
    "import numpy as np\n",
    "from matplotlib import pyplot as plt\n",
    "import seaborn as sns\n",
    "import scipy.stats as stats\n",
    "from urllib.parse import urlencode \n",
    "import re\n",
    "import requests\n",
    "from calendar import day_name\n",
    "import plotly\n",
    "import plotly.graph_objects as go\n",
    "import plotly.express as px\n",
    "\n",
    "%matplotlib inline"
   ]
  },
  {
   "cell_type": "code",
   "execution_count": 87,
   "id": "9701293b",
   "metadata": {},
   "outputs": [],
   "source": [
    "# будем отображать цифры без экспоненты и только с 2 знаками после запятой\n",
    "pd.options.display.float_format ='{:,.2f}'.format"
   ]
  },
  {
   "cell_type": "markdown",
   "id": "1fcbd92d",
   "metadata": {},
   "source": [
    "## **Импорт данных**"
   ]
  },
  {
   "cell_type": "code",
   "execution_count": 2,
   "id": "9c2f4711",
   "metadata": {},
   "outputs": [],
   "source": [
    "# используя конструкцию try-ecxept для возможности открыть локально и с внешнего источника\n",
    "try:\n",
    "    df = pd.read_excel(r'C:\\Users\\rosto\\OneDrive\\Документы\\Аналитика\\data_for_Sigma.xlsx')\n",
    "    \n",
    "except:\n",
    "\n",
    "    # используем api\n",
    "    base_url = 'https://cloud-api.yandex.net/v1/disk/public/resources/download?'\n",
    "    public_key = 'https://disk.yandex.ru/i/HAryA9iCXncGdw'\n",
    "    # получаем url\n",
    "    final_url = base_url + urlencode(dict(public_key=public_key))\n",
    "    response = requests.get(final_url)\n",
    "    download_url = response.json()['href']\n",
    "    # загружаем файл в df\n",
    "    download_response = requests.get(download_url)\n",
    "    mark_events = pd.read_excel(download_url)"
   ]
  },
  {
   "cell_type": "markdown",
   "id": "16650937",
   "metadata": {},
   "source": [
    "# **Общий вывод исследования**"
   ]
  },
  {
   "cell_type": "markdown",
   "id": "7f190fe4",
   "metadata": {},
   "source": [
    "В целом по исследованным данным можно сделать следующие выводы:\n",
    "- подавляющая часть трафика на сайт это платный рекламный трафик\n",
    "- трафик благодаря органическому поиску дает в 10 раз меньший трафик, чем рекламный\n",
    "- рекламный трафик, как мы видели и в данных Директа неравномерный по дням, есть высокие пики, есть отсутствие заходов на сайт вообще\n",
    "- самые популярные кампании те, которые касаются поиска ФН, у этих же кампаний большая глубина просмотра и среднее время на сайте\n",
    "- у кампаний из РСЯ высокий % отказов и как правило короткие сессии\n",
    "- визитов из РСЯ в 2 раза больше, чем из платного поиска, но эти визиты очень короткие, с высоким % отказов и низкой глубиной просмотра\n",
    "- есть список платформ из РСЯ, которые необходимо исключить из показов. Показов станет меньше, но их эффективность повысится\n",
    "- ¾ посетителей сайта заходят и уходят с него с одной и той же страницы, проводя на ней около 1 минуты. Больше всего времени проводят на страницах аренды, меньше всего на страницах ФН во Владимире и кассы Эвотор 7-3\n",
    "- самая высокая конверсия (выше 10%)  в действие клик по номеру телефона – у страниц информации по ФН. У всех остальных страниц конверсия около 1%\n"
   ]
  }
 ],
 "metadata": {
  "kernelspec": {
   "display_name": "Python 3 (ipykernel)",
   "language": "python",
   "name": "python3"
  },
  "language_info": {
   "codemirror_mode": {
    "name": "ipython",
    "version": 3
   },
   "file_extension": ".py",
   "mimetype": "text/x-python",
   "name": "python",
   "nbconvert_exporter": "python",
   "pygments_lexer": "ipython3",
   "version": "3.11.2"
  },
  "toc": {
   "base_numbering": 1,
   "nav_menu": {},
   "number_sections": true,
   "sideBar": true,
   "skip_h1_title": false,
   "title_cell": "Table of Contents",
   "title_sidebar": "Contents",
   "toc_cell": false,
   "toc_position": {
    "height": "calc(100% - 180px)",
    "left": "10px",
    "top": "150px",
    "width": "503px"
   },
   "toc_section_display": true,
   "toc_window_display": true
  },
  "varInspector": {
   "cols": {
    "lenName": 16,
    "lenType": 16,
    "lenVar": 40
   },
   "kernels_config": {
    "python": {
     "delete_cmd_postfix": "",
     "delete_cmd_prefix": "del ",
     "library": "var_list.py",
     "varRefreshCmd": "print(var_dic_list())"
    },
    "r": {
     "delete_cmd_postfix": ") ",
     "delete_cmd_prefix": "rm(",
     "library": "var_list.r",
     "varRefreshCmd": "cat(var_dic_list()) "
    }
   },
   "types_to_exclude": [
    "module",
    "function",
    "builtin_function_or_method",
    "instance",
    "_Feature"
   ],
   "window_display": false
  }
 },
 "nbformat": 4,
 "nbformat_minor": 5
}
